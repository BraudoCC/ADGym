{
 "cells": [
  {
   "cell_type": "code",
   "execution_count": 1,
   "metadata": {
    "ExecuteTime": {
     "end_time": "2022-11-06T12:06:50.036018Z",
     "start_time": "2022-11-06T12:06:48.529030Z"
    }
   },
   "outputs": [],
   "source": [
    "import os\n",
    "import numpy as np\n",
    "import pandas as pd\n",
    "from itertools import product\n",
    "from tqdm import tqdm\n",
    "\n",
    "from data_generator import DataGenerator\n",
    "from components import Components"
   ]
  },
  {
   "cell_type": "code",
   "execution_count": 2,
   "metadata": {
    "ExecuteTime": {
     "end_time": "2022-11-06T12:06:50.051455Z",
     "start_time": "2022-11-06T12:06:50.036018Z"
    }
   },
   "outputs": [],
   "source": [
    "# X_train = np.random.randn(1000, 6)\n",
    "# X_test = np.random.randn(1000, 6)\n",
    "\n",
    "# y_train = np.random.choice([0,1], 1000)\n",
    "# y_test = np.random.choice([0,1], 1000)\n",
    "\n",
    "# data = {'X_train': X_train, 'y_train':y_train, 'X_test':X_test, 'y_test':y_test}\n",
    "\n",
    "\n",
    "data_generator = DataGenerator(dataset='6_cardio')\n",
    "data = data_generator.generator(la=1.00)"
   ]
  },
  {
   "cell_type": "code",
   "execution_count": 3,
   "metadata": {
    "ExecuteTime": {
     "end_time": "2022-11-06T12:06:50.067413Z",
     "start_time": "2022-11-06T12:06:50.054449Z"
    }
   },
   "outputs": [
    {
     "name": "stdout",
     "output_type": "stream",
     "text": [
      "{'augmentation': ['None'], 'preprocess': ['minmax', 'normalize'], 'network_name': ['MLP', 'AE', 'ResNet', 'FTT'], 'training_strategy': ['None'], 'loss_name': ['minus', 'inverse', 'hinge', 'deviation'], 'optimizer_name': ['SGD', 'Adam', 'RMSprop']}\n"
     ]
    }
   ],
   "source": [
    "com = Components()\n",
    "print(com.gym())\n",
    "gyms = list(product(*list(com.gym().values())))"
   ]
  },
  {
   "cell_type": "code",
   "execution_count": 6,
   "metadata": {
    "ExecuteTime": {
     "end_time": "2022-11-06T12:07:33.897928Z",
     "start_time": "2022-11-06T12:07:33.878977Z"
    }
   },
   "outputs": [],
   "source": [
    "df_results = pd.DataFrame(data=None, index=gyms, columns=['AUC-ROC', 'AUC-PR'])"
   ]
  },
  {
   "cell_type": "code",
   "execution_count": null,
   "metadata": {
    "ExecuteTime": {
     "start_time": "2022-11-06T12:07:33.980Z"
    }
   },
   "outputs": [
    {
     "name": "stderr",
     "output_type": "stream",
     "text": [
      "\r",
      "  0%|                                                                                           | 0/96 [00:00<?, ?it/s]"
     ]
    }
   ],
   "source": [
    "for i in tqdm(range(len(gyms))):\n",
    "    com = Components(data=data,\n",
    "                     augmentation=gyms[i][0],\n",
    "                     preprocess=gyms[i][1],\n",
    "                     network_name=gyms[i][2],\n",
    "                     training_strategy=gyms[i][3],\n",
    "                     loss_name=gyms[i][4],\n",
    "                     optimizer_name=gyms[i][5])\n",
    "\n",
    "    try:\n",
    "        com.f_train()\n",
    "        metrics = com.f_predict_score()\n",
    "\n",
    "        df_results.iloc[i, 0] = metrics['aucroc']\n",
    "        df_results.iloc[i, 1] = metrics['aucpr']\n",
    "    except:\n",
    "        pass\n",
    "        continue"
   ]
  },
  {
   "cell_type": "code",
   "execution_count": null,
   "metadata": {},
   "outputs": [],
   "source": []
  }
 ],
 "metadata": {
  "kernelspec": {
   "display_name": "Python 3",
   "language": "python",
   "name": "python3"
  },
  "language_info": {
   "codemirror_mode": {
    "name": "ipython",
    "version": 3
   },
   "file_extension": ".py",
   "mimetype": "text/x-python",
   "name": "python",
   "nbconvert_exporter": "python",
   "pygments_lexer": "ipython3",
   "version": "3.7.7"
  },
  "toc": {
   "base_numbering": 1,
   "nav_menu": {},
   "number_sections": true,
   "sideBar": true,
   "skip_h1_title": false,
   "title_cell": "Table of Contents",
   "title_sidebar": "Contents",
   "toc_cell": false,
   "toc_position": {},
   "toc_section_display": true,
   "toc_window_display": false
  },
  "varInspector": {
   "cols": {
    "lenName": 16,
    "lenType": 16,
    "lenVar": 40
   },
   "kernels_config": {
    "python": {
     "delete_cmd_postfix": "",
     "delete_cmd_prefix": "del ",
     "library": "var_list.py",
     "varRefreshCmd": "print(var_dic_list())"
    },
    "r": {
     "delete_cmd_postfix": ") ",
     "delete_cmd_prefix": "rm(",
     "library": "var_list.r",
     "varRefreshCmd": "cat(var_dic_list()) "
    }
   },
   "types_to_exclude": [
    "module",
    "function",
    "builtin_function_or_method",
    "instance",
    "_Feature"
   ],
   "window_display": false
  }
 },
 "nbformat": 4,
 "nbformat_minor": 4
}
