{
 "cells": [
  {
   "cell_type": "code",
   "execution_count": 1,
   "metadata": {
    "ExecuteTime": {
     "end_time": "2022-11-06T12:29:15.685002Z",
     "start_time": "2022-11-06T12:29:13.846121Z"
    }
   },
   "outputs": [],
   "source": [
    "import os\n",
    "import numpy as np\n",
    "import pandas as pd\n",
    "from itertools import product\n",
    "from tqdm import tqdm\n",
    "\n",
    "from data_generator import DataGenerator\n",
    "from components import Components"
   ]
  },
  {
   "cell_type": "code",
   "execution_count": 2,
   "metadata": {
    "ExecuteTime": {
     "end_time": "2022-11-06T12:29:15.715958Z",
     "start_time": "2022-11-06T12:29:15.686997Z"
    }
   },
   "outputs": [],
   "source": [
    "# X_train = np.random.randn(1000, 6)\n",
    "# X_test = np.random.randn(1000, 6)\n",
    "\n",
    "# y_train = np.random.choice([0,1], 1000)\n",
    "# y_test = np.random.choice([0,1], 1000)\n",
    "\n",
    "# data = {'X_train': X_train, 'y_train':y_train, 'X_test':X_test, 'y_test':y_test}\n",
    "\n",
    "\n",
    "data_generator = DataGenerator(dataset='6_cardio')\n",
    "data = data_generator.generator(la=0.10)"
   ]
  },
  {
   "cell_type": "code",
   "execution_count": 3,
   "metadata": {
    "ExecuteTime": {
     "end_time": "2022-11-06T12:29:15.731877Z",
     "start_time": "2022-11-06T12:29:15.717915Z"
    }
   },
   "outputs": [
    {
     "name": "stdout",
     "output_type": "stream",
     "text": [
      "{'augmentation': ['None'], 'preprocess': ['minmax', 'normalize'], 'network_name': ['MLP', 'AE', 'ResNet', 'FTT'], 'training_strategy': ['None'], 'loss_name': ['minus', 'inverse', 'hinge', 'deviation'], 'optimizer_name': ['SGD', 'Adam', 'RMSprop']}\n"
     ]
    }
   ],
   "source": [
    "com = Components()\n",
    "print(com.gym())\n",
    "gyms = list(product(*list(com.gym().values())))"
   ]
  },
  {
   "cell_type": "code",
   "execution_count": 4,
   "metadata": {
    "ExecuteTime": {
     "end_time": "2022-11-06T12:29:15.747836Z",
     "start_time": "2022-11-06T12:29:15.734869Z"
    }
   },
   "outputs": [],
   "source": [
    "df_results = pd.DataFrame(data=None, index=gyms, columns=['AUC-ROC', 'AUC-PR'])"
   ]
  },
  {
   "cell_type": "code",
   "execution_count": null,
   "metadata": {
    "ExecuteTime": {
     "start_time": "2022-11-06T12:29:13.828Z"
    }
   },
   "outputs": [
    {
     "name": "stderr",
     "output_type": "stream",
     "text": [
      "  1%|▊                                                                                  | 1/96 [00:04<06:55,  4.37s/it]"
     ]
    },
    {
     "name": "stdout",
     "output_type": "stream",
     "text": [
      "Current combination: ('None', 'minmax', 'MLP', 'None', 'minus', 'SGD'), training sucessfully.\n"
     ]
    },
    {
     "name": "stderr",
     "output_type": "stream",
     "text": [
      "\r",
      "  2%|█▋                                                                                 | 2/96 [00:09<07:29,  4.78s/it]"
     ]
    },
    {
     "name": "stdout",
     "output_type": "stream",
     "text": [
      "Current combination: ('None', 'minmax', 'MLP', 'None', 'minus', 'Adam'), training sucessfully.\n"
     ]
    },
    {
     "name": "stderr",
     "output_type": "stream",
     "text": [
      "\r",
      "  3%|██▌                                                                                | 3/96 [00:13<07:04,  4.56s/it]"
     ]
    },
    {
     "name": "stdout",
     "output_type": "stream",
     "text": [
      "Current combination: ('None', 'minmax', 'MLP', 'None', 'minus', 'RMSprop'), training sucessfully.\n"
     ]
    },
    {
     "name": "stderr",
     "output_type": "stream",
     "text": [
      "\r",
      "  4%|███▍                                                                               | 4/96 [00:17<06:36,  4.31s/it]"
     ]
    },
    {
     "name": "stdout",
     "output_type": "stream",
     "text": [
      "Current combination: ('None', 'minmax', 'MLP', 'None', 'inverse', 'SGD'), training sucessfully.\n"
     ]
    },
    {
     "name": "stderr",
     "output_type": "stream",
     "text": [
      "\r",
      "  5%|████▎                                                                              | 5/96 [00:23<07:15,  4.78s/it]"
     ]
    },
    {
     "name": "stdout",
     "output_type": "stream",
     "text": [
      "Current combination: ('None', 'minmax', 'MLP', 'None', 'inverse', 'Adam'), training sucessfully.\n"
     ]
    },
    {
     "name": "stderr",
     "output_type": "stream",
     "text": [
      "\r",
      "  6%|█████▏                                                                             | 6/96 [00:28<07:12,  4.80s/it]"
     ]
    },
    {
     "name": "stdout",
     "output_type": "stream",
     "text": [
      "Current combination: ('None', 'minmax', 'MLP', 'None', 'inverse', 'RMSprop'), training sucessfully.\n"
     ]
    },
    {
     "name": "stderr",
     "output_type": "stream",
     "text": [
      "\r",
      "  7%|██████                                                                             | 7/96 [00:32<06:43,  4.53s/it]"
     ]
    },
    {
     "name": "stdout",
     "output_type": "stream",
     "text": [
      "Current combination: ('None', 'minmax', 'MLP', 'None', 'hinge', 'SGD'), training sucessfully.\n"
     ]
    },
    {
     "name": "stderr",
     "output_type": "stream",
     "text": [
      "\r",
      "  8%|██████▉                                                                            | 8/96 [00:37<07:10,  4.89s/it]"
     ]
    },
    {
     "name": "stdout",
     "output_type": "stream",
     "text": [
      "Current combination: ('None', 'minmax', 'MLP', 'None', 'hinge', 'Adam'), training sucessfully.\n"
     ]
    },
    {
     "name": "stderr",
     "output_type": "stream",
     "text": [
      "\r",
      "  9%|███████▊                                                                           | 9/96 [00:42<07:14,  5.00s/it]"
     ]
    },
    {
     "name": "stdout",
     "output_type": "stream",
     "text": [
      "Current combination: ('None', 'minmax', 'MLP', 'None', 'hinge', 'RMSprop'), training sucessfully.\n"
     ]
    },
    {
     "name": "stderr",
     "output_type": "stream",
     "text": [
      "\r",
      " 10%|████████▌                                                                         | 10/96 [00:49<08:01,  5.60s/it]"
     ]
    },
    {
     "name": "stdout",
     "output_type": "stream",
     "text": [
      "Current combination: ('None', 'minmax', 'MLP', 'None', 'deviation', 'SGD'), training sucessfully.\n"
     ]
    },
    {
     "name": "stderr",
     "output_type": "stream",
     "text": [
      "\r",
      " 11%|█████████▍                                                                        | 11/96 [00:57<08:53,  6.27s/it]"
     ]
    },
    {
     "name": "stdout",
     "output_type": "stream",
     "text": [
      "Current combination: ('None', 'minmax', 'MLP', 'None', 'deviation', 'Adam'), training sucessfully.\n"
     ]
    },
    {
     "name": "stderr",
     "output_type": "stream",
     "text": [
      "\r",
      " 12%|██████████▎                                                                       | 12/96 [01:03<08:29,  6.07s/it]"
     ]
    },
    {
     "name": "stdout",
     "output_type": "stream",
     "text": [
      "Current combination: ('None', 'minmax', 'MLP', 'None', 'deviation', 'RMSprop'), training sucessfully.\n"
     ]
    },
    {
     "name": "stderr",
     "output_type": "stream",
     "text": [
      "\r",
      " 14%|███████████                                                                       | 13/96 [01:11<09:08,  6.61s/it]"
     ]
    },
    {
     "name": "stdout",
     "output_type": "stream",
     "text": [
      "Current combination: ('None', 'minmax', 'AE', 'None', 'minus', 'SGD'), training sucessfully.\n"
     ]
    },
    {
     "name": "stderr",
     "output_type": "stream",
     "text": [
      "\r",
      " 15%|███████████▉                                                                      | 14/96 [01:25<12:11,  8.92s/it]"
     ]
    },
    {
     "name": "stdout",
     "output_type": "stream",
     "text": [
      "Current combination: ('None', 'minmax', 'AE', 'None', 'minus', 'Adam'), training sucessfully.\n"
     ]
    },
    {
     "name": "stderr",
     "output_type": "stream",
     "text": [
      "\r",
      " 16%|████████████▊                                                                     | 15/96 [01:34<12:14,  9.07s/it]"
     ]
    },
    {
     "name": "stdout",
     "output_type": "stream",
     "text": [
      "Current combination: ('None', 'minmax', 'AE', 'None', 'minus', 'RMSprop'), training sucessfully.\n"
     ]
    },
    {
     "name": "stderr",
     "output_type": "stream",
     "text": [
      "\r",
      " 17%|█████████████▋                                                                    | 16/96 [01:43<11:56,  8.96s/it]"
     ]
    },
    {
     "name": "stdout",
     "output_type": "stream",
     "text": [
      "Current combination: ('None', 'minmax', 'AE', 'None', 'inverse', 'SGD'), training sucessfully.\n"
     ]
    },
    {
     "name": "stderr",
     "output_type": "stream",
     "text": [
      "\r",
      " 18%|██████████████▌                                                                   | 17/96 [01:56<13:15, 10.06s/it]"
     ]
    },
    {
     "name": "stdout",
     "output_type": "stream",
     "text": [
      "Current combination: ('None', 'minmax', 'AE', 'None', 'inverse', 'Adam'), training sucessfully.\n"
     ]
    },
    {
     "name": "stderr",
     "output_type": "stream",
     "text": [
      "\r",
      " 19%|███████████████▍                                                                  | 18/96 [02:06<13:14, 10.19s/it]"
     ]
    },
    {
     "name": "stdout",
     "output_type": "stream",
     "text": [
      "Current combination: ('None', 'minmax', 'AE', 'None', 'inverse', 'RMSprop'), training sucessfully.\n"
     ]
    },
    {
     "name": "stderr",
     "output_type": "stream",
     "text": [
      "\r",
      " 20%|████████████████▏                                                                 | 19/96 [02:14<12:05,  9.43s/it]"
     ]
    },
    {
     "name": "stdout",
     "output_type": "stream",
     "text": [
      "Current combination: ('None', 'minmax', 'AE', 'None', 'hinge', 'SGD'), training sucessfully.\n"
     ]
    },
    {
     "name": "stderr",
     "output_type": "stream",
     "text": [
      "\r",
      " 21%|█████████████████                                                                 | 20/96 [02:26<12:59, 10.26s/it]"
     ]
    },
    {
     "name": "stdout",
     "output_type": "stream",
     "text": [
      "Current combination: ('None', 'minmax', 'AE', 'None', 'hinge', 'Adam'), training sucessfully.\n"
     ]
    },
    {
     "name": "stderr",
     "output_type": "stream",
     "text": [
      "\r",
      " 22%|█████████████████▉                                                                | 21/96 [02:36<12:40, 10.14s/it]"
     ]
    },
    {
     "name": "stdout",
     "output_type": "stream",
     "text": [
      "Current combination: ('None', 'minmax', 'AE', 'None', 'hinge', 'RMSprop'), training sucessfully.\n"
     ]
    },
    {
     "name": "stderr",
     "output_type": "stream",
     "text": [
      "\r",
      " 23%|██████████████████▊                                                               | 22/96 [02:44<11:41,  9.47s/it]"
     ]
    },
    {
     "name": "stdout",
     "output_type": "stream",
     "text": [
      "Current combination: ('None', 'minmax', 'AE', 'None', 'deviation', 'SGD'), training sucessfully.\n"
     ]
    },
    {
     "name": "stderr",
     "output_type": "stream",
     "text": [
      "\r",
      " 24%|███████████████████▋                                                              | 23/96 [02:55<12:14, 10.06s/it]"
     ]
    },
    {
     "name": "stdout",
     "output_type": "stream",
     "text": [
      "Current combination: ('None', 'minmax', 'AE', 'None', 'deviation', 'Adam'), training sucessfully.\n"
     ]
    },
    {
     "name": "stderr",
     "output_type": "stream",
     "text": [
      "\r",
      " 25%|████████████████████▌                                                             | 24/96 [03:05<12:05, 10.08s/it]"
     ]
    },
    {
     "name": "stdout",
     "output_type": "stream",
     "text": [
      "Current combination: ('None', 'minmax', 'AE', 'None', 'deviation', 'RMSprop'), training sucessfully.\n"
     ]
    },
    {
     "name": "stderr",
     "output_type": "stream",
     "text": [
      "\r",
      " 26%|█████████████████████▎                                                            | 25/96 [03:15<11:45,  9.94s/it]"
     ]
    },
    {
     "name": "stdout",
     "output_type": "stream",
     "text": [
      "Current combination: ('None', 'minmax', 'ResNet', 'None', 'minus', 'SGD'), training sucessfully.\n"
     ]
    },
    {
     "name": "stderr",
     "output_type": "stream",
     "text": [
      "\r",
      " 27%|██████████████████████▏                                                           | 26/96 [03:28<12:47, 10.97s/it]"
     ]
    },
    {
     "name": "stdout",
     "output_type": "stream",
     "text": [
      "Current combination: ('None', 'minmax', 'ResNet', 'None', 'minus', 'Adam'), training sucessfully.\n"
     ]
    },
    {
     "name": "stderr",
     "output_type": "stream",
     "text": [
      "\r",
      " 28%|███████████████████████                                                           | 27/96 [03:41<13:03, 11.36s/it]"
     ]
    },
    {
     "name": "stdout",
     "output_type": "stream",
     "text": [
      "Current combination: ('None', 'minmax', 'ResNet', 'None', 'minus', 'RMSprop'), training sucessfully.\n"
     ]
    },
    {
     "name": "stderr",
     "output_type": "stream",
     "text": [
      "\r",
      " 29%|███████████████████████▉                                                          | 28/96 [03:51<12:26, 10.97s/it]"
     ]
    },
    {
     "name": "stdout",
     "output_type": "stream",
     "text": [
      "Current combination: ('None', 'minmax', 'ResNet', 'None', 'inverse', 'SGD'), training sucessfully.\n"
     ]
    },
    {
     "name": "stderr",
     "output_type": "stream",
     "text": [
      "\r",
      " 30%|████████████████████████▊                                                         | 29/96 [04:04<13:11, 11.81s/it]"
     ]
    },
    {
     "name": "stdout",
     "output_type": "stream",
     "text": [
      "Current combination: ('None', 'minmax', 'ResNet', 'None', 'inverse', 'Adam'), training sucessfully.\n"
     ]
    },
    {
     "name": "stderr",
     "output_type": "stream",
     "text": [
      "\r",
      " 31%|█████████████████████████▋                                                        | 30/96 [04:16<13:03, 11.87s/it]"
     ]
    },
    {
     "name": "stdout",
     "output_type": "stream",
     "text": [
      "Current combination: ('None', 'minmax', 'ResNet', 'None', 'inverse', 'RMSprop'), training sucessfully.\n"
     ]
    },
    {
     "name": "stderr",
     "output_type": "stream",
     "text": [
      "\r",
      " 32%|██████████████████████████▍                                                       | 31/96 [04:26<12:05, 11.16s/it]"
     ]
    },
    {
     "name": "stdout",
     "output_type": "stream",
     "text": [
      "Current combination: ('None', 'minmax', 'ResNet', 'None', 'hinge', 'SGD'), training sucessfully.\n"
     ]
    },
    {
     "name": "stderr",
     "output_type": "stream",
     "text": [
      "\r",
      " 33%|███████████████████████████▎                                                      | 32/96 [04:39<12:33, 11.77s/it]"
     ]
    },
    {
     "name": "stdout",
     "output_type": "stream",
     "text": [
      "Current combination: ('None', 'minmax', 'ResNet', 'None', 'hinge', 'Adam'), training sucessfully.\n"
     ]
    },
    {
     "name": "stderr",
     "output_type": "stream",
     "text": [
      "\r",
      " 34%|████████████████████████████▏                                                     | 33/96 [04:51<12:18, 11.72s/it]"
     ]
    },
    {
     "name": "stdout",
     "output_type": "stream",
     "text": [
      "Current combination: ('None', 'minmax', 'ResNet', 'None', 'hinge', 'RMSprop'), training sucessfully.\n"
     ]
    },
    {
     "name": "stderr",
     "output_type": "stream",
     "text": [
      "\r",
      " 35%|█████████████████████████████                                                     | 34/96 [05:01<11:35, 11.23s/it]"
     ]
    },
    {
     "name": "stdout",
     "output_type": "stream",
     "text": [
      "Current combination: ('None', 'minmax', 'ResNet', 'None', 'deviation', 'SGD'), training sucessfully.\n"
     ]
    },
    {
     "name": "stderr",
     "output_type": "stream",
     "text": [
      "\r",
      " 36%|█████████████████████████████▉                                                    | 35/96 [05:15<12:14, 12.03s/it]"
     ]
    },
    {
     "name": "stdout",
     "output_type": "stream",
     "text": [
      "Current combination: ('None', 'minmax', 'ResNet', 'None', 'deviation', 'Adam'), training sucessfully.\n"
     ]
    },
    {
     "name": "stderr",
     "output_type": "stream",
     "text": [
      "\r",
      " 38%|██████████████████████████████▊                                                   | 36/96 [05:27<12:04, 12.08s/it]"
     ]
    },
    {
     "name": "stdout",
     "output_type": "stream",
     "text": [
      "Current combination: ('None', 'minmax', 'ResNet', 'None', 'deviation', 'RMSprop'), training sucessfully.\n"
     ]
    },
    {
     "name": "stderr",
     "output_type": "stream",
     "text": [
      "\r",
      " 39%|██████████████████████████████▊                                                 | 37/96 [09:52<1:26:30, 87.98s/it]"
     ]
    },
    {
     "name": "stdout",
     "output_type": "stream",
     "text": [
      "Current combination: ('None', 'minmax', 'FTT', 'None', 'minus', 'SGD'), training sucessfully.\n"
     ]
    }
   ],
   "source": [
    "for i in tqdm(range(len(gyms))):\n",
    "    com = Components(data=data,\n",
    "                     augmentation=gyms[i][0],\n",
    "                     preprocess=gyms[i][1],\n",
    "                     network_name=gyms[i][2],\n",
    "                     training_strategy=gyms[i][3],\n",
    "                     loss_name=gyms[i][4],\n",
    "                     optimizer_name=gyms[i][5])\n",
    "\n",
    "    try:\n",
    "        com.f_train()\n",
    "        metrics = com.f_predict_score()\n",
    "\n",
    "        df_results.iloc[i, 0] = metrics['aucroc']\n",
    "        df_results.iloc[i, 1] = metrics['aucpr']\n",
    "        \n",
    "        print(f'Current combination: {gyms[i]}, training sucessfully.')\n",
    "        \n",
    "    except:\n",
    "        print(f'Current combination: {gyms[i]}, training failure.')\n",
    "        pass\n",
    "        continue"
   ]
  },
  {
   "cell_type": "code",
   "execution_count": null,
   "metadata": {},
   "outputs": [],
   "source": []
  }
 ],
 "metadata": {
  "kernelspec": {
   "display_name": "Python 3",
   "language": "python",
   "name": "python3"
  },
  "language_info": {
   "codemirror_mode": {
    "name": "ipython",
    "version": 3
   },
   "file_extension": ".py",
   "mimetype": "text/x-python",
   "name": "python",
   "nbconvert_exporter": "python",
   "pygments_lexer": "ipython3",
   "version": "3.7.7"
  },
  "toc": {
   "base_numbering": 1,
   "nav_menu": {},
   "number_sections": true,
   "sideBar": true,
   "skip_h1_title": false,
   "title_cell": "Table of Contents",
   "title_sidebar": "Contents",
   "toc_cell": false,
   "toc_position": {},
   "toc_section_display": true,
   "toc_window_display": false
  },
  "varInspector": {
   "cols": {
    "lenName": 16,
    "lenType": 16,
    "lenVar": 40
   },
   "kernels_config": {
    "python": {
     "delete_cmd_postfix": "",
     "delete_cmd_prefix": "del ",
     "library": "var_list.py",
     "varRefreshCmd": "print(var_dic_list())"
    },
    "r": {
     "delete_cmd_postfix": ") ",
     "delete_cmd_prefix": "rm(",
     "library": "var_list.r",
     "varRefreshCmd": "cat(var_dic_list()) "
    }
   },
   "types_to_exclude": [
    "module",
    "function",
    "builtin_function_or_method",
    "instance",
    "_Feature"
   ],
   "window_display": false
  }
 },
 "nbformat": 4,
 "nbformat_minor": 4
}
