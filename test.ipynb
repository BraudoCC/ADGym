{
 "cells": [
  {
   "cell_type": "code",
   "execution_count": 1,
   "metadata": {
    "ExecuteTime": {
     "end_time": "2022-11-06T12:29:15.685002Z",
     "start_time": "2022-11-06T12:29:13.846121Z"
    }
   },
   "outputs": [],
   "source": [
    "import os\n",
    "import numpy as np\n",
    "import pandas as pd\n",
    "from itertools import product\n",
    "from tqdm import tqdm\n",
    "\n",
    "from data_generator import DataGenerator\n",
    "from components import Components"
   ]
  },
  {
   "cell_type": "code",
   "execution_count": 2,
   "metadata": {
    "ExecuteTime": {
     "end_time": "2022-11-06T12:29:15.715958Z",
     "start_time": "2022-11-06T12:29:15.686997Z"
    }
   },
   "outputs": [],
   "source": [
    "# X_train = np.random.randn(1000, 6)\n",
    "# X_test = np.random.randn(1000, 6)\n",
    "\n",
    "# y_train = np.random.choice([0,1], 1000)\n",
    "# y_test = np.random.choice([0,1], 1000)\n",
    "\n",
    "# data = {'X_train': X_train, 'y_train':y_train, 'X_test':X_test, 'y_test':y_test}\n",
    "\n",
    "\n",
    "data_generator = DataGenerator(dataset='6_cardio')\n",
    "data = data_generator.generator(la=0.10)"
   ]
  },
  {
   "cell_type": "code",
   "execution_count": 3,
   "metadata": {
    "ExecuteTime": {
     "end_time": "2022-11-06T12:29:15.731877Z",
     "start_time": "2022-11-06T12:29:15.717915Z"
    }
   },
   "outputs": [
    {
     "name": "stdout",
     "output_type": "stream",
     "text": [
      "{'augmentation': ['None'], 'preprocess': ['minmax', 'normalize'], 'network_name': ['MLP', 'AE', 'ResNet', 'FTT'], 'training_strategy': ['None'], 'loss_name': ['minus', 'inverse', 'hinge', 'deviation'], 'optimizer_name': ['SGD', 'Adam', 'RMSprop']}\n"
     ]
    }
   ],
   "source": [
    "com = Components()\n",
    "print(com.gym())\n",
    "gyms = list(product(*list(com.gym().values())))"
   ]
  },
  {
   "cell_type": "markdown",
   "metadata": {},
   "source": [
    "Detele some instances"
   ]
  },
  {
   "cell_type": "code",
   "execution_count": null,
   "metadata": {},
   "outputs": [],
   "source": [
    "# ResNet & FTT with none ReLU activation layers"
   ]
  },
  {
   "cell_type": "code",
   "execution_count": 4,
   "metadata": {
    "ExecuteTime": {
     "end_time": "2022-11-06T12:29:15.747836Z",
     "start_time": "2022-11-06T12:29:15.734869Z"
    }
   },
   "outputs": [],
   "source": [
    "df_results = pd.DataFrame(data=None, index=gyms, columns=['AUC-ROC', 'AUC-PR'])"
   ]
  },
  {
   "cell_type": "code",
   "execution_count": 5,
   "metadata": {
    "ExecuteTime": {
     "end_time": "2022-11-06T12:46:01.422319Z",
     "start_time": "2022-11-06T12:29:15.750829Z"
    }
   },
   "outputs": [
    {
     "name": "stderr",
     "output_type": "stream",
     "text": [
      "  1%|▊                                                                                  | 1/96 [00:04<06:55,  4.37s/it]"
     ]
    },
    {
     "name": "stdout",
     "output_type": "stream",
     "text": [
      "Current combination: ('None', 'minmax', 'MLP', 'None', 'minus', 'SGD'), training sucessfully.\n"
     ]
    },
    {
     "name": "stderr",
     "output_type": "stream",
     "text": [
      "\r",
      "  2%|█▋                                                                                 | 2/96 [00:09<07:29,  4.78s/it]"
     ]
    },
    {
     "name": "stdout",
     "output_type": "stream",
     "text": [
      "Current combination: ('None', 'minmax', 'MLP', 'None', 'minus', 'Adam'), training sucessfully.\n"
     ]
    },
    {
     "name": "stderr",
     "output_type": "stream",
     "text": [
      "\r",
      "  3%|██▌                                                                                | 3/96 [00:13<07:04,  4.56s/it]"
     ]
    },
    {
     "name": "stdout",
     "output_type": "stream",
     "text": [
      "Current combination: ('None', 'minmax', 'MLP', 'None', 'minus', 'RMSprop'), training sucessfully.\n"
     ]
    },
    {
     "name": "stderr",
     "output_type": "stream",
     "text": [
      "\r",
      "  4%|███▍                                                                               | 4/96 [00:17<06:36,  4.31s/it]"
     ]
    },
    {
     "name": "stdout",
     "output_type": "stream",
     "text": [
      "Current combination: ('None', 'minmax', 'MLP', 'None', 'inverse', 'SGD'), training sucessfully.\n"
     ]
    },
    {
     "name": "stderr",
     "output_type": "stream",
     "text": [
      "\r",
      "  5%|████▎                                                                              | 5/96 [00:23<07:15,  4.78s/it]"
     ]
    },
    {
     "name": "stdout",
     "output_type": "stream",
     "text": [
      "Current combination: ('None', 'minmax', 'MLP', 'None', 'inverse', 'Adam'), training sucessfully.\n"
     ]
    },
    {
     "name": "stderr",
     "output_type": "stream",
     "text": [
      "\r",
      "  6%|█████▏                                                                             | 6/96 [00:28<07:12,  4.80s/it]"
     ]
    },
    {
     "name": "stdout",
     "output_type": "stream",
     "text": [
      "Current combination: ('None', 'minmax', 'MLP', 'None', 'inverse', 'RMSprop'), training sucessfully.\n"
     ]
    },
    {
     "name": "stderr",
     "output_type": "stream",
     "text": [
      "\r",
      "  7%|██████                                                                             | 7/96 [00:32<06:43,  4.53s/it]"
     ]
    },
    {
     "name": "stdout",
     "output_type": "stream",
     "text": [
      "Current combination: ('None', 'minmax', 'MLP', 'None', 'hinge', 'SGD'), training sucessfully.\n"
     ]
    },
    {
     "name": "stderr",
     "output_type": "stream",
     "text": [
      "\r",
      "  8%|██████▉                                                                            | 8/96 [00:37<07:10,  4.89s/it]"
     ]
    },
    {
     "name": "stdout",
     "output_type": "stream",
     "text": [
      "Current combination: ('None', 'minmax', 'MLP', 'None', 'hinge', 'Adam'), training sucessfully.\n"
     ]
    },
    {
     "name": "stderr",
     "output_type": "stream",
     "text": [
      "\r",
      "  9%|███████▊                                                                           | 9/96 [00:42<07:14,  5.00s/it]"
     ]
    },
    {
     "name": "stdout",
     "output_type": "stream",
     "text": [
      "Current combination: ('None', 'minmax', 'MLP', 'None', 'hinge', 'RMSprop'), training sucessfully.\n"
     ]
    },
    {
     "name": "stderr",
     "output_type": "stream",
     "text": [
      "\r",
      " 10%|████████▌                                                                         | 10/96 [00:49<08:01,  5.60s/it]"
     ]
    },
    {
     "name": "stdout",
     "output_type": "stream",
     "text": [
      "Current combination: ('None', 'minmax', 'MLP', 'None', 'deviation', 'SGD'), training sucessfully.\n"
     ]
    },
    {
     "name": "stderr",
     "output_type": "stream",
     "text": [
      "\r",
      " 11%|█████████▍                                                                        | 11/96 [00:57<08:53,  6.27s/it]"
     ]
    },
    {
     "name": "stdout",
     "output_type": "stream",
     "text": [
      "Current combination: ('None', 'minmax', 'MLP', 'None', 'deviation', 'Adam'), training sucessfully.\n"
     ]
    },
    {
     "name": "stderr",
     "output_type": "stream",
     "text": [
      "\r",
      " 12%|██████████▎                                                                       | 12/96 [01:03<08:29,  6.07s/it]"
     ]
    },
    {
     "name": "stdout",
     "output_type": "stream",
     "text": [
      "Current combination: ('None', 'minmax', 'MLP', 'None', 'deviation', 'RMSprop'), training sucessfully.\n"
     ]
    },
    {
     "name": "stderr",
     "output_type": "stream",
     "text": [
      "\r",
      " 14%|███████████                                                                       | 13/96 [01:11<09:08,  6.61s/it]"
     ]
    },
    {
     "name": "stdout",
     "output_type": "stream",
     "text": [
      "Current combination: ('None', 'minmax', 'AE', 'None', 'minus', 'SGD'), training sucessfully.\n"
     ]
    },
    {
     "name": "stderr",
     "output_type": "stream",
     "text": [
      "\r",
      " 15%|███████████▉                                                                      | 14/96 [01:25<12:11,  8.92s/it]"
     ]
    },
    {
     "name": "stdout",
     "output_type": "stream",
     "text": [
      "Current combination: ('None', 'minmax', 'AE', 'None', 'minus', 'Adam'), training sucessfully.\n"
     ]
    },
    {
     "name": "stderr",
     "output_type": "stream",
     "text": [
      "\r",
      " 16%|████████████▊                                                                     | 15/96 [01:34<12:14,  9.07s/it]"
     ]
    },
    {
     "name": "stdout",
     "output_type": "stream",
     "text": [
      "Current combination: ('None', 'minmax', 'AE', 'None', 'minus', 'RMSprop'), training sucessfully.\n"
     ]
    },
    {
     "name": "stderr",
     "output_type": "stream",
     "text": [
      "\r",
      " 17%|█████████████▋                                                                    | 16/96 [01:43<11:56,  8.96s/it]"
     ]
    },
    {
     "name": "stdout",
     "output_type": "stream",
     "text": [
      "Current combination: ('None', 'minmax', 'AE', 'None', 'inverse', 'SGD'), training sucessfully.\n"
     ]
    },
    {
     "name": "stderr",
     "output_type": "stream",
     "text": [
      "\r",
      " 18%|██████████████▌                                                                   | 17/96 [01:56<13:15, 10.06s/it]"
     ]
    },
    {
     "name": "stdout",
     "output_type": "stream",
     "text": [
      "Current combination: ('None', 'minmax', 'AE', 'None', 'inverse', 'Adam'), training sucessfully.\n"
     ]
    },
    {
     "name": "stderr",
     "output_type": "stream",
     "text": [
      "\r",
      " 19%|███████████████▍                                                                  | 18/96 [02:06<13:14, 10.19s/it]"
     ]
    },
    {
     "name": "stdout",
     "output_type": "stream",
     "text": [
      "Current combination: ('None', 'minmax', 'AE', 'None', 'inverse', 'RMSprop'), training sucessfully.\n"
     ]
    },
    {
     "name": "stderr",
     "output_type": "stream",
     "text": [
      "\r",
      " 20%|████████████████▏                                                                 | 19/96 [02:14<12:05,  9.43s/it]"
     ]
    },
    {
     "name": "stdout",
     "output_type": "stream",
     "text": [
      "Current combination: ('None', 'minmax', 'AE', 'None', 'hinge', 'SGD'), training sucessfully.\n"
     ]
    },
    {
     "name": "stderr",
     "output_type": "stream",
     "text": [
      "\r",
      " 21%|█████████████████                                                                 | 20/96 [02:26<12:59, 10.26s/it]"
     ]
    },
    {
     "name": "stdout",
     "output_type": "stream",
     "text": [
      "Current combination: ('None', 'minmax', 'AE', 'None', 'hinge', 'Adam'), training sucessfully.\n"
     ]
    },
    {
     "name": "stderr",
     "output_type": "stream",
     "text": [
      "\r",
      " 22%|█████████████████▉                                                                | 21/96 [02:36<12:40, 10.14s/it]"
     ]
    },
    {
     "name": "stdout",
     "output_type": "stream",
     "text": [
      "Current combination: ('None', 'minmax', 'AE', 'None', 'hinge', 'RMSprop'), training sucessfully.\n"
     ]
    },
    {
     "name": "stderr",
     "output_type": "stream",
     "text": [
      "\r",
      " 23%|██████████████████▊                                                               | 22/96 [02:44<11:41,  9.47s/it]"
     ]
    },
    {
     "name": "stdout",
     "output_type": "stream",
     "text": [
      "Current combination: ('None', 'minmax', 'AE', 'None', 'deviation', 'SGD'), training sucessfully.\n"
     ]
    },
    {
     "name": "stderr",
     "output_type": "stream",
     "text": [
      "\r",
      " 24%|███████████████████▋                                                              | 23/96 [02:55<12:14, 10.06s/it]"
     ]
    },
    {
     "name": "stdout",
     "output_type": "stream",
     "text": [
      "Current combination: ('None', 'minmax', 'AE', 'None', 'deviation', 'Adam'), training sucessfully.\n"
     ]
    },
    {
     "name": "stderr",
     "output_type": "stream",
     "text": [
      "\r",
      " 25%|████████████████████▌                                                             | 24/96 [03:05<12:05, 10.08s/it]"
     ]
    },
    {
     "name": "stdout",
     "output_type": "stream",
     "text": [
      "Current combination: ('None', 'minmax', 'AE', 'None', 'deviation', 'RMSprop'), training sucessfully.\n"
     ]
    },
    {
     "name": "stderr",
     "output_type": "stream",
     "text": [
      "\r",
      " 26%|█████████████████████▎                                                            | 25/96 [03:15<11:45,  9.94s/it]"
     ]
    },
    {
     "name": "stdout",
     "output_type": "stream",
     "text": [
      "Current combination: ('None', 'minmax', 'ResNet', 'None', 'minus', 'SGD'), training sucessfully.\n"
     ]
    },
    {
     "name": "stderr",
     "output_type": "stream",
     "text": [
      "\r",
      " 27%|██████████████████████▏                                                           | 26/96 [03:28<12:47, 10.97s/it]"
     ]
    },
    {
     "name": "stdout",
     "output_type": "stream",
     "text": [
      "Current combination: ('None', 'minmax', 'ResNet', 'None', 'minus', 'Adam'), training sucessfully.\n"
     ]
    },
    {
     "name": "stderr",
     "output_type": "stream",
     "text": [
      "\r",
      " 28%|███████████████████████                                                           | 27/96 [03:41<13:03, 11.36s/it]"
     ]
    },
    {
     "name": "stdout",
     "output_type": "stream",
     "text": [
      "Current combination: ('None', 'minmax', 'ResNet', 'None', 'minus', 'RMSprop'), training sucessfully.\n"
     ]
    },
    {
     "name": "stderr",
     "output_type": "stream",
     "text": [
      "\r",
      " 29%|███████████████████████▉                                                          | 28/96 [03:51<12:26, 10.97s/it]"
     ]
    },
    {
     "name": "stdout",
     "output_type": "stream",
     "text": [
      "Current combination: ('None', 'minmax', 'ResNet', 'None', 'inverse', 'SGD'), training sucessfully.\n"
     ]
    },
    {
     "name": "stderr",
     "output_type": "stream",
     "text": [
      "\r",
      " 30%|████████████████████████▊                                                         | 29/96 [04:04<13:11, 11.81s/it]"
     ]
    },
    {
     "name": "stdout",
     "output_type": "stream",
     "text": [
      "Current combination: ('None', 'minmax', 'ResNet', 'None', 'inverse', 'Adam'), training sucessfully.\n"
     ]
    },
    {
     "name": "stderr",
     "output_type": "stream",
     "text": [
      "\r",
      " 31%|█████████████████████████▋                                                        | 30/96 [04:16<13:03, 11.87s/it]"
     ]
    },
    {
     "name": "stdout",
     "output_type": "stream",
     "text": [
      "Current combination: ('None', 'minmax', 'ResNet', 'None', 'inverse', 'RMSprop'), training sucessfully.\n"
     ]
    },
    {
     "name": "stderr",
     "output_type": "stream",
     "text": [
      "\r",
      " 32%|██████████████████████████▍                                                       | 31/96 [04:26<12:05, 11.16s/it]"
     ]
    },
    {
     "name": "stdout",
     "output_type": "stream",
     "text": [
      "Current combination: ('None', 'minmax', 'ResNet', 'None', 'hinge', 'SGD'), training sucessfully.\n"
     ]
    },
    {
     "name": "stderr",
     "output_type": "stream",
     "text": [
      "\r",
      " 33%|███████████████████████████▎                                                      | 32/96 [04:39<12:33, 11.77s/it]"
     ]
    },
    {
     "name": "stdout",
     "output_type": "stream",
     "text": [
      "Current combination: ('None', 'minmax', 'ResNet', 'None', 'hinge', 'Adam'), training sucessfully.\n"
     ]
    },
    {
     "name": "stderr",
     "output_type": "stream",
     "text": [
      "\r",
      " 34%|████████████████████████████▏                                                     | 33/96 [04:51<12:18, 11.72s/it]"
     ]
    },
    {
     "name": "stdout",
     "output_type": "stream",
     "text": [
      "Current combination: ('None', 'minmax', 'ResNet', 'None', 'hinge', 'RMSprop'), training sucessfully.\n"
     ]
    },
    {
     "name": "stderr",
     "output_type": "stream",
     "text": [
      "\r",
      " 35%|█████████████████████████████                                                     | 34/96 [05:01<11:35, 11.23s/it]"
     ]
    },
    {
     "name": "stdout",
     "output_type": "stream",
     "text": [
      "Current combination: ('None', 'minmax', 'ResNet', 'None', 'deviation', 'SGD'), training sucessfully.\n"
     ]
    },
    {
     "name": "stderr",
     "output_type": "stream",
     "text": [
      "\r",
      " 36%|█████████████████████████████▉                                                    | 35/96 [05:15<12:14, 12.03s/it]"
     ]
    },
    {
     "name": "stdout",
     "output_type": "stream",
     "text": [
      "Current combination: ('None', 'minmax', 'ResNet', 'None', 'deviation', 'Adam'), training sucessfully.\n"
     ]
    },
    {
     "name": "stderr",
     "output_type": "stream",
     "text": [
      "\r",
      " 38%|██████████████████████████████▊                                                   | 36/96 [05:27<12:04, 12.08s/it]"
     ]
    },
    {
     "name": "stdout",
     "output_type": "stream",
     "text": [
      "Current combination: ('None', 'minmax', 'ResNet', 'None', 'deviation', 'RMSprop'), training sucessfully.\n"
     ]
    },
    {
     "name": "stderr",
     "output_type": "stream",
     "text": [
      "\r",
      " 39%|██████████████████████████████▊                                                 | 37/96 [09:52<1:26:30, 87.98s/it]"
     ]
    },
    {
     "name": "stdout",
     "output_type": "stream",
     "text": [
      "Current combination: ('None', 'minmax', 'FTT', 'None', 'minus', 'SGD'), training sucessfully.\n"
     ]
    },
    {
     "name": "stderr",
     "output_type": "stream",
     "text": [
      "\r",
      " 40%|███████████████████████████████▎                                               | 38/96 [14:15<2:15:47, 140.47s/it]"
     ]
    },
    {
     "name": "stdout",
     "output_type": "stream",
     "text": [
      "Current combination: ('None', 'minmax', 'FTT', 'None', 'minus', 'Adam'), training sucessfully.\n"
     ]
    },
    {
     "name": "stderr",
     "output_type": "stream",
     "text": [
      "\r",
      " 41%|████████████████████████████████                                               | 39/96 [15:44<1:58:42, 124.95s/it]"
     ]
    },
    {
     "name": "stdout",
     "output_type": "stream",
     "text": [
      "Current combination: ('None', 'minmax', 'FTT', 'None', 'minus', 'RMSprop'), training failure.\n"
     ]
    },
    {
     "name": "stderr",
     "output_type": "stream",
     "text": [
      "\r",
      " 42%|█████████████████████████████████▎                                              | 40/96 [15:50<1:23:22, 89.33s/it]"
     ]
    },
    {
     "name": "stdout",
     "output_type": "stream",
     "text": [
      "Current combination: ('None', 'minmax', 'FTT', 'None', 'inverse', 'SGD'), training failure.\n"
     ]
    },
    {
     "name": "stderr",
     "output_type": "stream",
     "text": [
      "\r",
      " 43%|██████████████████████████████████▏                                             | 41/96 [16:14<1:04:03, 69.87s/it]"
     ]
    },
    {
     "name": "stdout",
     "output_type": "stream",
     "text": [
      "Current combination: ('None', 'minmax', 'FTT', 'None', 'inverse', 'Adam'), training failure.\n"
     ]
    },
    {
     "name": "stderr",
     "output_type": "stream",
     "text": [
      "\r",
      " 44%|███████████████████████████████████▉                                              | 42/96 [16:15<44:17, 49.20s/it]"
     ]
    },
    {
     "name": "stdout",
     "output_type": "stream",
     "text": [
      "Current combination: ('None', 'minmax', 'FTT', 'None', 'inverse', 'RMSprop'), training failure.\n"
     ]
    },
    {
     "name": "stderr",
     "output_type": "stream",
     "text": [
      "\r",
      " 45%|████████████████████████████████████▋                                             | 43/96 [16:20<31:42, 35.90s/it]"
     ]
    },
    {
     "name": "stdout",
     "output_type": "stream",
     "text": [
      "Current combination: ('None', 'minmax', 'FTT', 'None', 'hinge', 'SGD'), training failure.\n"
     ]
    },
    {
     "name": "stderr",
     "output_type": "stream",
     "text": [
      "\r",
      " 46%|█████████████████████████████████████▌                                            | 44/96 [16:25<23:04, 26.62s/it]"
     ]
    },
    {
     "name": "stdout",
     "output_type": "stream",
     "text": [
      "Current combination: ('None', 'minmax', 'FTT', 'None', 'hinge', 'Adam'), training failure.\n"
     ]
    },
    {
     "name": "stderr",
     "output_type": "stream",
     "text": [
      "\r",
      " 47%|██████████████████████████████████████▍                                           | 45/96 [16:26<15:56, 18.75s/it]"
     ]
    },
    {
     "name": "stdout",
     "output_type": "stream",
     "text": [
      "Current combination: ('None', 'minmax', 'FTT', 'None', 'hinge', 'RMSprop'), training failure.\n"
     ]
    },
    {
     "name": "stderr",
     "output_type": "stream",
     "text": [
      "\r",
      " 48%|███████████████████████████████████████▎                                          | 46/96 [16:26<11:04, 13.29s/it]"
     ]
    },
    {
     "name": "stdout",
     "output_type": "stream",
     "text": [
      "Current combination: ('None', 'minmax', 'FTT', 'None', 'deviation', 'SGD'), training failure.\n"
     ]
    },
    {
     "name": "stderr",
     "output_type": "stream",
     "text": [
      "\r",
      " 49%|████████████████████████████████████████▏                                         | 47/96 [16:27<07:46,  9.52s/it]"
     ]
    },
    {
     "name": "stdout",
     "output_type": "stream",
     "text": [
      "Current combination: ('None', 'minmax', 'FTT', 'None', 'deviation', 'Adam'), training failure.\n"
     ]
    },
    {
     "name": "stderr",
     "output_type": "stream",
     "text": [
      "\r",
      " 50%|█████████████████████████████████████████                                         | 48/96 [16:27<05:25,  6.79s/it]"
     ]
    },
    {
     "name": "stdout",
     "output_type": "stream",
     "text": [
      "Current combination: ('None', 'minmax', 'FTT', 'None', 'deviation', 'RMSprop'), training failure.\n"
     ]
    },
    {
     "name": "stderr",
     "output_type": "stream",
     "text": [
      "\r",
      " 51%|█████████████████████████████████████████▊                                        | 49/96 [16:28<03:49,  4.89s/it]"
     ]
    },
    {
     "name": "stdout",
     "output_type": "stream",
     "text": [
      "Current combination: ('None', 'normalize', 'MLP', 'None', 'minus', 'SGD'), training failure.\n"
     ]
    },
    {
     "name": "stderr",
     "output_type": "stream",
     "text": [
      "\r",
      " 52%|██████████████████████████████████████████▋                                       | 50/96 [16:28<02:42,  3.53s/it]"
     ]
    },
    {
     "name": "stdout",
     "output_type": "stream",
     "text": [
      "Current combination: ('None', 'normalize', 'MLP', 'None', 'minus', 'Adam'), training failure.\n"
     ]
    },
    {
     "name": "stderr",
     "output_type": "stream",
     "text": [
      " 54%|████████████████████████████████████████████▍                                     | 52/96 [16:31<01:39,  2.26s/it]"
     ]
    },
    {
     "name": "stdout",
     "output_type": "stream",
     "text": [
      "Current combination: ('None', 'normalize', 'MLP', 'None', 'minus', 'RMSprop'), training failure.\n",
      "Current combination: ('None', 'normalize', 'MLP', 'None', 'inverse', 'SGD'), training failure.\n"
     ]
    },
    {
     "name": "stderr",
     "output_type": "stream",
     "text": [
      " 56%|██████████████████████████████████████████████▏                                   | 54/96 [16:31<00:52,  1.26s/it]"
     ]
    },
    {
     "name": "stdout",
     "output_type": "stream",
     "text": [
      "Current combination: ('None', 'normalize', 'MLP', 'None', 'inverse', 'Adam'), training failure.\n",
      "Current combination: ('None', 'normalize', 'MLP', 'None', 'inverse', 'RMSprop'), training failure.\n"
     ]
    },
    {
     "name": "stderr",
     "output_type": "stream",
     "text": [
      " 58%|███████████████████████████████████████████████▊                                  | 56/96 [16:32<00:27,  1.45it/s]"
     ]
    },
    {
     "name": "stdout",
     "output_type": "stream",
     "text": [
      "Current combination: ('None', 'normalize', 'MLP', 'None', 'hinge', 'SGD'), training failure.\n",
      "Current combination: ('None', 'normalize', 'MLP', 'None', 'hinge', 'Adam'), training failure.\n"
     ]
    },
    {
     "name": "stderr",
     "output_type": "stream",
     "text": [
      " 60%|█████████████████████████████████████████████████▌                                | 58/96 [16:32<00:17,  2.19it/s]"
     ]
    },
    {
     "name": "stdout",
     "output_type": "stream",
     "text": [
      "Current combination: ('None', 'normalize', 'MLP', 'None', 'hinge', 'RMSprop'), training failure.\n",
      "Current combination: ('None', 'normalize', 'MLP', 'None', 'deviation', 'SGD'), training failure.\n"
     ]
    },
    {
     "name": "stderr",
     "output_type": "stream",
     "text": [
      " 62%|███████████████████████████████████████████████████▎                              | 60/96 [16:32<00:12,  2.95it/s]"
     ]
    },
    {
     "name": "stdout",
     "output_type": "stream",
     "text": [
      "Current combination: ('None', 'normalize', 'MLP', 'None', 'deviation', 'Adam'), training failure.\n",
      "Current combination: ('None', 'normalize', 'MLP', 'None', 'deviation', 'RMSprop'), training failure.\n"
     ]
    },
    {
     "name": "stderr",
     "output_type": "stream",
     "text": [
      " 65%|████████████████████████████████████████████████████▉                             | 62/96 [16:33<00:08,  4.00it/s]"
     ]
    },
    {
     "name": "stdout",
     "output_type": "stream",
     "text": [
      "Current combination: ('None', 'normalize', 'AE', 'None', 'minus', 'SGD'), training failure.\n",
      "Current combination: ('None', 'normalize', 'AE', 'None', 'minus', 'Adam'), training failure.\n"
     ]
    },
    {
     "name": "stderr",
     "output_type": "stream",
     "text": [
      " 67%|██████████████████████████████████████████████████████▋                           | 64/96 [16:33<00:06,  4.93it/s]"
     ]
    },
    {
     "name": "stdout",
     "output_type": "stream",
     "text": [
      "Current combination: ('None', 'normalize', 'AE', 'None', 'minus', 'RMSprop'), training failure.\n",
      "Current combination: ('None', 'normalize', 'AE', 'None', 'inverse', 'SGD'), training failure.\n"
     ]
    },
    {
     "name": "stderr",
     "output_type": "stream",
     "text": [
      " 69%|████████████████████████████████████████████████████████▍                         | 66/96 [16:34<00:07,  4.04it/s]"
     ]
    },
    {
     "name": "stdout",
     "output_type": "stream",
     "text": [
      "Current combination: ('None', 'normalize', 'AE', 'None', 'inverse', 'Adam'), training failure.\n",
      "Current combination: ('None', 'normalize', 'AE', 'None', 'inverse', 'RMSprop'), training failure.\n"
     ]
    },
    {
     "name": "stderr",
     "output_type": "stream",
     "text": [
      " 71%|██████████████████████████████████████████████████████████                        | 68/96 [16:34<00:05,  4.83it/s]"
     ]
    },
    {
     "name": "stdout",
     "output_type": "stream",
     "text": [
      "Current combination: ('None', 'normalize', 'AE', 'None', 'hinge', 'SGD'), training failure.\n",
      "Current combination: ('None', 'normalize', 'AE', 'None', 'hinge', 'Adam'), training failure.\n"
     ]
    },
    {
     "name": "stderr",
     "output_type": "stream",
     "text": [
      "\r",
      " 72%|██████████████████████████████████████████████████████████▉                       | 69/96 [16:34<00:05,  5.26it/s]"
     ]
    },
    {
     "name": "stdout",
     "output_type": "stream",
     "text": [
      "Current combination: ('None', 'normalize', 'AE', 'None', 'hinge', 'RMSprop'), training failure.\n"
     ]
    },
    {
     "name": "stderr",
     "output_type": "stream",
     "text": [
      " 74%|████████████████████████████████████████████████████████████▋                     | 71/96 [16:37<00:17,  1.47it/s]"
     ]
    },
    {
     "name": "stdout",
     "output_type": "stream",
     "text": [
      "Current combination: ('None', 'normalize', 'AE', 'None', 'deviation', 'SGD'), training failure.\n",
      "Current combination: ('None', 'normalize', 'AE', 'None', 'deviation', 'Adam'), training failure.\n"
     ]
    },
    {
     "name": "stderr",
     "output_type": "stream",
     "text": [
      " 76%|██████████████████████████████████████████████████████████████▎                   | 73/96 [16:37<00:09,  2.40it/s]"
     ]
    },
    {
     "name": "stdout",
     "output_type": "stream",
     "text": [
      "Current combination: ('None', 'normalize', 'AE', 'None', 'deviation', 'RMSprop'), training failure.\n",
      "Current combination: ('None', 'normalize', 'ResNet', 'None', 'minus', 'SGD'), training failure.\n"
     ]
    },
    {
     "name": "stderr",
     "output_type": "stream",
     "text": [
      "\r",
      " 77%|███████████████████████████████████████████████████████████████▏                  | 74/96 [16:37<00:07,  2.94it/s]"
     ]
    },
    {
     "name": "stdout",
     "output_type": "stream",
     "text": [
      "Current combination: ('None', 'normalize', 'ResNet', 'None', 'minus', 'Adam'), training failure.\n",
      "Current combination: ('None', 'normalize', 'ResNet', 'None', 'minus', 'RMSprop'), training failure."
     ]
    },
    {
     "name": "stderr",
     "output_type": "stream",
     "text": [
      " 79%|████████████████████████████████████████████████████████████████▉                 | 76/96 [16:38<00:05,  3.99it/s]"
     ]
    },
    {
     "name": "stdout",
     "output_type": "stream",
     "text": [
      "\n",
      "Current combination: ('None', 'normalize', 'ResNet', 'None', 'inverse', 'SGD'), training failure.\n"
     ]
    },
    {
     "name": "stderr",
     "output_type": "stream",
     "text": [
      " 81%|██████████████████████████████████████████████████████████████████▋               | 78/96 [16:38<00:03,  4.75it/s]"
     ]
    },
    {
     "name": "stdout",
     "output_type": "stream",
     "text": [
      "Current combination: ('None', 'normalize', 'ResNet', 'None', 'inverse', 'Adam'), training failure.\n",
      "Current combination: ('None', 'normalize', 'ResNet', 'None', 'inverse', 'RMSprop'), training failure.\n"
     ]
    },
    {
     "name": "stderr",
     "output_type": "stream",
     "text": [
      "\r",
      " 82%|███████████████████████████████████████████████████████████████████▍              | 79/96 [16:38<00:03,  5.18it/s]"
     ]
    },
    {
     "name": "stdout",
     "output_type": "stream",
     "text": [
      "Current combination: ('None', 'normalize', 'ResNet', 'None', 'hinge', 'SGD'), training failure.\n",
      "Current combination: ('None', 'normalize', 'ResNet', 'None', 'hinge', 'Adam'), training failure."
     ]
    },
    {
     "name": "stderr",
     "output_type": "stream",
     "text": [
      " 84%|█████████████████████████████████████████████████████████████████████▏            | 81/96 [16:39<00:02,  5.60it/s]"
     ]
    },
    {
     "name": "stdout",
     "output_type": "stream",
     "text": [
      "\n",
      "Current combination: ('None', 'normalize', 'ResNet', 'None', 'hinge', 'RMSprop'), training failure.\n"
     ]
    },
    {
     "name": "stderr",
     "output_type": "stream",
     "text": [
      "\r",
      " 85%|██████████████████████████████████████████████████████████████████████            | 82/96 [16:39<00:02,  5.64it/s]"
     ]
    },
    {
     "name": "stdout",
     "output_type": "stream",
     "text": [
      "Current combination: ('None', 'normalize', 'ResNet', 'None', 'deviation', 'SGD'), training failure.\n"
     ]
    },
    {
     "name": "stderr",
     "output_type": "stream",
     "text": [
      "\r",
      " 86%|██████████████████████████████████████████████████████████████████████▉           | 83/96 [16:39<00:03,  4.16it/s]"
     ]
    },
    {
     "name": "stdout",
     "output_type": "stream",
     "text": [
      "Current combination: ('None', 'normalize', 'ResNet', 'None', 'deviation', 'Adam'), training failure.\n"
     ]
    },
    {
     "name": "stderr",
     "output_type": "stream",
     "text": [
      "\r",
      " 88%|███████████████████████████████████████████████████████████████████████▊          | 84/96 [16:40<00:03,  3.80it/s]"
     ]
    },
    {
     "name": "stdout",
     "output_type": "stream",
     "text": [
      "Current combination: ('None', 'normalize', 'ResNet', 'None', 'deviation', 'RMSprop'), training failure.\n"
     ]
    },
    {
     "name": "stderr",
     "output_type": "stream",
     "text": [
      "\r",
      " 89%|████████████████████████████████████████████████████████████████████████▌         | 85/96 [16:40<00:02,  4.03it/s]"
     ]
    },
    {
     "name": "stdout",
     "output_type": "stream",
     "text": [
      "Current combination: ('None', 'normalize', 'FTT', 'None', 'minus', 'SGD'), training failure.\n",
      "Current combination: ('None', 'normalize', 'FTT', 'None', 'minus', 'Adam'), training failure.\n"
     ]
    },
    {
     "name": "stderr",
     "output_type": "stream",
     "text": [
      "\r",
      " 91%|██████████████████████████████████████████████████████████████████████████▎       | 87/96 [16:40<00:01,  4.90it/s]"
     ]
    },
    {
     "name": "stdout",
     "output_type": "stream",
     "text": [
      "Current combination: ('None', 'normalize', 'FTT', 'None', 'minus', 'RMSprop'), training failure.\n",
      "Current combination: ('None', 'normalize', 'FTT', 'None', 'inverse', 'SGD'), training failure."
     ]
    },
    {
     "name": "stderr",
     "output_type": "stream",
     "text": [
      " 93%|████████████████████████████████████████████████████████████████████████████      | 89/96 [16:40<00:01,  5.50it/s]"
     ]
    },
    {
     "name": "stdout",
     "output_type": "stream",
     "text": [
      "\n",
      "Current combination: ('None', 'normalize', 'FTT', 'None', 'inverse', 'Adam'), training failure.\n"
     ]
    },
    {
     "name": "stderr",
     "output_type": "stream",
     "text": [
      " 95%|█████████████████████████████████████████████████████████████████████████████▋    | 91/96 [16:41<00:00,  5.78it/s]"
     ]
    },
    {
     "name": "stdout",
     "output_type": "stream",
     "text": [
      "Current combination: ('None', 'normalize', 'FTT', 'None', 'inverse', 'RMSprop'), training failure.\n",
      "Current combination: ('None', 'normalize', 'FTT', 'None', 'hinge', 'SGD'), training failure.\n"
     ]
    },
    {
     "name": "stderr",
     "output_type": "stream",
     "text": [
      " 97%|███████████████████████████████████████████████████████████████████████████████▍  | 93/96 [16:41<00:00,  5.00it/s]"
     ]
    },
    {
     "name": "stdout",
     "output_type": "stream",
     "text": [
      "Current combination: ('None', 'normalize', 'FTT', 'None', 'hinge', 'Adam'), training failure.\n",
      "Current combination: ('None', 'normalize', 'FTT', 'None', 'hinge', 'RMSprop'), training failure.\n"
     ]
    },
    {
     "name": "stderr",
     "output_type": "stream",
     "text": [
      "\r",
      " 98%|████████████████████████████████████████████████████████████████████████████████▎ | 94/96 [16:44<00:02,  1.02s/it]"
     ]
    },
    {
     "name": "stdout",
     "output_type": "stream",
     "text": [
      "Current combination: ('None', 'normalize', 'FTT', 'None', 'deviation', 'SGD'), training failure.\n"
     ]
    },
    {
     "name": "stderr",
     "output_type": "stream",
     "text": [
      "\r",
      " 99%|█████████████████████████████████████████████████████████████████████████████████▏| 95/96 [16:45<00:00,  1.20it/s]"
     ]
    },
    {
     "name": "stdout",
     "output_type": "stream",
     "text": [
      "Current combination: ('None', 'normalize', 'FTT', 'None', 'deviation', 'Adam'), training failure.\n"
     ]
    },
    {
     "name": "stderr",
     "output_type": "stream",
     "text": [
      "100%|██████████████████████████████████████████████████████████████████████████████████| 96/96 [16:45<00:00, 10.48s/it]"
     ]
    },
    {
     "name": "stdout",
     "output_type": "stream",
     "text": [
      "Current combination: ('None', 'normalize', 'FTT', 'None', 'deviation', 'RMSprop'), training failure.\n"
     ]
    },
    {
     "name": "stderr",
     "output_type": "stream",
     "text": [
      "\n"
     ]
    }
   ],
   "source": [
    "for i in tqdm(range(len(gyms))):\n",
    "    com = Components(data=data,\n",
    "                     augmentation=gyms[i][0],\n",
    "                     preprocess=gyms[i][1],\n",
    "                     network_name=gyms[i][2],\n",
    "                     training_strategy=gyms[i][3],\n",
    "                     loss_name=gyms[i][4],\n",
    "                     optimizer_name=gyms[i][5])\n",
    "\n",
    "    try:\n",
    "        com.f_train()\n",
    "        metrics = com.f_predict_score()\n",
    "\n",
    "        df_results.iloc[i, 0] = metrics['aucroc']\n",
    "        df_results.iloc[i, 1] = metrics['aucpr']\n",
    "        \n",
    "        print(f'Current combination: {gyms[i]}, training sucessfully.')\n",
    "        \n",
    "    except:\n",
    "        print(f'Current combination: {gyms[i]}, training failure.')\n",
    "        pass\n",
    "        continue"
   ]
  },
  {
   "cell_type": "code",
   "execution_count": 6,
   "metadata": {
    "ExecuteTime": {
     "end_time": "2022-11-06T12:46:10.743337Z",
     "start_time": "2022-11-06T12:46:10.696464Z"
    }
   },
   "outputs": [
    {
     "data": {
      "text/html": [
       "<div>\n",
       "<style scoped>\n",
       "    .dataframe tbody tr th:only-of-type {\n",
       "        vertical-align: middle;\n",
       "    }\n",
       "\n",
       "    .dataframe tbody tr th {\n",
       "        vertical-align: top;\n",
       "    }\n",
       "\n",
       "    .dataframe thead th {\n",
       "        text-align: right;\n",
       "    }\n",
       "</style>\n",
       "<table border=\"1\" class=\"dataframe\">\n",
       "  <thead>\n",
       "    <tr style=\"text-align: right;\">\n",
       "      <th></th>\n",
       "      <th>AUC-ROC</th>\n",
       "      <th>AUC-PR</th>\n",
       "    </tr>\n",
       "  </thead>\n",
       "  <tbody>\n",
       "    <tr>\n",
       "      <th>(None, minmax, MLP, None, minus, SGD)</th>\n",
       "      <td>0.947117</td>\n",
       "      <td>0.842894</td>\n",
       "    </tr>\n",
       "    <tr>\n",
       "      <th>(None, minmax, MLP, None, minus, Adam)</th>\n",
       "      <td>0.724346</td>\n",
       "      <td>0.632947</td>\n",
       "    </tr>\n",
       "    <tr>\n",
       "      <th>(None, minmax, MLP, None, minus, RMSprop)</th>\n",
       "      <td>0.795148</td>\n",
       "      <td>0.663867</td>\n",
       "    </tr>\n",
       "    <tr>\n",
       "      <th>(None, minmax, MLP, None, inverse, SGD)</th>\n",
       "      <td>0.984549</td>\n",
       "      <td>0.84875</td>\n",
       "    </tr>\n",
       "    <tr>\n",
       "      <th>(None, minmax, MLP, None, inverse, Adam)</th>\n",
       "      <td>0.88349</td>\n",
       "      <td>0.712837</td>\n",
       "    </tr>\n",
       "    <tr>\n",
       "      <th>(None, minmax, MLP, None, inverse, RMSprop)</th>\n",
       "      <td>0.861395</td>\n",
       "      <td>0.739125</td>\n",
       "    </tr>\n",
       "    <tr>\n",
       "      <th>(None, minmax, MLP, None, hinge, SGD)</th>\n",
       "      <td>0.853954</td>\n",
       "      <td>0.76475</td>\n",
       "    </tr>\n",
       "    <tr>\n",
       "      <th>(None, minmax, MLP, None, hinge, Adam)</th>\n",
       "      <td>0.783873</td>\n",
       "      <td>0.663392</td>\n",
       "    </tr>\n",
       "    <tr>\n",
       "      <th>(None, minmax, MLP, None, hinge, RMSprop)</th>\n",
       "      <td>0.644812</td>\n",
       "      <td>0.554055</td>\n",
       "    </tr>\n",
       "    <tr>\n",
       "      <th>(None, minmax, MLP, None, deviation, SGD)</th>\n",
       "      <td>0.934285</td>\n",
       "      <td>0.819217</td>\n",
       "    </tr>\n",
       "    <tr>\n",
       "      <th>(None, minmax, MLP, None, deviation, Adam)</th>\n",
       "      <td>0.515318</td>\n",
       "      <td>0.398235</td>\n",
       "    </tr>\n",
       "    <tr>\n",
       "      <th>(None, minmax, MLP, None, deviation, RMSprop)</th>\n",
       "      <td>0.62435</td>\n",
       "      <td>0.596678</td>\n",
       "    </tr>\n",
       "    <tr>\n",
       "      <th>(None, minmax, AE, None, minus, SGD)</th>\n",
       "      <td>0.986219</td>\n",
       "      <td>0.892893</td>\n",
       "    </tr>\n",
       "    <tr>\n",
       "      <th>(None, minmax, AE, None, minus, Adam)</th>\n",
       "      <td>0.775331</td>\n",
       "      <td>0.640716</td>\n",
       "    </tr>\n",
       "    <tr>\n",
       "      <th>(None, minmax, AE, None, minus, RMSprop)</th>\n",
       "      <td>0.787518</td>\n",
       "      <td>0.622994</td>\n",
       "    </tr>\n",
       "    <tr>\n",
       "      <th>(None, minmax, AE, None, inverse, SGD)</th>\n",
       "      <td>0.862458</td>\n",
       "      <td>0.524564</td>\n",
       "    </tr>\n",
       "    <tr>\n",
       "      <th>(None, minmax, AE, None, inverse, Adam)</th>\n",
       "      <td>0.860977</td>\n",
       "      <td>0.764181</td>\n",
       "    </tr>\n",
       "    <tr>\n",
       "      <th>(None, minmax, AE, None, inverse, RMSprop)</th>\n",
       "      <td>0.779963</td>\n",
       "      <td>0.644325</td>\n",
       "    </tr>\n",
       "    <tr>\n",
       "      <th>(None, minmax, AE, None, hinge, SGD)</th>\n",
       "      <td>0.980601</td>\n",
       "      <td>0.880243</td>\n",
       "    </tr>\n",
       "    <tr>\n",
       "      <th>(None, minmax, AE, None, hinge, Adam)</th>\n",
       "      <td>0.344292</td>\n",
       "      <td>0.34519</td>\n",
       "    </tr>\n",
       "    <tr>\n",
       "      <th>(None, minmax, AE, None, hinge, RMSprop)</th>\n",
       "      <td>0.829429</td>\n",
       "      <td>0.594333</td>\n",
       "    </tr>\n",
       "    <tr>\n",
       "      <th>(None, minmax, AE, None, deviation, SGD)</th>\n",
       "      <td>0.954216</td>\n",
       "      <td>0.801436</td>\n",
       "    </tr>\n",
       "    <tr>\n",
       "      <th>(None, minmax, AE, None, deviation, Adam)</th>\n",
       "      <td>0.54679</td>\n",
       "      <td>0.30089</td>\n",
       "    </tr>\n",
       "    <tr>\n",
       "      <th>(None, minmax, AE, None, deviation, RMSprop)</th>\n",
       "      <td>0.861585</td>\n",
       "      <td>0.702698</td>\n",
       "    </tr>\n",
       "    <tr>\n",
       "      <th>(None, minmax, ResNet, None, minus, SGD)</th>\n",
       "      <td>0.900156</td>\n",
       "      <td>0.827731</td>\n",
       "    </tr>\n",
       "    <tr>\n",
       "      <th>(None, minmax, ResNet, None, minus, Adam)</th>\n",
       "      <td>0.663339</td>\n",
       "      <td>0.606654</td>\n",
       "    </tr>\n",
       "    <tr>\n",
       "      <th>(None, minmax, ResNet, None, minus, RMSprop)</th>\n",
       "      <td>0.719069</td>\n",
       "      <td>0.571661</td>\n",
       "    </tr>\n",
       "    <tr>\n",
       "      <th>(None, minmax, ResNet, None, inverse, SGD)</th>\n",
       "      <td>0.957253</td>\n",
       "      <td>0.631292</td>\n",
       "    </tr>\n",
       "    <tr>\n",
       "      <th>(None, minmax, ResNet, None, inverse, Adam)</th>\n",
       "      <td>0.952052</td>\n",
       "      <td>0.712927</td>\n",
       "    </tr>\n",
       "    <tr>\n",
       "      <th>(None, minmax, ResNet, None, inverse, RMSprop)</th>\n",
       "      <td>0.959417</td>\n",
       "      <td>0.824699</td>\n",
       "    </tr>\n",
       "    <tr>\n",
       "      <th>(None, minmax, ResNet, None, hinge, SGD)</th>\n",
       "      <td>0.902168</td>\n",
       "      <td>0.765811</td>\n",
       "    </tr>\n",
       "    <tr>\n",
       "      <th>(None, minmax, ResNet, None, hinge, Adam)</th>\n",
       "      <td>0.873999</td>\n",
       "      <td>0.703912</td>\n",
       "    </tr>\n",
       "    <tr>\n",
       "      <th>(None, minmax, ResNet, None, hinge, RMSprop)</th>\n",
       "      <td>0.939904</td>\n",
       "      <td>0.779266</td>\n",
       "    </tr>\n",
       "    <tr>\n",
       "      <th>(None, minmax, ResNet, None, deviation, SGD)</th>\n",
       "      <td>0.890095</td>\n",
       "      <td>0.807734</td>\n",
       "    </tr>\n",
       "    <tr>\n",
       "      <th>(None, minmax, ResNet, None, deviation, Adam)</th>\n",
       "      <td>0.503132</td>\n",
       "      <td>0.303542</td>\n",
       "    </tr>\n",
       "    <tr>\n",
       "      <th>(None, minmax, ResNet, None, deviation, RMSprop)</th>\n",
       "      <td>0.780608</td>\n",
       "      <td>0.561614</td>\n",
       "    </tr>\n",
       "    <tr>\n",
       "      <th>(None, minmax, FTT, None, minus, SGD)</th>\n",
       "      <td>0.410975</td>\n",
       "      <td>0.0776863</td>\n",
       "    </tr>\n",
       "    <tr>\n",
       "      <th>(None, minmax, FTT, None, minus, Adam)</th>\n",
       "      <td>0.963897</td>\n",
       "      <td>0.847165</td>\n",
       "    </tr>\n",
       "    <tr>\n",
       "      <th>(None, minmax, FTT, None, minus, RMSprop)</th>\n",
       "      <td>NaN</td>\n",
       "      <td>NaN</td>\n",
       "    </tr>\n",
       "    <tr>\n",
       "      <th>(None, minmax, FTT, None, inverse, SGD)</th>\n",
       "      <td>NaN</td>\n",
       "      <td>NaN</td>\n",
       "    </tr>\n",
       "    <tr>\n",
       "      <th>(None, minmax, FTT, None, inverse, Adam)</th>\n",
       "      <td>NaN</td>\n",
       "      <td>NaN</td>\n",
       "    </tr>\n",
       "    <tr>\n",
       "      <th>(None, minmax, FTT, None, inverse, RMSprop)</th>\n",
       "      <td>NaN</td>\n",
       "      <td>NaN</td>\n",
       "    </tr>\n",
       "    <tr>\n",
       "      <th>(None, minmax, FTT, None, hinge, SGD)</th>\n",
       "      <td>NaN</td>\n",
       "      <td>NaN</td>\n",
       "    </tr>\n",
       "    <tr>\n",
       "      <th>(None, minmax, FTT, None, hinge, Adam)</th>\n",
       "      <td>NaN</td>\n",
       "      <td>NaN</td>\n",
       "    </tr>\n",
       "    <tr>\n",
       "      <th>(None, minmax, FTT, None, hinge, RMSprop)</th>\n",
       "      <td>NaN</td>\n",
       "      <td>NaN</td>\n",
       "    </tr>\n",
       "    <tr>\n",
       "      <th>(None, minmax, FTT, None, deviation, SGD)</th>\n",
       "      <td>NaN</td>\n",
       "      <td>NaN</td>\n",
       "    </tr>\n",
       "    <tr>\n",
       "      <th>(None, minmax, FTT, None, deviation, Adam)</th>\n",
       "      <td>NaN</td>\n",
       "      <td>NaN</td>\n",
       "    </tr>\n",
       "    <tr>\n",
       "      <th>(None, minmax, FTT, None, deviation, RMSprop)</th>\n",
       "      <td>NaN</td>\n",
       "      <td>NaN</td>\n",
       "    </tr>\n",
       "    <tr>\n",
       "      <th>(None, normalize, MLP, None, minus, SGD)</th>\n",
       "      <td>NaN</td>\n",
       "      <td>NaN</td>\n",
       "    </tr>\n",
       "    <tr>\n",
       "      <th>(None, normalize, MLP, None, minus, Adam)</th>\n",
       "      <td>NaN</td>\n",
       "      <td>NaN</td>\n",
       "    </tr>\n",
       "  </tbody>\n",
       "</table>\n",
       "</div>"
      ],
      "text/plain": [
       "                                                   AUC-ROC     AUC-PR\n",
       "(None, minmax, MLP, None, minus, SGD)             0.947117   0.842894\n",
       "(None, minmax, MLP, None, minus, Adam)            0.724346   0.632947\n",
       "(None, minmax, MLP, None, minus, RMSprop)         0.795148   0.663867\n",
       "(None, minmax, MLP, None, inverse, SGD)           0.984549    0.84875\n",
       "(None, minmax, MLP, None, inverse, Adam)           0.88349   0.712837\n",
       "(None, minmax, MLP, None, inverse, RMSprop)       0.861395   0.739125\n",
       "(None, minmax, MLP, None, hinge, SGD)             0.853954    0.76475\n",
       "(None, minmax, MLP, None, hinge, Adam)            0.783873   0.663392\n",
       "(None, minmax, MLP, None, hinge, RMSprop)         0.644812   0.554055\n",
       "(None, minmax, MLP, None, deviation, SGD)         0.934285   0.819217\n",
       "(None, minmax, MLP, None, deviation, Adam)        0.515318   0.398235\n",
       "(None, minmax, MLP, None, deviation, RMSprop)      0.62435   0.596678\n",
       "(None, minmax, AE, None, minus, SGD)              0.986219   0.892893\n",
       "(None, minmax, AE, None, minus, Adam)             0.775331   0.640716\n",
       "(None, minmax, AE, None, minus, RMSprop)          0.787518   0.622994\n",
       "(None, minmax, AE, None, inverse, SGD)            0.862458   0.524564\n",
       "(None, minmax, AE, None, inverse, Adam)           0.860977   0.764181\n",
       "(None, minmax, AE, None, inverse, RMSprop)        0.779963   0.644325\n",
       "(None, minmax, AE, None, hinge, SGD)              0.980601   0.880243\n",
       "(None, minmax, AE, None, hinge, Adam)             0.344292    0.34519\n",
       "(None, minmax, AE, None, hinge, RMSprop)          0.829429   0.594333\n",
       "(None, minmax, AE, None, deviation, SGD)          0.954216   0.801436\n",
       "(None, minmax, AE, None, deviation, Adam)          0.54679    0.30089\n",
       "(None, minmax, AE, None, deviation, RMSprop)      0.861585   0.702698\n",
       "(None, minmax, ResNet, None, minus, SGD)          0.900156   0.827731\n",
       "(None, minmax, ResNet, None, minus, Adam)         0.663339   0.606654\n",
       "(None, minmax, ResNet, None, minus, RMSprop)      0.719069   0.571661\n",
       "(None, minmax, ResNet, None, inverse, SGD)        0.957253   0.631292\n",
       "(None, minmax, ResNet, None, inverse, Adam)       0.952052   0.712927\n",
       "(None, minmax, ResNet, None, inverse, RMSprop)    0.959417   0.824699\n",
       "(None, minmax, ResNet, None, hinge, SGD)          0.902168   0.765811\n",
       "(None, minmax, ResNet, None, hinge, Adam)         0.873999   0.703912\n",
       "(None, minmax, ResNet, None, hinge, RMSprop)      0.939904   0.779266\n",
       "(None, minmax, ResNet, None, deviation, SGD)      0.890095   0.807734\n",
       "(None, minmax, ResNet, None, deviation, Adam)     0.503132   0.303542\n",
       "(None, minmax, ResNet, None, deviation, RMSprop)  0.780608   0.561614\n",
       "(None, minmax, FTT, None, minus, SGD)             0.410975  0.0776863\n",
       "(None, minmax, FTT, None, minus, Adam)            0.963897   0.847165\n",
       "(None, minmax, FTT, None, minus, RMSprop)              NaN        NaN\n",
       "(None, minmax, FTT, None, inverse, SGD)                NaN        NaN\n",
       "(None, minmax, FTT, None, inverse, Adam)               NaN        NaN\n",
       "(None, minmax, FTT, None, inverse, RMSprop)            NaN        NaN\n",
       "(None, minmax, FTT, None, hinge, SGD)                  NaN        NaN\n",
       "(None, minmax, FTT, None, hinge, Adam)                 NaN        NaN\n",
       "(None, minmax, FTT, None, hinge, RMSprop)              NaN        NaN\n",
       "(None, minmax, FTT, None, deviation, SGD)              NaN        NaN\n",
       "(None, minmax, FTT, None, deviation, Adam)             NaN        NaN\n",
       "(None, minmax, FTT, None, deviation, RMSprop)          NaN        NaN\n",
       "(None, normalize, MLP, None, minus, SGD)               NaN        NaN\n",
       "(None, normalize, MLP, None, minus, Adam)              NaN        NaN"
      ]
     },
     "execution_count": 6,
     "metadata": {},
     "output_type": "execute_result"
    }
   ],
   "source": [
    "df_results.head(50)"
   ]
  },
  {
   "cell_type": "code",
   "execution_count": 5,
   "metadata": {
    "ExecuteTime": {
     "end_time": "2022-11-07T02:38:56.185782Z",
     "start_time": "2022-11-07T02:38:56.174810Z"
    }
   },
   "outputs": [
    {
     "name": "stdout",
     "output_type": "stream",
     "text": [
      "4\n",
      "3\n",
      "2\n",
      "1\n",
      "0\n"
     ]
    }
   ],
   "source": [
    "for i in range(5-1, -1, -1):\n",
    "    print(i)"
   ]
  }
 ],
 "metadata": {
  "kernelspec": {
   "display_name": "Python 3",
   "language": "python",
   "name": "python3"
  },
  "language_info": {
   "codemirror_mode": {
    "name": "ipython",
    "version": 3
   },
   "file_extension": ".py",
   "mimetype": "text/x-python",
   "name": "python",
   "nbconvert_exporter": "python",
   "pygments_lexer": "ipython3",
   "version": "3.7.7"
  },
  "toc": {
   "base_numbering": 1,
   "nav_menu": {},
   "number_sections": true,
   "sideBar": true,
   "skip_h1_title": false,
   "title_cell": "Table of Contents",
   "title_sidebar": "Contents",
   "toc_cell": false,
   "toc_position": {},
   "toc_section_display": true,
   "toc_window_display": false
  },
  "varInspector": {
   "cols": {
    "lenName": 16,
    "lenType": 16,
    "lenVar": 40
   },
   "kernels_config": {
    "python": {
     "delete_cmd_postfix": "",
     "delete_cmd_prefix": "del ",
     "library": "var_list.py",
     "varRefreshCmd": "print(var_dic_list())"
    },
    "r": {
     "delete_cmd_postfix": ") ",
     "delete_cmd_prefix": "rm(",
     "library": "var_list.r",
     "varRefreshCmd": "cat(var_dic_list()) "
    }
   },
   "types_to_exclude": [
    "module",
    "function",
    "builtin_function_or_method",
    "instance",
    "_Feature"
   ],
   "window_display": false
  }
 },
 "nbformat": 4,
 "nbformat_minor": 4
}
