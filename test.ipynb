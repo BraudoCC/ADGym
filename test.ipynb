{
 "cells": [
  {
   "cell_type": "code",
   "execution_count": 1,
   "metadata": {
    "ExecuteTime": {
     "end_time": "2022-11-07T03:11:24.488667Z",
     "start_time": "2022-11-07T03:11:21.242297Z"
    }
   },
   "outputs": [],
   "source": [
    "import os\n",
    "import numpy as np\n",
    "import pandas as pd\n",
    "from itertools import product\n",
    "from tqdm import tqdm\n",
    "from iteration_utilities import unique_everseen\n",
    "\n",
    "from data_generator import DataGenerator\n",
    "from components import Components"
   ]
  },
  {
   "cell_type": "code",
   "execution_count": 2,
   "metadata": {
    "ExecuteTime": {
     "end_time": "2022-11-07T03:24:46.916751Z",
     "start_time": "2022-11-07T03:24:41.159993Z"
    }
   },
   "outputs": [
    {
     "name": "stdout",
     "output_type": "stream",
     "text": [
      "{'augmentation': [None], 'preprocess': ['minmax', 'normalize'], 'network_architecture': ['MLP', 'AE', 'ResNet', 'FTT'], 'layers': [1, 2, 3], 'hidden_size_list': [[20], [100, 20], [100, 50, 20]], 'act_fun': ['Tanh', 'ReLU', 'LeakyReLU'], 'dropout': [0.0, 0.1, 0.3], 'training_strategy': [None], 'loss_name': ['minus', 'inverse', 'hinge', 'deviation'], 'optimizer_name': ['SGD', 'Adam', 'RMSprop'], 'batch_resample': [True], 'epochs': [20, 50, 100], 'batch_size': [16, 64, 256], 'lr': [0.01, 0.001], 'weight_decay': [0.01, 0.0001]}\n"
     ]
    },
    {
     "name": "stderr",
     "output_type": "stream",
     "text": [
      "100%|██████████████████████████████████████████████████████████████████████| 279936/279936 [00:00<00:00, 311482.82it/s]"
     ]
    },
    {
     "name": "stdout",
     "output_type": "stream",
     "text": [
      "62208\n"
     ]
    },
    {
     "name": "stderr",
     "output_type": "stream",
     "text": [
      "\n"
     ]
    }
   ],
   "source": [
    "# generator combinations of different components\n",
    "com = Components()\n",
    "print(com.gym())\n",
    "\n",
    "gyms_comb = list(product(*list(com.gym().values())))\n",
    "keys = list(com.gym().keys())\n",
    "gyms = []\n",
    "\n",
    "for _ in tqdm(gyms_comb):\n",
    "    gym = {}\n",
    "    for j, __ in enumerate(_):\n",
    "        gym[keys[j]] = __\n",
    "        \n",
    "    if gym['layers'] != len(gym['hidden_size_list']):\n",
    "        continue\n",
    "        \n",
    "    # delete ResNet & FTT ReLU: activation layers\n",
    "    if gym['network_architecture'] in ['ResNet', 'FTT']:\n",
    "        if gym['act_fun'] != 'ReLU':\n",
    "            continue\n",
    "\n",
    "    # delete FTT: hidden_size_list, drop out\n",
    "    if gym['network_architecture'] == 'FTT':\n",
    "        gym['hidden_size_list'] = None\n",
    "        gym['dropout'] = None\n",
    "        \n",
    "    gyms.append(gym)\n",
    "    \n",
    "print(len(gyms))"
   ]
  },
  {
   "cell_type": "code",
   "execution_count": 3,
   "metadata": {},
   "outputs": [
    {
     "name": "stdout",
     "output_type": "stream",
     "text": [
      "100\n",
      "100\n"
     ]
    }
   ],
   "source": [
    "# random selection\n",
    "idx = np.random.choice(np.arange(len(gyms)), 100, replace=False)\n",
    "gyms = [gyms[_] for _ in idx]\n",
    "print(len(gyms))\n",
    "\n",
    "\n",
    "gyms = list(unique_everseen(gyms))\n",
    "print(len(gyms))"
   ]
  },
  {
   "cell_type": "code",
   "execution_count": 4,
   "metadata": {},
   "outputs": [
    {
     "data": {
      "text/plain": [
       "{'augmentation': None,\n",
       " 'preprocess': 'minmax',\n",
       " 'network_architecture': 'FTT',\n",
       " 'layers': 3,\n",
       " 'hidden_size_list': None,\n",
       " 'act_fun': 'ReLU',\n",
       " 'dropout': None,\n",
       " 'training_strategy': None,\n",
       " 'loss_name': 'inverse',\n",
       " 'optimizer_name': 'SGD',\n",
       " 'batch_resample': True,\n",
       " 'epochs': 20,\n",
       " 'batch_size': 16,\n",
       " 'lr': 0.001,\n",
       " 'weight_decay': 0.0001}"
      ]
     },
     "execution_count": 4,
     "metadata": {},
     "output_type": "execute_result"
    }
   ],
   "source": [
    "gyms[0]"
   ]
  },
  {
   "cell_type": "markdown",
   "metadata": {},
   "source": [
    "Experiments"
   ]
  },
  {
   "cell_type": "code",
   "execution_count": 5,
   "metadata": {},
   "outputs": [],
   "source": [
    "dataset_list = [os.path.splitext(_)[0] for _ in os.listdir('datasets') if os.path.splitext(_)[1] == '.npz']\n",
    "\n",
    "df_results_AUCROC = pd.DataFrame(data=None, index=[str(_) for _ in gyms], columns=dataset_list)\n",
    "df_results_AUCPR = pd.DataFrame(data=None, index=[str(_) for _ in gyms], columns=dataset_list)"
   ]
  },
  {
   "cell_type": "code",
   "execution_count": null,
   "metadata": {
    "ExecuteTime": {
     "end_time": "2022-11-06T12:46:01.422319Z",
     "start_time": "2022-11-06T12:29:15.750829Z"
    }
   },
   "outputs": [
    {
     "name": "stdout",
     "output_type": "stream",
     "text": [
      "subsampling for dataset 10_cover...\n"
     ]
    },
    {
     "name": "stderr",
     "output_type": "stream",
     "text": [
      "  1%|▊                                                                              | 1/100 [05:47<9:32:44, 347.11s/it]"
     ]
    },
    {
     "name": "stdout",
     "output_type": "stream",
     "text": [
      "Dataset: 10_cover, Current combination: {'augmentation': None, 'preprocess': 'minmax', 'network_architecture': 'FTT', 'layers': 3, 'hidden_size_list': None, 'act_fun': 'ReLU', 'dropout': None, 'training_strategy': None, 'loss_name': 'inverse', 'optimizer_name': 'SGD', 'batch_resample': True, 'epochs': 20, 'batch_size': 16, 'lr': 0.001, 'weight_decay': 0.0001}, training sucessfully.\n"
     ]
    },
    {
     "name": "stderr",
     "output_type": "stream",
     "text": [
      "  2%|█▌                                                                             | 2/100 [06:45<4:49:14, 177.08s/it]"
     ]
    },
    {
     "name": "stdout",
     "output_type": "stream",
     "text": [
      "Dataset: 10_cover, Current combination: {'augmentation': None, 'preprocess': 'normalize', 'network_architecture': 'AE', 'layers': 3, 'hidden_size_list': [100, 50, 20], 'act_fun': 'ReLU', 'dropout': 0.0, 'training_strategy': None, 'loss_name': 'minus', 'optimizer_name': 'Adam', 'batch_resample': True, 'epochs': 100, 'batch_size': 256, 'lr': 0.001, 'weight_decay': 0.0001}, training sucessfully.\n"
     ]
    },
    {
     "name": "stderr",
     "output_type": "stream",
     "text": [
      "  3%|██▎                                                                            | 3/100 [09:07<4:20:44, 161.28s/it]"
     ]
    },
    {
     "name": "stdout",
     "output_type": "stream",
     "text": [
      "Dataset: 10_cover, Current combination: {'augmentation': None, 'preprocess': 'normalize', 'network_architecture': 'AE', 'layers': 3, 'hidden_size_list': [100, 50, 20], 'act_fun': 'ReLU', 'dropout': 0.1, 'training_strategy': None, 'loss_name': 'hinge', 'optimizer_name': 'Adam', 'batch_resample': True, 'epochs': 100, 'batch_size': 64, 'lr': 0.001, 'weight_decay': 0.01}, training sucessfully.\n"
     ]
    },
    {
     "name": "stderr",
     "output_type": "stream",
     "text": [
      "  4%|███▏                                                                           | 4/100 [10:24<3:24:35, 127.87s/it]"
     ]
    },
    {
     "name": "stdout",
     "output_type": "stream",
     "text": [
      "Dataset: 10_cover, Current combination: {'augmentation': None, 'preprocess': 'minmax', 'network_architecture': 'MLP', 'layers': 2, 'hidden_size_list': [100, 20], 'act_fun': 'LeakyReLU', 'dropout': 0.1, 'training_strategy': None, 'loss_name': 'deviation', 'optimizer_name': 'Adam', 'batch_resample': True, 'epochs': 50, 'batch_size': 16, 'lr': 0.01, 'weight_decay': 0.01}, training sucessfully.\n"
     ]
    },
    {
     "name": "stderr",
     "output_type": "stream",
     "text": [
      "  5%|████                                                                            | 5/100 [10:46<2:22:19, 89.89s/it]"
     ]
    },
    {
     "name": "stdout",
     "output_type": "stream",
     "text": [
      "Dataset: 10_cover, Current combination: {'augmentation': None, 'preprocess': 'normalize', 'network_architecture': 'MLP', 'layers': 3, 'hidden_size_list': [100, 50, 20], 'act_fun': 'LeakyReLU', 'dropout': 0.3, 'training_strategy': None, 'loss_name': 'minus', 'optimizer_name': 'RMSprop', 'batch_resample': True, 'epochs': 50, 'batch_size': 64, 'lr': 0.01, 'weight_decay': 0.0001}, training sucessfully.\n"
     ]
    },
    {
     "name": "stderr",
     "output_type": "stream",
     "text": [
      "  6%|████▊                                                                           | 6/100 [12:23<2:24:11, 92.04s/it]"
     ]
    },
    {
     "name": "stdout",
     "output_type": "stream",
     "text": [
      "Dataset: 10_cover, Current combination: {'augmentation': None, 'preprocess': 'minmax', 'network_architecture': 'AE', 'layers': 2, 'hidden_size_list': [100, 20], 'act_fun': 'ReLU', 'dropout': 0.3, 'training_strategy': None, 'loss_name': 'minus', 'optimizer_name': 'SGD', 'batch_resample': True, 'epochs': 50, 'batch_size': 16, 'lr': 0.01, 'weight_decay': 0.0001}, training failure.\n"
     ]
    },
    {
     "name": "stderr",
     "output_type": "stream",
     "text": [
      "  7%|█████▌                                                                          | 7/100 [13:57<2:23:49, 92.79s/it]"
     ]
    },
    {
     "name": "stdout",
     "output_type": "stream",
     "text": [
      "Dataset: 10_cover, Current combination: {'augmentation': None, 'preprocess': 'minmax', 'network_architecture': 'AE', 'layers': 3, 'hidden_size_list': [100, 50, 20], 'act_fun': 'ReLU', 'dropout': 0.0, 'training_strategy': None, 'loss_name': 'inverse', 'optimizer_name': 'RMSprop', 'batch_resample': True, 'epochs': 50, 'batch_size': 64, 'lr': 0.001, 'weight_decay': 0.01}, training sucessfully.\n"
     ]
    },
    {
     "name": "stderr",
     "output_type": "stream",
     "text": [
      "  8%|██████▍                                                                         | 8/100 [14:02<1:39:41, 65.02s/it]"
     ]
    },
    {
     "name": "stdout",
     "output_type": "stream",
     "text": [
      "Dataset: 10_cover, Current combination: {'augmentation': None, 'preprocess': 'minmax', 'network_architecture': 'AE', 'layers': 2, 'hidden_size_list': [100, 20], 'act_fun': 'ReLU', 'dropout': 0.0, 'training_strategy': None, 'loss_name': 'hinge', 'optimizer_name': 'SGD', 'batch_resample': True, 'epochs': 20, 'batch_size': 256, 'lr': 0.001, 'weight_decay': 0.01}, training sucessfully.\n"
     ]
    },
    {
     "name": "stderr",
     "output_type": "stream",
     "text": [
      "  9%|███████▏                                                                        | 9/100 [15:17<1:43:15, 68.08s/it]"
     ]
    },
    {
     "name": "stdout",
     "output_type": "stream",
     "text": [
      "Dataset: 10_cover, Current combination: {'augmentation': None, 'preprocess': 'minmax', 'network_architecture': 'AE', 'layers': 2, 'hidden_size_list': [100, 20], 'act_fun': 'LeakyReLU', 'dropout': 0.0, 'training_strategy': None, 'loss_name': 'inverse', 'optimizer_name': 'RMSprop', 'batch_resample': True, 'epochs': 100, 'batch_size': 64, 'lr': 0.001, 'weight_decay': 0.0001}, training sucessfully.\n"
     ]
    },
    {
     "name": "stderr",
     "output_type": "stream",
     "text": [
      " 10%|███████▉                                                                       | 10/100 [15:37<1:19:54, 53.27s/it]"
     ]
    },
    {
     "name": "stdout",
     "output_type": "stream",
     "text": [
      "Dataset: 10_cover, Current combination: {'augmentation': None, 'preprocess': 'minmax', 'network_architecture': 'MLP', 'layers': 3, 'hidden_size_list': [100, 50, 20], 'act_fun': 'Tanh', 'dropout': 0.0, 'training_strategy': None, 'loss_name': 'minus', 'optimizer_name': 'Adam', 'batch_resample': True, 'epochs': 100, 'batch_size': 256, 'lr': 0.01, 'weight_decay': 0.01}, training sucessfully.\n"
     ]
    },
    {
     "name": "stderr",
     "output_type": "stream",
     "text": [
      " 11%|████████▋                                                                      | 11/100 [15:55<1:02:58, 42.46s/it]"
     ]
    },
    {
     "name": "stdout",
     "output_type": "stream",
     "text": [
      "Dataset: 10_cover, Current combination: {'augmentation': None, 'preprocess': 'normalize', 'network_architecture': 'MLP', 'layers': 2, 'hidden_size_list': [100, 20], 'act_fun': 'Tanh', 'dropout': 0.1, 'training_strategy': None, 'loss_name': 'minus', 'optimizer_name': 'RMSprop', 'batch_resample': True, 'epochs': 100, 'batch_size': 256, 'lr': 0.01, 'weight_decay': 0.01}, training sucessfully.\n"
     ]
    },
    {
     "name": "stderr",
     "output_type": "stream",
     "text": [
      " 12%|█████████▋                                                                       | 12/100 [16:06<48:07, 32.81s/it]"
     ]
    },
    {
     "name": "stdout",
     "output_type": "stream",
     "text": [
      "Dataset: 10_cover, Current combination: {'augmentation': None, 'preprocess': 'minmax', 'network_architecture': 'AE', 'layers': 1, 'hidden_size_list': [20], 'act_fun': 'LeakyReLU', 'dropout': 0.3, 'training_strategy': None, 'loss_name': 'minus', 'optimizer_name': 'SGD', 'batch_resample': True, 'epochs': 20, 'batch_size': 64, 'lr': 0.01, 'weight_decay': 0.01}, training failure.\n"
     ]
    },
    {
     "name": "stderr",
     "output_type": "stream",
     "text": [
      " 13%|██████████▎                                                                    | 13/100 [17:46<1:17:00, 53.11s/it]"
     ]
    },
    {
     "name": "stdout",
     "output_type": "stream",
     "text": [
      "Dataset: 10_cover, Current combination: {'augmentation': None, 'preprocess': 'minmax', 'network_architecture': 'AE', 'layers': 2, 'hidden_size_list': [100, 20], 'act_fun': 'ReLU', 'dropout': 0.3, 'training_strategy': None, 'loss_name': 'hinge', 'optimizer_name': 'SGD', 'batch_resample': True, 'epochs': 50, 'batch_size': 16, 'lr': 0.001, 'weight_decay': 0.0001}, training sucessfully.\n"
     ]
    },
    {
     "name": "stderr",
     "output_type": "stream",
     "text": [
      " 14%|███████████                                                                    | 14/100 [18:26<1:10:30, 49.19s/it]"
     ]
    },
    {
     "name": "stdout",
     "output_type": "stream",
     "text": [
      "Dataset: 10_cover, Current combination: {'augmentation': None, 'preprocess': 'normalize', 'network_architecture': 'AE', 'layers': 2, 'hidden_size_list': [100, 20], 'act_fun': 'Tanh', 'dropout': 0.1, 'training_strategy': None, 'loss_name': 'deviation', 'optimizer_name': 'RMSprop', 'batch_resample': True, 'epochs': 50, 'batch_size': 64, 'lr': 0.01, 'weight_decay': 0.0001}, training sucessfully.\n"
     ]
    },
    {
     "name": "stderr",
     "output_type": "stream",
     "text": [
      " 15%|███████████▊                                                                   | 15/100 [20:54<1:51:49, 78.94s/it]"
     ]
    },
    {
     "name": "stdout",
     "output_type": "stream",
     "text": [
      "Dataset: 10_cover, Current combination: {'augmentation': None, 'preprocess': 'minmax', 'network_architecture': 'AE', 'layers': 1, 'hidden_size_list': [20], 'act_fun': 'Tanh', 'dropout': 0.0, 'training_strategy': None, 'loss_name': 'inverse', 'optimizer_name': 'SGD', 'batch_resample': True, 'epochs': 100, 'batch_size': 16, 'lr': 0.001, 'weight_decay': 0.01}, training sucessfully.\n"
     ]
    },
    {
     "name": "stderr",
     "output_type": "stream",
     "text": [
      " 16%|████████████▋                                                                  | 16/100 [21:53<1:42:14, 73.03s/it]"
     ]
    },
    {
     "name": "stdout",
     "output_type": "stream",
     "text": [
      "Dataset: 10_cover, Current combination: {'augmentation': None, 'preprocess': 'minmax', 'network_architecture': 'MLP', 'layers': 2, 'hidden_size_list': [100, 20], 'act_fun': 'ReLU', 'dropout': 0.3, 'training_strategy': None, 'loss_name': 'deviation', 'optimizer_name': 'SGD', 'batch_resample': True, 'epochs': 50, 'batch_size': 16, 'lr': 0.001, 'weight_decay': 0.01}, training sucessfully.\n"
     ]
    },
    {
     "name": "stderr",
     "output_type": "stream",
     "text": [
      " 17%|█████████████▎                                                                | 17/100 [28:53<4:05:05, 177.18s/it]"
     ]
    },
    {
     "name": "stdout",
     "output_type": "stream",
     "text": [
      "Dataset: 10_cover, Current combination: {'augmentation': None, 'preprocess': 'normalize', 'network_architecture': 'FTT', 'layers': 3, 'hidden_size_list': None, 'act_fun': 'ReLU', 'dropout': None, 'training_strategy': None, 'loss_name': 'minus', 'optimizer_name': 'RMSprop', 'batch_resample': True, 'epochs': 20, 'batch_size': 64, 'lr': 0.01, 'weight_decay': 0.0001}, training sucessfully.\n"
     ]
    },
    {
     "name": "stderr",
     "output_type": "stream",
     "text": [
      " 18%|██████████████                                                                | 18/100 [30:54<3:39:08, 160.35s/it]"
     ]
    },
    {
     "name": "stdout",
     "output_type": "stream",
     "text": [
      "Dataset: 10_cover, Current combination: {'augmentation': None, 'preprocess': 'minmax', 'network_architecture': 'AE', 'layers': 3, 'hidden_size_list': [100, 50, 20], 'act_fun': 'ReLU', 'dropout': 0.3, 'training_strategy': None, 'loss_name': 'inverse', 'optimizer_name': 'RMSprop', 'batch_resample': True, 'epochs': 100, 'batch_size': 64, 'lr': 0.001, 'weight_decay': 0.0001}, training sucessfully.\n"
     ]
    },
    {
     "name": "stderr",
     "output_type": "stream",
     "text": [
      " 19%|██████████████▊                                                               | 19/100 [31:04<2:35:27, 115.16s/it]"
     ]
    },
    {
     "name": "stdout",
     "output_type": "stream",
     "text": [
      "Dataset: 10_cover, Current combination: {'augmentation': None, 'preprocess': 'normalize', 'network_architecture': 'MLP', 'layers': 3, 'hidden_size_list': [100, 50, 20], 'act_fun': 'ReLU', 'dropout': 0.3, 'training_strategy': None, 'loss_name': 'inverse', 'optimizer_name': 'SGD', 'batch_resample': True, 'epochs': 50, 'batch_size': 256, 'lr': 0.01, 'weight_decay': 0.01}, training failure.\n"
     ]
    },
    {
     "name": "stderr",
     "output_type": "stream",
     "text": [
      " 20%|███████████████▌                                                              | 20/100 [32:41<2:26:15, 109.69s/it]"
     ]
    },
    {
     "name": "stdout",
     "output_type": "stream",
     "text": [
      "Dataset: 10_cover, Current combination: {'augmentation': None, 'preprocess': 'normalize', 'network_architecture': 'ResNet', 'layers': 1, 'hidden_size_list': [20], 'act_fun': 'ReLU', 'dropout': 0.1, 'training_strategy': None, 'loss_name': 'hinge', 'optimizer_name': 'RMSprop', 'batch_resample': True, 'epochs': 50, 'batch_size': 16, 'lr': 0.001, 'weight_decay': 0.01}, training sucessfully.\n"
     ]
    },
    {
     "name": "stderr",
     "output_type": "stream",
     "text": [
      " 21%|████████████████▌                                                              | 21/100 [33:11<1:52:59, 85.82s/it]"
     ]
    },
    {
     "name": "stdout",
     "output_type": "stream",
     "text": [
      "Dataset: 10_cover, Current combination: {'augmentation': None, 'preprocess': 'minmax', 'network_architecture': 'ResNet', 'layers': 1, 'hidden_size_list': [20], 'act_fun': 'ReLU', 'dropout': 0.1, 'training_strategy': None, 'loss_name': 'minus', 'optimizer_name': 'Adam', 'batch_resample': True, 'epochs': 50, 'batch_size': 64, 'lr': 0.01, 'weight_decay': 0.0001}, training sucessfully.\n"
     ]
    },
    {
     "name": "stderr",
     "output_type": "stream",
     "text": [
      " 22%|█████████████████▍                                                             | 22/100 [33:56<1:35:39, 73.58s/it]"
     ]
    },
    {
     "name": "stdout",
     "output_type": "stream",
     "text": [
      "Dataset: 10_cover, Current combination: {'augmentation': None, 'preprocess': 'minmax', 'network_architecture': 'MLP', 'layers': 3, 'hidden_size_list': [100, 50, 20], 'act_fun': 'LeakyReLU', 'dropout': 0.3, 'training_strategy': None, 'loss_name': 'minus', 'optimizer_name': 'RMSprop', 'batch_resample': True, 'epochs': 100, 'batch_size': 64, 'lr': 0.01, 'weight_decay': 0.01}, training sucessfully.\n"
     ]
    },
    {
     "name": "stderr",
     "output_type": "stream",
     "text": [
      " 23%|██████████████████▏                                                            | 23/100 [34:34<1:20:41, 62.88s/it]"
     ]
    },
    {
     "name": "stdout",
     "output_type": "stream",
     "text": [
      "Dataset: 10_cover, Current combination: {'augmentation': None, 'preprocess': 'normalize', 'network_architecture': 'AE', 'layers': 3, 'hidden_size_list': [100, 50, 20], 'act_fun': 'Tanh', 'dropout': 0.0, 'training_strategy': None, 'loss_name': 'deviation', 'optimizer_name': 'Adam', 'batch_resample': True, 'epochs': 100, 'batch_size': 256, 'lr': 0.001, 'weight_decay': 0.0001}, training sucessfully.\n",
      "Dataset: 10_cover, Current combination: {'augmentation': None, 'preprocess': 'normalize', 'network_architecture': 'ResNet', 'layers': 2, 'hidden_size_list': [100, 20], 'act_fun': 'ReLU', 'dropout': 0.1, 'training_strategy': None, 'loss_name': 'deviation', 'optimizer_name': 'Adam', 'batch_resample': True, 'epochs': 100, 'batch_size': 256, 'lr': 0.001, 'weight_decay': 0.0001}, training failure.\n"
     ]
    },
    {
     "name": "stderr",
     "output_type": "stream",
     "text": [
      " 25%|████████████████████▎                                                            | 25/100 [35:03<50:46, 40.62s/it]"
     ]
    },
    {
     "name": "stdout",
     "output_type": "stream",
     "text": [
      "Dataset: 10_cover, Current combination: {'augmentation': None, 'preprocess': 'minmax', 'network_architecture': 'MLP', 'layers': 3, 'hidden_size_list': [100, 50, 20], 'act_fun': 'LeakyReLU', 'dropout': 0.1, 'training_strategy': None, 'loss_name': 'minus', 'optimizer_name': 'RMSprop', 'batch_resample': True, 'epochs': 20, 'batch_size': 16, 'lr': 0.01, 'weight_decay': 0.0001}, training sucessfully.\n"
     ]
    },
    {
     "name": "stderr",
     "output_type": "stream",
     "text": [
      " 26%|█████████████████████                                                            | 26/100 [35:51<52:17, 42.40s/it]"
     ]
    },
    {
     "name": "stdout",
     "output_type": "stream",
     "text": [
      "Dataset: 10_cover, Current combination: {'augmentation': None, 'preprocess': 'normalize', 'network_architecture': 'MLP', 'layers': 2, 'hidden_size_list': [100, 20], 'act_fun': 'ReLU', 'dropout': 0.3, 'training_strategy': None, 'loss_name': 'minus', 'optimizer_name': 'SGD', 'batch_resample': True, 'epochs': 50, 'batch_size': 16, 'lr': 0.01, 'weight_decay': 0.01}, training failure.\n"
     ]
    },
    {
     "name": "stderr",
     "output_type": "stream",
     "text": [
      " 27%|█████████████████████                                                         | 27/100 [41:14<2:20:54, 115.82s/it]"
     ]
    },
    {
     "name": "stdout",
     "output_type": "stream",
     "text": [
      "Dataset: 10_cover, Current combination: {'augmentation': None, 'preprocess': 'normalize', 'network_architecture': 'FTT', 'layers': 2, 'hidden_size_list': None, 'act_fun': 'ReLU', 'dropout': None, 'training_strategy': None, 'loss_name': 'deviation', 'optimizer_name': 'RMSprop', 'batch_resample': True, 'epochs': 20, 'batch_size': 16, 'lr': 0.001, 'weight_decay': 0.0001}, training sucessfully.\n"
     ]
    },
    {
     "name": "stderr",
     "output_type": "stream",
     "text": [
      " 28%|██████████████████████                                                         | 28/100 [41:17<1:42:09, 85.14s/it]"
     ]
    },
    {
     "name": "stdout",
     "output_type": "stream",
     "text": [
      "Dataset: 10_cover, Current combination: {'augmentation': None, 'preprocess': 'normalize', 'network_architecture': 'MLP', 'layers': 1, 'hidden_size_list': [20], 'act_fun': 'Tanh', 'dropout': 0.0, 'training_strategy': None, 'loss_name': 'hinge', 'optimizer_name': 'SGD', 'batch_resample': True, 'epochs': 20, 'batch_size': 256, 'lr': 0.01, 'weight_decay': 0.01}, training sucessfully.\n"
     ]
    },
    {
     "name": "stderr",
     "output_type": "stream",
     "text": [
      " 29%|██████████████████████▉                                                        | 29/100 [42:27<1:35:47, 80.95s/it]"
     ]
    },
    {
     "name": "stdout",
     "output_type": "stream",
     "text": [
      "Dataset: 10_cover, Current combination: {'augmentation': None, 'preprocess': 'minmax', 'network_architecture': 'MLP', 'layers': 3, 'hidden_size_list': [100, 50, 20], 'act_fun': 'Tanh', 'dropout': 0.1, 'training_strategy': None, 'loss_name': 'hinge', 'optimizer_name': 'RMSprop', 'batch_resample': True, 'epochs': 50, 'batch_size': 16, 'lr': 0.01, 'weight_decay': 0.01}, training sucessfully.\n"
     ]
    },
    {
     "name": "stderr",
     "output_type": "stream",
     "text": [
      " 30%|███████████████████████▋                                                       | 30/100 [42:58<1:17:42, 66.61s/it]"
     ]
    },
    {
     "name": "stdout",
     "output_type": "stream",
     "text": [
      "Dataset: 10_cover, Current combination: {'augmentation': None, 'preprocess': 'normalize', 'network_architecture': 'AE', 'layers': 3, 'hidden_size_list': [100, 50, 20], 'act_fun': 'ReLU', 'dropout': 0.1, 'training_strategy': None, 'loss_name': 'deviation', 'optimizer_name': 'Adam', 'batch_resample': True, 'epochs': 20, 'batch_size': 64, 'lr': 0.01, 'weight_decay': 0.0001}, training sucessfully.\n"
     ]
    },
    {
     "name": "stderr",
     "output_type": "stream",
     "text": [
      " 31%|█████████████████████████                                                        | 31/100 [43:14<59:49, 52.01s/it]"
     ]
    },
    {
     "name": "stdout",
     "output_type": "stream",
     "text": [
      "Dataset: 10_cover, Current combination: {'augmentation': None, 'preprocess': 'minmax', 'network_architecture': 'AE', 'layers': 3, 'hidden_size_list': [100, 50, 20], 'act_fun': 'ReLU', 'dropout': 0.3, 'training_strategy': None, 'loss_name': 'hinge', 'optimizer_name': 'SGD', 'batch_resample': True, 'epochs': 20, 'batch_size': 64, 'lr': 0.001, 'weight_decay': 0.0001}, training sucessfully.\n"
     ]
    },
    {
     "name": "stderr",
     "output_type": "stream",
     "text": [
      " 32%|█████████████████████████▉                                                       | 32/100 [43:19<43:20, 38.24s/it]"
     ]
    },
    {
     "name": "stdout",
     "output_type": "stream",
     "text": [
      "Dataset: 10_cover, Current combination: {'augmentation': None, 'preprocess': 'minmax', 'network_architecture': 'MLP', 'layers': 3, 'hidden_size_list': [100, 50, 20], 'act_fun': 'LeakyReLU', 'dropout': 0.0, 'training_strategy': None, 'loss_name': 'deviation', 'optimizer_name': 'Adam', 'batch_resample': True, 'epochs': 20, 'batch_size': 256, 'lr': 0.01, 'weight_decay': 0.01}, training sucessfully.\n"
     ]
    },
    {
     "name": "stderr",
     "output_type": "stream",
     "text": [
      " 33%|██████████████████████████▋                                                      | 33/100 [43:50<40:16, 36.07s/it]"
     ]
    },
    {
     "name": "stdout",
     "output_type": "stream",
     "text": [
      "Dataset: 10_cover, Current combination: {'augmentation': None, 'preprocess': 'minmax', 'network_architecture': 'MLP', 'layers': 1, 'hidden_size_list': [20], 'act_fun': 'ReLU', 'dropout': 0.0, 'training_strategy': None, 'loss_name': 'deviation', 'optimizer_name': 'SGD', 'batch_resample': True, 'epochs': 100, 'batch_size': 64, 'lr': 0.01, 'weight_decay': 0.0001}, training sucessfully.\n"
     ]
    },
    {
     "name": "stderr",
     "output_type": "stream",
     "text": [
      " 34%|███████████████████████████▌                                                     | 34/100 [44:36<42:49, 38.94s/it]"
     ]
    },
    {
     "name": "stdout",
     "output_type": "stream",
     "text": [
      "Dataset: 10_cover, Current combination: {'augmentation': None, 'preprocess': 'minmax', 'network_architecture': 'AE', 'layers': 2, 'hidden_size_list': [100, 20], 'act_fun': 'ReLU', 'dropout': 0.0, 'training_strategy': None, 'loss_name': 'hinge', 'optimizer_name': 'Adam', 'batch_resample': True, 'epochs': 50, 'batch_size': 64, 'lr': 0.01, 'weight_decay': 0.01}, training sucessfully.\n"
     ]
    },
    {
     "name": "stderr",
     "output_type": "stream",
     "text": [
      " 35%|████████████████████████████▎                                                    | 35/100 [44:40<31:06, 28.72s/it]"
     ]
    },
    {
     "name": "stdout",
     "output_type": "stream",
     "text": [
      "Dataset: 10_cover, Current combination: {'augmentation': None, 'preprocess': 'minmax', 'network_architecture': 'MLP', 'layers': 3, 'hidden_size_list': [100, 50, 20], 'act_fun': 'ReLU', 'dropout': 0.1, 'training_strategy': None, 'loss_name': 'inverse', 'optimizer_name': 'Adam', 'batch_resample': True, 'epochs': 20, 'batch_size': 256, 'lr': 0.001, 'weight_decay': 0.0001}, training sucessfully.\n"
     ]
    },
    {
     "name": "stderr",
     "output_type": "stream",
     "text": [
      " 36%|████████████████████████████▍                                                  | 36/100 [46:43<1:00:27, 56.68s/it]"
     ]
    },
    {
     "name": "stdout",
     "output_type": "stream",
     "text": [
      "Dataset: 10_cover, Current combination: {'augmentation': None, 'preprocess': 'normalize', 'network_architecture': 'ResNet', 'layers': 1, 'hidden_size_list': [20], 'act_fun': 'ReLU', 'dropout': 0.1, 'training_strategy': None, 'loss_name': 'hinge', 'optimizer_name': 'Adam', 'batch_resample': True, 'epochs': 50, 'batch_size': 16, 'lr': 0.001, 'weight_decay': 0.01}, training sucessfully.\n"
     ]
    },
    {
     "name": "stderr",
     "output_type": "stream",
     "text": [
      " 37%|█████████████████████████████▏                                                 | 37/100 [48:45<1:20:09, 76.35s/it]"
     ]
    },
    {
     "name": "stdout",
     "output_type": "stream",
     "text": [
      "Dataset: 10_cover, Current combination: {'augmentation': None, 'preprocess': 'minmax', 'network_architecture': 'AE', 'layers': 2, 'hidden_size_list': [100, 20], 'act_fun': 'LeakyReLU', 'dropout': 0.3, 'training_strategy': None, 'loss_name': 'minus', 'optimizer_name': 'RMSprop', 'batch_resample': True, 'epochs': 50, 'batch_size': 16, 'lr': 0.001, 'weight_decay': 0.0001}, training sucessfully.\n"
     ]
    },
    {
     "name": "stderr",
     "output_type": "stream",
     "text": [
      " 38%|██████████████████████████████▊                                                  | 38/100 [48:54<58:06, 56.23s/it]"
     ]
    },
    {
     "name": "stdout",
     "output_type": "stream",
     "text": [
      "Dataset: 10_cover, Current combination: {'augmentation': None, 'preprocess': 'normalize', 'network_architecture': 'MLP', 'layers': 2, 'hidden_size_list': [100, 20], 'act_fun': 'ReLU', 'dropout': 0.1, 'training_strategy': None, 'loss_name': 'inverse', 'optimizer_name': 'SGD', 'batch_resample': True, 'epochs': 50, 'batch_size': 256, 'lr': 0.001, 'weight_decay': 0.0001}, training sucessfully.\n"
     ]
    },
    {
     "name": "stderr",
     "output_type": "stream",
     "text": [
      " 39%|███████████████████████████████▌                                                 | 39/100 [49:16<46:29, 45.73s/it]"
     ]
    },
    {
     "name": "stdout",
     "output_type": "stream",
     "text": [
      "Dataset: 10_cover, Current combination: {'augmentation': None, 'preprocess': 'minmax', 'network_architecture': 'MLP', 'layers': 3, 'hidden_size_list': [100, 50, 20], 'act_fun': 'Tanh', 'dropout': 0.3, 'training_strategy': None, 'loss_name': 'hinge', 'optimizer_name': 'RMSprop', 'batch_resample': True, 'epochs': 100, 'batch_size': 256, 'lr': 0.001, 'weight_decay': 0.0001}, training sucessfully.\n"
     ]
    },
    {
     "name": "stderr",
     "output_type": "stream",
     "text": [
      " 40%|███████████████████████████████▌                                               | 40/100 [51:13<1:07:06, 67.11s/it]"
     ]
    },
    {
     "name": "stdout",
     "output_type": "stream",
     "text": [
      "Dataset: 10_cover, Current combination: {'augmentation': None, 'preprocess': 'minmax', 'network_architecture': 'MLP', 'layers': 2, 'hidden_size_list': [100, 20], 'act_fun': 'ReLU', 'dropout': 0.0, 'training_strategy': None, 'loss_name': 'hinge', 'optimizer_name': 'RMSprop', 'batch_resample': True, 'epochs': 100, 'batch_size': 16, 'lr': 0.001, 'weight_decay': 0.01}, training sucessfully.\n"
     ]
    },
    {
     "name": "stderr",
     "output_type": "stream",
     "text": [
      " 41%|████████████████████████████████▍                                              | 41/100 [52:09<1:02:53, 63.96s/it]"
     ]
    },
    {
     "name": "stdout",
     "output_type": "stream",
     "text": [
      "Dataset: 10_cover, Current combination: {'augmentation': None, 'preprocess': 'normalize', 'network_architecture': 'AE', 'layers': 3, 'hidden_size_list': [100, 50, 20], 'act_fun': 'LeakyReLU', 'dropout': 0.0, 'training_strategy': None, 'loss_name': 'hinge', 'optimizer_name': 'RMSprop', 'batch_resample': True, 'epochs': 20, 'batch_size': 16, 'lr': 0.01, 'weight_decay': 0.0001}, training sucessfully.\n"
     ]
    },
    {
     "name": "stderr",
     "output_type": "stream",
     "text": [
      " 42%|█████████████████████████████████▏                                             | 42/100 [53:15<1:02:15, 64.40s/it]"
     ]
    },
    {
     "name": "stdout",
     "output_type": "stream",
     "text": [
      "Dataset: 10_cover, Current combination: {'augmentation': None, 'preprocess': 'normalize', 'network_architecture': 'MLP', 'layers': 2, 'hidden_size_list': [100, 20], 'act_fun': 'Tanh', 'dropout': 0.0, 'training_strategy': None, 'loss_name': 'minus', 'optimizer_name': 'SGD', 'batch_resample': True, 'epochs': 100, 'batch_size': 16, 'lr': 0.01, 'weight_decay': 0.01}, training sucessfully.\n"
     ]
    },
    {
     "name": "stderr",
     "output_type": "stream",
     "text": [
      " 43%|█████████████████████████████████▌                                            | 43/100 [56:48<1:43:28, 108.92s/it]"
     ]
    },
    {
     "name": "stdout",
     "output_type": "stream",
     "text": [
      "Dataset: 10_cover, Current combination: {'augmentation': None, 'preprocess': 'minmax', 'network_architecture': 'FTT', 'layers': 3, 'hidden_size_list': None, 'act_fun': 'ReLU', 'dropout': None, 'training_strategy': None, 'loss_name': 'deviation', 'optimizer_name': 'SGD', 'batch_resample': True, 'epochs': 20, 'batch_size': 64, 'lr': 0.01, 'weight_decay': 0.0001}, training sucessfully.\n"
     ]
    },
    {
     "name": "stderr",
     "output_type": "stream",
     "text": [
      " 44%|██████████████████████████████████▊                                            | 44/100 [57:38<1:25:15, 91.35s/it]"
     ]
    },
    {
     "name": "stdout",
     "output_type": "stream",
     "text": [
      "Dataset: 10_cover, Current combination: {'augmentation': None, 'preprocess': 'minmax', 'network_architecture': 'AE', 'layers': 3, 'hidden_size_list': [100, 50, 20], 'act_fun': 'LeakyReLU', 'dropout': 0.3, 'training_strategy': None, 'loss_name': 'inverse', 'optimizer_name': 'RMSprop', 'batch_resample': True, 'epochs': 100, 'batch_size': 256, 'lr': 0.001, 'weight_decay': 0.01}, training sucessfully.\n"
     ]
    },
    {
     "name": "stderr",
     "output_type": "stream",
     "text": [
      " 45%|███████████████████████████████████▌                                           | 45/100 [57:50<1:02:05, 67.75s/it]"
     ]
    },
    {
     "name": "stdout",
     "output_type": "stream",
     "text": [
      "Dataset: 10_cover, Current combination: {'augmentation': None, 'preprocess': 'minmax', 'network_architecture': 'MLP', 'layers': 3, 'hidden_size_list': [100, 50, 20], 'act_fun': 'LeakyReLU', 'dropout': 0.1, 'training_strategy': None, 'loss_name': 'hinge', 'optimizer_name': 'Adam', 'batch_resample': True, 'epochs': 20, 'batch_size': 64, 'lr': 0.01, 'weight_decay': 0.01}, training sucessfully.\n"
     ]
    },
    {
     "name": "stderr",
     "output_type": "stream",
     "text": [
      " 46%|█████████████████████████████████████▎                                           | 46/100 [57:58<44:37, 49.58s/it]"
     ]
    },
    {
     "name": "stdout",
     "output_type": "stream",
     "text": [
      "Dataset: 10_cover, Current combination: {'augmentation': None, 'preprocess': 'normalize', 'network_architecture': 'MLP', 'layers': 1, 'hidden_size_list': [20], 'act_fun': 'Tanh', 'dropout': 0.0, 'training_strategy': None, 'loss_name': 'minus', 'optimizer_name': 'SGD', 'batch_resample': True, 'epochs': 50, 'batch_size': 256, 'lr': 0.01, 'weight_decay': 0.01}, training sucessfully.\n"
     ]
    },
    {
     "name": "stderr",
     "output_type": "stream",
     "text": [
      " 47%|██████████████████████████████████████                                           | 47/100 [58:30<39:21, 44.55s/it]"
     ]
    },
    {
     "name": "stdout",
     "output_type": "stream",
     "text": [
      "Dataset: 10_cover, Current combination: {'augmentation': None, 'preprocess': 'minmax', 'network_architecture': 'MLP', 'layers': 1, 'hidden_size_list': [20], 'act_fun': 'ReLU', 'dropout': 0.0, 'training_strategy': None, 'loss_name': 'minus', 'optimizer_name': 'RMSprop', 'batch_resample': True, 'epochs': 50, 'batch_size': 16, 'lr': 0.01, 'weight_decay': 0.0001}, training sucessfully.\n"
     ]
    },
    {
     "name": "stderr",
     "output_type": "stream",
     "text": [
      " 48%|██████████████████████████████████████▉                                          | 48/100 [58:40<29:25, 33.96s/it]"
     ]
    },
    {
     "name": "stdout",
     "output_type": "stream",
     "text": [
      "Dataset: 10_cover, Current combination: {'augmentation': None, 'preprocess': 'normalize', 'network_architecture': 'MLP', 'layers': 3, 'hidden_size_list': [100, 50, 20], 'act_fun': 'LeakyReLU', 'dropout': 0.3, 'training_strategy': None, 'loss_name': 'minus', 'optimizer_name': 'RMSprop', 'batch_resample': True, 'epochs': 20, 'batch_size': 64, 'lr': 0.001, 'weight_decay': 0.0001}, training sucessfully.\n"
     ]
    },
    {
     "name": "stderr",
     "output_type": "stream",
     "text": [
      " 49%|███████████████████████████████████████▋                                         | 49/100 [59:14<28:52, 33.98s/it]"
     ]
    },
    {
     "name": "stdout",
     "output_type": "stream",
     "text": [
      "Dataset: 10_cover, Current combination: {'augmentation': None, 'preprocess': 'normalize', 'network_architecture': 'AE', 'layers': 3, 'hidden_size_list': [100, 50, 20], 'act_fun': 'ReLU', 'dropout': 0.1, 'training_strategy': None, 'loss_name': 'minus', 'optimizer_name': 'RMSprop', 'batch_resample': True, 'epochs': 50, 'batch_size': 256, 'lr': 0.01, 'weight_decay': 0.01}, training sucessfully.\n"
     ]
    },
    {
     "name": "stderr",
     "output_type": "stream",
     "text": [
      " 50%|████████████████████████████████████████▌                                        | 50/100 [59:25<22:41, 27.23s/it]"
     ]
    },
    {
     "name": "stdout",
     "output_type": "stream",
     "text": [
      "Dataset: 10_cover, Current combination: {'augmentation': None, 'preprocess': 'normalize', 'network_architecture': 'AE', 'layers': 1, 'hidden_size_list': [20], 'act_fun': 'Tanh', 'dropout': 0.0, 'training_strategy': None, 'loss_name': 'hinge', 'optimizer_name': 'SGD', 'batch_resample': True, 'epochs': 50, 'batch_size': 256, 'lr': 0.01, 'weight_decay': 0.01}, training sucessfully.\n"
     ]
    },
    {
     "name": "stderr",
     "output_type": "stream",
     "text": [
      " 51%|█████████████████████████████████████████▎                                       | 51/100 [59:49<21:18, 26.09s/it]"
     ]
    },
    {
     "name": "stdout",
     "output_type": "stream",
     "text": [
      "Dataset: 10_cover, Current combination: {'augmentation': None, 'preprocess': 'minmax', 'network_architecture': 'ResNet', 'layers': 1, 'hidden_size_list': [20], 'act_fun': 'ReLU', 'dropout': 0.0, 'training_strategy': None, 'loss_name': 'deviation', 'optimizer_name': 'SGD', 'batch_resample': True, 'epochs': 100, 'batch_size': 256, 'lr': 0.001, 'weight_decay': 0.0001}, training sucessfully.\n"
     ]
    },
    {
     "name": "stderr",
     "output_type": "stream",
     "text": [
      " 52%|████████████████████████████████████████                                     | 52/100 [1:04:17<1:18:54, 98.63s/it]"
     ]
    },
    {
     "name": "stdout",
     "output_type": "stream",
     "text": [
      "Dataset: 10_cover, Current combination: {'augmentation': None, 'preprocess': 'minmax', 'network_architecture': 'FTT', 'layers': 2, 'hidden_size_list': None, 'act_fun': 'ReLU', 'dropout': None, 'training_strategy': None, 'loss_name': 'minus', 'optimizer_name': 'Adam', 'batch_resample': True, 'epochs': 50, 'batch_size': 256, 'lr': 0.001, 'weight_decay': 0.01}, training sucessfully.\n"
     ]
    },
    {
     "name": "stderr",
     "output_type": "stream",
     "text": [
      " 53%|█████████████████████████████████████████▊                                     | 53/100 [1:04:39<59:23, 75.82s/it]"
     ]
    },
    {
     "name": "stdout",
     "output_type": "stream",
     "text": [
      "Dataset: 10_cover, Current combination: {'augmentation': None, 'preprocess': 'normalize', 'network_architecture': 'MLP', 'layers': 2, 'hidden_size_list': [100, 20], 'act_fun': 'LeakyReLU', 'dropout': 0.0, 'training_strategy': None, 'loss_name': 'deviation', 'optimizer_name': 'SGD', 'batch_resample': True, 'epochs': 20, 'batch_size': 16, 'lr': 0.001, 'weight_decay': 0.0001}, training sucessfully.\n"
     ]
    },
    {
     "name": "stderr",
     "output_type": "stream",
     "text": [
      " 54%|█████████████████████████████████████████                                   | 54/100 [1:08:15<1:30:25, 117.95s/it]"
     ]
    },
    {
     "name": "stdout",
     "output_type": "stream",
     "text": [
      "Dataset: 10_cover, Current combination: {'augmentation': None, 'preprocess': 'normalize', 'network_architecture': 'FTT', 'layers': 3, 'hidden_size_list': None, 'act_fun': 'ReLU', 'dropout': None, 'training_strategy': None, 'loss_name': 'deviation', 'optimizer_name': 'SGD', 'batch_resample': True, 'epochs': 20, 'batch_size': 64, 'lr': 0.01, 'weight_decay': 0.0001}, training sucessfully.\n"
     ]
    },
    {
     "name": "stderr",
     "output_type": "stream",
     "text": [
      " 55%|██████████████████████████████████████████▎                                  | 55/100 [1:08:37<1:06:45, 89.01s/it]"
     ]
    },
    {
     "name": "stdout",
     "output_type": "stream",
     "text": [
      "Dataset: 10_cover, Current combination: {'augmentation': None, 'preprocess': 'minmax', 'network_architecture': 'MLP', 'layers': 3, 'hidden_size_list': [100, 50, 20], 'act_fun': 'Tanh', 'dropout': 0.0, 'training_strategy': None, 'loss_name': 'minus', 'optimizer_name': 'SGD', 'batch_resample': True, 'epochs': 20, 'batch_size': 16, 'lr': 0.001, 'weight_decay': 0.01}, training sucessfully.\n"
     ]
    },
    {
     "name": "stderr",
     "output_type": "stream",
     "text": [
      " 56%|████████████████████████████████████████████▏                                  | 56/100 [1:08:37<45:45, 62.39s/it]"
     ]
    },
    {
     "name": "stdout",
     "output_type": "stream",
     "text": [
      "Dataset: 10_cover, Current combination: {'augmentation': None, 'preprocess': 'normalize', 'network_architecture': 'ResNet', 'layers': 2, 'hidden_size_list': [100, 20], 'act_fun': 'ReLU', 'dropout': 0.3, 'training_strategy': None, 'loss_name': 'minus', 'optimizer_name': 'SGD', 'batch_resample': True, 'epochs': 50, 'batch_size': 64, 'lr': 0.01, 'weight_decay': 0.01}, training failure.\n"
     ]
    },
    {
     "name": "stderr",
     "output_type": "stream",
     "text": [
      " 57%|█████████████████████████████████████████████                                  | 57/100 [1:08:56<35:16, 49.22s/it]"
     ]
    },
    {
     "name": "stdout",
     "output_type": "stream",
     "text": [
      "Dataset: 10_cover, Current combination: {'augmentation': None, 'preprocess': 'minmax', 'network_architecture': 'MLP', 'layers': 1, 'hidden_size_list': [20], 'act_fun': 'ReLU', 'dropout': 0.0, 'training_strategy': None, 'loss_name': 'deviation', 'optimizer_name': 'Adam', 'batch_resample': True, 'epochs': 50, 'batch_size': 64, 'lr': 0.01, 'weight_decay': 0.0001}, training sucessfully.\n"
     ]
    },
    {
     "name": "stderr",
     "output_type": "stream",
     "text": [
      " 58%|████████████████████████████████████████████                                | 58/100 [1:14:01<1:28:09, 125.94s/it]"
     ]
    },
    {
     "name": "stdout",
     "output_type": "stream",
     "text": [
      "Dataset: 10_cover, Current combination: {'augmentation': None, 'preprocess': 'minmax', 'network_architecture': 'FTT', 'layers': 1, 'hidden_size_list': None, 'act_fun': 'ReLU', 'dropout': None, 'training_strategy': None, 'loss_name': 'inverse', 'optimizer_name': 'Adam', 'batch_resample': True, 'epochs': 100, 'batch_size': 64, 'lr': 0.001, 'weight_decay': 0.01}, training sucessfully.\n"
     ]
    },
    {
     "name": "stderr",
     "output_type": "stream",
     "text": [
      " 59%|████████████████████████████████████████████▊                               | 59/100 [1:14:41<1:08:25, 100.14s/it]"
     ]
    },
    {
     "name": "stdout",
     "output_type": "stream",
     "text": [
      "Dataset: 10_cover, Current combination: {'augmentation': None, 'preprocess': 'minmax', 'network_architecture': 'AE', 'layers': 3, 'hidden_size_list': [100, 50, 20], 'act_fun': 'ReLU', 'dropout': 0.1, 'training_strategy': None, 'loss_name': 'inverse', 'optimizer_name': 'SGD', 'batch_resample': True, 'epochs': 50, 'batch_size': 64, 'lr': 0.001, 'weight_decay': 0.0001}, training sucessfully.\n"
     ]
    },
    {
     "name": "stderr",
     "output_type": "stream",
     "text": [
      " 60%|███████████████████████████████████████████████▍                               | 60/100 [1:15:12<53:03, 79.59s/it]"
     ]
    },
    {
     "name": "stdout",
     "output_type": "stream",
     "text": [
      "Dataset: 10_cover, Current combination: {'augmentation': None, 'preprocess': 'normalize', 'network_architecture': 'AE', 'layers': 2, 'hidden_size_list': [100, 20], 'act_fun': 'ReLU', 'dropout': 0.1, 'training_strategy': None, 'loss_name': 'inverse', 'optimizer_name': 'SGD', 'batch_resample': True, 'epochs': 100, 'batch_size': 256, 'lr': 0.001, 'weight_decay': 0.0001}, training sucessfully.\n"
     ]
    },
    {
     "name": "stderr",
     "output_type": "stream",
     "text": [
      " 61%|████████████████████████████████████████████████▏                              | 61/100 [1:16:17<48:49, 75.11s/it]"
     ]
    },
    {
     "name": "stdout",
     "output_type": "stream",
     "text": [
      "Dataset: 10_cover, Current combination: {'augmentation': None, 'preprocess': 'normalize', 'network_architecture': 'AE', 'layers': 2, 'hidden_size_list': [100, 20], 'act_fun': 'LeakyReLU', 'dropout': 0.0, 'training_strategy': None, 'loss_name': 'hinge', 'optimizer_name': 'SGD', 'batch_resample': True, 'epochs': 100, 'batch_size': 64, 'lr': 0.01, 'weight_decay': 0.0001}, training sucessfully.\n"
     ]
    },
    {
     "name": "stderr",
     "output_type": "stream",
     "text": [
      " 62%|████████████████████████████████████████████████▉                              | 62/100 [1:17:02<41:52, 66.13s/it]"
     ]
    },
    {
     "name": "stdout",
     "output_type": "stream",
     "text": [
      "Dataset: 10_cover, Current combination: {'augmentation': None, 'preprocess': 'normalize', 'network_architecture': 'AE', 'layers': 3, 'hidden_size_list': [100, 50, 20], 'act_fun': 'Tanh', 'dropout': 0.0, 'training_strategy': None, 'loss_name': 'minus', 'optimizer_name': 'Adam', 'batch_resample': True, 'epochs': 50, 'batch_size': 64, 'lr': 0.01, 'weight_decay': 0.01}, training sucessfully.\n"
     ]
    },
    {
     "name": "stderr",
     "output_type": "stream",
     "text": [
      " 63%|█████████████████████████████████████████████████▊                             | 63/100 [1:17:11<30:12, 49.00s/it]"
     ]
    },
    {
     "name": "stdout",
     "output_type": "stream",
     "text": [
      "Dataset: 10_cover, Current combination: {'augmentation': None, 'preprocess': 'minmax', 'network_architecture': 'MLP', 'layers': 3, 'hidden_size_list': [100, 50, 20], 'act_fun': 'Tanh', 'dropout': 0.1, 'training_strategy': None, 'loss_name': 'deviation', 'optimizer_name': 'SGD', 'batch_resample': True, 'epochs': 20, 'batch_size': 64, 'lr': 0.001, 'weight_decay': 0.0001}, training sucessfully.\n"
     ]
    },
    {
     "name": "stderr",
     "output_type": "stream",
     "text": [
      " 64%|████████████████████████████████████████████████▋                           | 64/100 [1:22:23<1:16:43, 127.88s/it]"
     ]
    },
    {
     "name": "stdout",
     "output_type": "stream",
     "text": [
      "Dataset: 10_cover, Current combination: {'augmentation': None, 'preprocess': 'minmax', 'network_architecture': 'FTT', 'layers': 1, 'hidden_size_list': None, 'act_fun': 'ReLU', 'dropout': None, 'training_strategy': None, 'loss_name': 'hinge', 'optimizer_name': 'Adam', 'batch_resample': True, 'epochs': 100, 'batch_size': 64, 'lr': 0.001, 'weight_decay': 0.0001}, training sucessfully.\n"
     ]
    },
    {
     "name": "stderr",
     "output_type": "stream",
     "text": [
      " 65%|███████████████████████████████████████████████████▎                           | 65/100 [1:22:27<52:54, 90.71s/it]"
     ]
    },
    {
     "name": "stdout",
     "output_type": "stream",
     "text": [
      "Dataset: 10_cover, Current combination: {'augmentation': None, 'preprocess': 'normalize', 'network_architecture': 'MLP', 'layers': 3, 'hidden_size_list': [100, 50, 20], 'act_fun': 'Tanh', 'dropout': 0.1, 'training_strategy': None, 'loss_name': 'hinge', 'optimizer_name': 'SGD', 'batch_resample': True, 'epochs': 20, 'batch_size': 256, 'lr': 0.01, 'weight_decay': 0.01}, training sucessfully.\n"
     ]
    },
    {
     "name": "stderr",
     "output_type": "stream",
     "text": [
      " 66%|████████████████████████████████████████████████████▏                          | 66/100 [1:22:40<38:16, 67.54s/it]"
     ]
    },
    {
     "name": "stdout",
     "output_type": "stream",
     "text": [
      "Dataset: 10_cover, Current combination: {'augmentation': None, 'preprocess': 'normalize', 'network_architecture': 'AE', 'layers': 1, 'hidden_size_list': [20], 'act_fun': 'Tanh', 'dropout': 0.3, 'training_strategy': None, 'loss_name': 'minus', 'optimizer_name': 'Adam', 'batch_resample': True, 'epochs': 20, 'batch_size': 64, 'lr': 0.01, 'weight_decay': 0.0001}, training sucessfully.\n"
     ]
    },
    {
     "name": "stderr",
     "output_type": "stream",
     "text": [
      " 67%|████████████████████████████████████████████████████▉                          | 67/100 [1:23:20<32:34, 59.23s/it]"
     ]
    },
    {
     "name": "stdout",
     "output_type": "stream",
     "text": [
      "Dataset: 10_cover, Current combination: {'augmentation': None, 'preprocess': 'minmax', 'network_architecture': 'MLP', 'layers': 2, 'hidden_size_list': [100, 20], 'act_fun': 'LeakyReLU', 'dropout': 0.1, 'training_strategy': None, 'loss_name': 'inverse', 'optimizer_name': 'RMSprop', 'batch_resample': True, 'epochs': 100, 'batch_size': 64, 'lr': 0.001, 'weight_decay': 0.01}, training sucessfully.\n"
     ]
    },
    {
     "name": "stderr",
     "output_type": "stream",
     "text": [
      " 68%|█████████████████████████████████████████████████████▋                         | 68/100 [1:23:21<22:15, 41.73s/it]"
     ]
    },
    {
     "name": "stdout",
     "output_type": "stream",
     "text": [
      "Dataset: 10_cover, Current combination: {'augmentation': None, 'preprocess': 'normalize', 'network_architecture': 'ResNet', 'layers': 2, 'hidden_size_list': [100, 20], 'act_fun': 'ReLU', 'dropout': 0.3, 'training_strategy': None, 'loss_name': 'inverse', 'optimizer_name': 'SGD', 'batch_resample': True, 'epochs': 20, 'batch_size': 16, 'lr': 0.001, 'weight_decay': 0.01}, training failure.\n"
     ]
    },
    {
     "name": "stderr",
     "output_type": "stream",
     "text": [
      " 69%|██████████████████████████████████████████████████████▌                        | 69/100 [1:23:34<17:08, 33.16s/it]"
     ]
    },
    {
     "name": "stdout",
     "output_type": "stream",
     "text": [
      "Dataset: 10_cover, Current combination: {'augmentation': None, 'preprocess': 'normalize', 'network_architecture': 'MLP', 'layers': 3, 'hidden_size_list': [100, 50, 20], 'act_fun': 'ReLU', 'dropout': 0.1, 'training_strategy': None, 'loss_name': 'deviation', 'optimizer_name': 'Adam', 'batch_resample': True, 'epochs': 20, 'batch_size': 64, 'lr': 0.01, 'weight_decay': 0.0001}, training sucessfully.\n"
     ]
    },
    {
     "name": "stderr",
     "output_type": "stream",
     "text": [
      " 70%|███████████████████████████████████████████████████████▎                       | 70/100 [1:23:35<11:44, 23.49s/it]"
     ]
    },
    {
     "name": "stdout",
     "output_type": "stream",
     "text": [
      "Dataset: 10_cover, Current combination: {'augmentation': None, 'preprocess': 'normalize', 'network_architecture': 'ResNet', 'layers': 3, 'hidden_size_list': [100, 50, 20], 'act_fun': 'ReLU', 'dropout': 0.3, 'training_strategy': None, 'loss_name': 'deviation', 'optimizer_name': 'Adam', 'batch_resample': True, 'epochs': 50, 'batch_size': 16, 'lr': 0.01, 'weight_decay': 0.01}, training failure.\n"
     ]
    },
    {
     "name": "stderr",
     "output_type": "stream",
     "text": [
      " 71%|████████████████████████████████████████████████████████                       | 71/100 [1:24:08<12:38, 26.14s/it]"
     ]
    },
    {
     "name": "stdout",
     "output_type": "stream",
     "text": [
      "Dataset: 10_cover, Current combination: {'augmentation': None, 'preprocess': 'minmax', 'network_architecture': 'AE', 'layers': 1, 'hidden_size_list': [20], 'act_fun': 'Tanh', 'dropout': 0.3, 'training_strategy': None, 'loss_name': 'hinge', 'optimizer_name': 'SGD', 'batch_resample': True, 'epochs': 20, 'batch_size': 16, 'lr': 0.001, 'weight_decay': 0.01}, training sucessfully.\n"
     ]
    },
    {
     "name": "stderr",
     "output_type": "stream",
     "text": [
      " 72%|████████████████████████████████████████████████████████▉                      | 72/100 [1:24:21<10:20, 22.17s/it]"
     ]
    },
    {
     "name": "stdout",
     "output_type": "stream",
     "text": [
      "Dataset: 10_cover, Current combination: {'augmentation': None, 'preprocess': 'normalize', 'network_architecture': 'AE', 'layers': 1, 'hidden_size_list': [20], 'act_fun': 'LeakyReLU', 'dropout': 0.3, 'training_strategy': None, 'loss_name': 'hinge', 'optimizer_name': 'RMSprop', 'batch_resample': True, 'epochs': 20, 'batch_size': 64, 'lr': 0.01, 'weight_decay': 0.0001}, training sucessfully.\n"
     ]
    },
    {
     "name": "stderr",
     "output_type": "stream",
     "text": [
      " 73%|█████████████████████████████████████████████████████████▋                     | 73/100 [1:24:35<08:57, 19.91s/it]"
     ]
    },
    {
     "name": "stdout",
     "output_type": "stream",
     "text": [
      "Dataset: 10_cover, Current combination: {'augmentation': None, 'preprocess': 'normalize', 'network_architecture': 'MLP', 'layers': 1, 'hidden_size_list': [20], 'act_fun': 'Tanh', 'dropout': 0.3, 'training_strategy': None, 'loss_name': 'minus', 'optimizer_name': 'SGD', 'batch_resample': True, 'epochs': 100, 'batch_size': 256, 'lr': 0.001, 'weight_decay': 0.0001}, training sucessfully.\n"
     ]
    },
    {
     "name": "stderr",
     "output_type": "stream",
     "text": [
      " 74%|██████████████████████████████████████████████████████████▍                    | 74/100 [1:24:48<07:40, 17.72s/it]"
     ]
    },
    {
     "name": "stdout",
     "output_type": "stream",
     "text": [
      "Dataset: 10_cover, Current combination: {'augmentation': None, 'preprocess': 'normalize', 'network_architecture': 'AE', 'layers': 1, 'hidden_size_list': [20], 'act_fun': 'ReLU', 'dropout': 0.1, 'training_strategy': None, 'loss_name': 'hinge', 'optimizer_name': 'SGD', 'batch_resample': True, 'epochs': 50, 'batch_size': 256, 'lr': 0.001, 'weight_decay': 0.01}, training sucessfully.\n"
     ]
    },
    {
     "name": "stderr",
     "output_type": "stream",
     "text": [
      " 75%|███████████████████████████████████████████████████████████▎                   | 75/100 [1:27:24<24:40, 59.23s/it]"
     ]
    },
    {
     "name": "stdout",
     "output_type": "stream",
     "text": [
      "Dataset: 10_cover, Current combination: {'augmentation': None, 'preprocess': 'normalize', 'network_architecture': 'AE', 'layers': 3, 'hidden_size_list': [100, 50, 20], 'act_fun': 'ReLU', 'dropout': 0.1, 'training_strategy': None, 'loss_name': 'hinge', 'optimizer_name': 'Adam', 'batch_resample': True, 'epochs': 100, 'batch_size': 64, 'lr': 0.001, 'weight_decay': 0.0001}, training sucessfully.\n"
     ]
    },
    {
     "name": "stderr",
     "output_type": "stream",
     "text": [
      " 76%|████████████████████████████████████████████████████████████                   | 76/100 [1:30:34<39:23, 98.49s/it]"
     ]
    },
    {
     "name": "stdout",
     "output_type": "stream",
     "text": [
      "Dataset: 10_cover, Current combination: {'augmentation': None, 'preprocess': 'minmax', 'network_architecture': 'AE', 'layers': 1, 'hidden_size_list': [20], 'act_fun': 'Tanh', 'dropout': 0.3, 'training_strategy': None, 'loss_name': 'hinge', 'optimizer_name': 'RMSprop', 'batch_resample': True, 'epochs': 100, 'batch_size': 16, 'lr': 0.01, 'weight_decay': 0.0001}, training sucessfully.\n"
     ]
    },
    {
     "name": "stderr",
     "output_type": "stream",
     "text": [
      " 77%|████████████████████████████████████████████████████████████▊                  | 77/100 [1:30:41<27:12, 71.00s/it]"
     ]
    },
    {
     "name": "stdout",
     "output_type": "stream",
     "text": [
      "Dataset: 10_cover, Current combination: {'augmentation': None, 'preprocess': 'minmax', 'network_architecture': 'MLP', 'layers': 2, 'hidden_size_list': [100, 20], 'act_fun': 'LeakyReLU', 'dropout': 0.0, 'training_strategy': None, 'loss_name': 'minus', 'optimizer_name': 'SGD', 'batch_resample': True, 'epochs': 20, 'batch_size': 64, 'lr': 0.001, 'weight_decay': 0.01}, training failure.\n"
     ]
    },
    {
     "name": "stderr",
     "output_type": "stream",
     "text": [
      " 78%|█████████████████████████████████████████████████████████████▌                 | 78/100 [1:31:10<21:27, 58.54s/it]"
     ]
    },
    {
     "name": "stdout",
     "output_type": "stream",
     "text": [
      "Dataset: 10_cover, Current combination: {'augmentation': None, 'preprocess': 'minmax', 'network_architecture': 'MLP', 'layers': 1, 'hidden_size_list': [20], 'act_fun': 'ReLU', 'dropout': 0.1, 'training_strategy': None, 'loss_name': 'minus', 'optimizer_name': 'SGD', 'batch_resample': True, 'epochs': 50, 'batch_size': 16, 'lr': 0.001, 'weight_decay': 0.0001}, training sucessfully.\n"
     ]
    },
    {
     "name": "stderr",
     "output_type": "stream",
     "text": [
      " 79%|██████████████████████████████████████████████████████████████▍                | 79/100 [1:33:05<26:24, 75.48s/it]"
     ]
    },
    {
     "name": "stdout",
     "output_type": "stream",
     "text": [
      "Dataset: 10_cover, Current combination: {'augmentation': None, 'preprocess': 'minmax', 'network_architecture': 'MLP', 'layers': 3, 'hidden_size_list': [100, 50, 20], 'act_fun': 'ReLU', 'dropout': 0.0, 'training_strategy': None, 'loss_name': 'deviation', 'optimizer_name': 'RMSprop', 'batch_resample': True, 'epochs': 50, 'batch_size': 16, 'lr': 0.01, 'weight_decay': 0.01}, training sucessfully.\n"
     ]
    },
    {
     "name": "stderr",
     "output_type": "stream",
     "text": [
      " 80%|███████████████████████████████████████████████████████████████▏               | 80/100 [1:33:27<19:46, 59.32s/it]"
     ]
    },
    {
     "name": "stdout",
     "output_type": "stream",
     "text": [
      "Dataset: 10_cover, Current combination: {'augmentation': None, 'preprocess': 'minmax', 'network_architecture': 'AE', 'layers': 2, 'hidden_size_list': [100, 20], 'act_fun': 'LeakyReLU', 'dropout': 0.1, 'training_strategy': None, 'loss_name': 'deviation', 'optimizer_name': 'Adam', 'batch_resample': True, 'epochs': 50, 'batch_size': 256, 'lr': 0.001, 'weight_decay': 0.01}, training sucessfully.\n"
     ]
    },
    {
     "name": "stderr",
     "output_type": "stream",
     "text": [
      " 81%|███████████████████████████████████████████████████████████████▉               | 81/100 [1:35:11<23:03, 72.80s/it]"
     ]
    },
    {
     "name": "stdout",
     "output_type": "stream",
     "text": [
      "Dataset: 10_cover, Current combination: {'augmentation': None, 'preprocess': 'normalize', 'network_architecture': 'AE', 'layers': 2, 'hidden_size_list': [100, 20], 'act_fun': 'LeakyReLU', 'dropout': 0.1, 'training_strategy': None, 'loss_name': 'hinge', 'optimizer_name': 'SGD', 'batch_resample': True, 'epochs': 50, 'batch_size': 16, 'lr': 0.001, 'weight_decay': 0.0001}, training sucessfully.\n"
     ]
    },
    {
     "name": "stderr",
     "output_type": "stream",
     "text": [
      " 82%|████████████████████████████████████████████████████████████████▊              | 82/100 [1:35:20<16:02, 53.50s/it]"
     ]
    },
    {
     "name": "stdout",
     "output_type": "stream",
     "text": [
      "Dataset: 10_cover, Current combination: {'augmentation': None, 'preprocess': 'normalize', 'network_architecture': 'AE', 'layers': 3, 'hidden_size_list': [100, 50, 20], 'act_fun': 'LeakyReLU', 'dropout': 0.3, 'training_strategy': None, 'loss_name': 'inverse', 'optimizer_name': 'SGD', 'batch_resample': True, 'epochs': 20, 'batch_size': 256, 'lr': 0.01, 'weight_decay': 0.0001}, training sucessfully.\n"
     ]
    },
    {
     "name": "stderr",
     "output_type": "stream",
     "text": [
      " 85%|███████████████████████████████████████████████████████████████████▏           | 85/100 [1:37:54<11:17, 45.14s/it]"
     ]
    },
    {
     "name": "stdout",
     "output_type": "stream",
     "text": [
      "Dataset: 10_cover, Current combination: {'augmentation': None, 'preprocess': 'minmax', 'network_architecture': 'AE', 'layers': 3, 'hidden_size_list': [100, 50, 20], 'act_fun': 'LeakyReLU', 'dropout': 0.1, 'training_strategy': None, 'loss_name': 'inverse', 'optimizer_name': 'RMSprop', 'batch_resample': True, 'epochs': 50, 'batch_size': 16, 'lr': 0.001, 'weight_decay': 0.01}, training sucessfully.\n",
      "Dataset: 10_cover, Current combination: {'augmentation': None, 'preprocess': 'minmax', 'network_architecture': 'ResNet', 'layers': 2, 'hidden_size_list': [100, 20], 'act_fun': 'ReLU', 'dropout': 0.3, 'training_strategy': None, 'loss_name': 'hinge', 'optimizer_name': 'SGD', 'batch_resample': True, 'epochs': 100, 'batch_size': 256, 'lr': 0.001, 'weight_decay': 0.01}, training failure.\n",
      "Dataset: 10_cover, Current combination: {'augmentation': None, 'preprocess': 'normalize', 'network_architecture': 'ResNet', 'layers': 3, 'hidden_size_list': [100, 50, 20], 'act_fun': 'ReLU', 'dropout': 0.1, 'training_strategy': None, 'loss_name': 'deviation', 'optimizer_name': 'RMSprop', 'batch_resample': True, 'epochs': 100, 'batch_size': 256, 'lr': 0.01, 'weight_decay': 0.01}, training failure.\n"
     ]
    },
    {
     "name": "stderr",
     "output_type": "stream",
     "text": [
      " 87%|██████████████████████████████████████████████████████████████████          | 87/100 [2:14:27<1:32:25, 426.55s/it]"
     ]
    },
    {
     "name": "stdout",
     "output_type": "stream",
     "text": [
      "Dataset: 10_cover, Current combination: {'augmentation': None, 'preprocess': 'normalize', 'network_architecture': 'FTT', 'layers': 3, 'hidden_size_list': None, 'act_fun': 'ReLU', 'dropout': None, 'training_strategy': None, 'loss_name': 'deviation', 'optimizer_name': 'Adam', 'batch_resample': True, 'epochs': 50, 'batch_size': 16, 'lr': 0.01, 'weight_decay': 0.0001}, training failure.\n",
      "Dataset: 10_cover, Current combination: {'augmentation': None, 'preprocess': 'minmax', 'network_architecture': 'ResNet', 'layers': 3, 'hidden_size_list': [100, 50, 20], 'act_fun': 'ReLU', 'dropout': 0.1, 'training_strategy': None, 'loss_name': 'minus', 'optimizer_name': 'Adam', 'batch_resample': True, 'epochs': 100, 'batch_size': 256, 'lr': 0.001, 'weight_decay': 0.0001}, training failure.\n"
     ]
    },
    {
     "name": "stderr",
     "output_type": "stream",
     "text": [
      " 89%|█████████████████████████████████████████████████████████████████████▍        | 89/100 [2:14:28<41:01, 223.75s/it]"
     ]
    },
    {
     "name": "stdout",
     "output_type": "stream",
     "text": [
      "Dataset: 10_cover, Current combination: {'augmentation': None, 'preprocess': 'normalize', 'network_architecture': 'ResNet', 'layers': 2, 'hidden_size_list': [100, 20], 'act_fun': 'ReLU', 'dropout': 0.3, 'training_strategy': None, 'loss_name': 'minus', 'optimizer_name': 'SGD', 'batch_resample': True, 'epochs': 100, 'batch_size': 16, 'lr': 0.01, 'weight_decay': 0.01}, training failure.\n",
      "Dataset: 10_cover, Current combination: {'augmentation': None, 'preprocess': 'normalize', 'network_architecture': 'MLP', 'layers': 2, 'hidden_size_list': [100, 20], 'act_fun': 'LeakyReLU', 'dropout': 0.1, 'training_strategy': None, 'loss_name': 'hinge', 'optimizer_name': 'Adam', 'batch_resample': True, 'epochs': 50, 'batch_size': 64, 'lr': 0.001, 'weight_decay': 0.01}, training failure.\n"
     ]
    },
    {
     "name": "stderr",
     "output_type": "stream",
     "text": [
      " 91%|██████████████████████████████████████████████████████████████████████▉       | 91/100 [2:14:28<17:02, 113.60s/it]"
     ]
    },
    {
     "name": "stdout",
     "output_type": "stream",
     "text": [
      "Dataset: 10_cover, Current combination: {'augmentation': None, 'preprocess': 'normalize', 'network_architecture': 'AE', 'layers': 3, 'hidden_size_list': [100, 50, 20], 'act_fun': 'ReLU', 'dropout': 0.1, 'training_strategy': None, 'loss_name': 'inverse', 'optimizer_name': 'RMSprop', 'batch_resample': True, 'epochs': 100, 'batch_size': 256, 'lr': 0.001, 'weight_decay': 0.01}, training failure.\n",
      "Dataset: 10_cover, Current combination: {'augmentation': None, 'preprocess': 'minmax', 'network_architecture': 'FTT', 'layers': 3, 'hidden_size_list': None, 'act_fun': 'ReLU', 'dropout': None, 'training_strategy': None, 'loss_name': 'minus', 'optimizer_name': 'Adam', 'batch_resample': True, 'epochs': 20, 'batch_size': 256, 'lr': 0.001, 'weight_decay': 0.0001}, training failure.\n"
     ]
    },
    {
     "name": "stderr",
     "output_type": "stream",
     "text": [
      " 92%|████████████████████████████████████████████████████████████████████████▋      | 92/100 [2:14:28<10:43, 80.39s/it]"
     ]
    },
    {
     "name": "stdout",
     "output_type": "stream",
     "text": [
      "Dataset: 10_cover, Current combination: {'augmentation': None, 'preprocess': 'normalize', 'network_architecture': 'FTT', 'layers': 3, 'hidden_size_list': None, 'act_fun': 'ReLU', 'dropout': None, 'training_strategy': None, 'loss_name': 'minus', 'optimizer_name': 'SGD', 'batch_resample': True, 'epochs': 50, 'batch_size': 16, 'lr': 0.01, 'weight_decay': 0.01}, training failure.\n"
     ]
    },
    {
     "name": "stderr",
     "output_type": "stream",
     "text": [
      " 93%|█████████████████████████████████████████████████████████████████████████▍     | 93/100 [2:14:33<06:47, 58.22s/it]"
     ]
    },
    {
     "name": "stdout",
     "output_type": "stream",
     "text": [
      "Dataset: 10_cover, Current combination: {'augmentation': None, 'preprocess': 'normalize', 'network_architecture': 'MLP', 'layers': 2, 'hidden_size_list': [100, 20], 'act_fun': 'LeakyReLU', 'dropout': 0.3, 'training_strategy': None, 'loss_name': 'hinge', 'optimizer_name': 'Adam', 'batch_resample': True, 'epochs': 50, 'batch_size': 256, 'lr': 0.01, 'weight_decay': 0.01}, training failure.\n"
     ]
    },
    {
     "name": "stderr",
     "output_type": "stream",
     "text": [
      " 94%|██████████████████████████████████████████████████████████████████████████▎    | 94/100 [2:14:33<04:06, 41.03s/it]"
     ]
    },
    {
     "name": "stdout",
     "output_type": "stream",
     "text": [
      "Dataset: 10_cover, Current combination: {'augmentation': None, 'preprocess': 'normalize', 'network_architecture': 'MLP', 'layers': 3, 'hidden_size_list': [100, 50, 20], 'act_fun': 'LeakyReLU', 'dropout': 0.3, 'training_strategy': None, 'loss_name': 'inverse', 'optimizer_name': 'Adam', 'batch_resample': True, 'epochs': 20, 'batch_size': 16, 'lr': 0.01, 'weight_decay': 0.01}, training failure.\n"
     ]
    },
    {
     "name": "stderr",
     "output_type": "stream",
     "text": [
      " 96%|███████████████████████████████████████████████████████████████████████████▊   | 96/100 [2:14:34<01:21, 20.32s/it]"
     ]
    },
    {
     "name": "stdout",
     "output_type": "stream",
     "text": [
      "Dataset: 10_cover, Current combination: {'augmentation': None, 'preprocess': 'minmax', 'network_architecture': 'FTT', 'layers': 1, 'hidden_size_list': None, 'act_fun': 'ReLU', 'dropout': None, 'training_strategy': None, 'loss_name': 'inverse', 'optimizer_name': 'RMSprop', 'batch_resample': True, 'epochs': 100, 'batch_size': 256, 'lr': 0.01, 'weight_decay': 0.01}, training failure.\n",
      "Dataset: 10_cover, Current combination: {'augmentation': None, 'preprocess': 'minmax', 'network_architecture': 'MLP', 'layers': 2, 'hidden_size_list': [100, 20], 'act_fun': 'Tanh', 'dropout': 0.0, 'training_strategy': None, 'loss_name': 'inverse', 'optimizer_name': 'SGD', 'batch_resample': True, 'epochs': 20, 'batch_size': 256, 'lr': 0.01, 'weight_decay': 0.01}, training failure.\n"
     ]
    },
    {
     "name": "stderr",
     "output_type": "stream",
     "text": [
      " 98%|█████████████████████████████████████████████████████████████████████████████▍ | 98/100 [2:14:34<00:20, 10.05s/it]"
     ]
    },
    {
     "name": "stdout",
     "output_type": "stream",
     "text": [
      "Dataset: 10_cover, Current combination: {'augmentation': None, 'preprocess': 'minmax', 'network_architecture': 'ResNet', 'layers': 1, 'hidden_size_list': [20], 'act_fun': 'ReLU', 'dropout': 0.0, 'training_strategy': None, 'loss_name': 'hinge', 'optimizer_name': 'SGD', 'batch_resample': True, 'epochs': 50, 'batch_size': 64, 'lr': 0.01, 'weight_decay': 0.01}, training failure.\n",
      "Dataset: 10_cover, Current combination: {'augmentation': None, 'preprocess': 'minmax', 'network_architecture': 'AE', 'layers': 3, 'hidden_size_list': [100, 50, 20], 'act_fun': 'Tanh', 'dropout': 0.3, 'training_strategy': None, 'loss_name': 'minus', 'optimizer_name': 'RMSprop', 'batch_resample': True, 'epochs': 50, 'batch_size': 16, 'lr': 0.001, 'weight_decay': 0.01}, training failure.\n"
     ]
    },
    {
     "name": "stderr",
     "output_type": "stream",
     "text": [
      "100%|██████████████████████████████████████████████████████████████████████████████| 100/100 [2:14:34<00:00, 80.75s/it]"
     ]
    },
    {
     "name": "stdout",
     "output_type": "stream",
     "text": [
      "Dataset: 10_cover, Current combination: {'augmentation': None, 'preprocess': 'minmax', 'network_architecture': 'FTT', 'layers': 1, 'hidden_size_list': None, 'act_fun': 'ReLU', 'dropout': None, 'training_strategy': None, 'loss_name': 'hinge', 'optimizer_name': 'Adam', 'batch_resample': True, 'epochs': 100, 'batch_size': 16, 'lr': 0.001, 'weight_decay': 0.01}, training failure.\n",
      "Dataset: 10_cover, Current combination: {'augmentation': None, 'preprocess': 'minmax', 'network_architecture': 'MLP', 'layers': 1, 'hidden_size_list': [20], 'act_fun': 'Tanh', 'dropout': 0.1, 'training_strategy': None, 'loss_name': 'deviation', 'optimizer_name': 'Adam', 'batch_resample': True, 'epochs': 20, 'batch_size': 16, 'lr': 0.001, 'weight_decay': 0.0001}, training failure.\n"
     ]
    },
    {
     "name": "stderr",
     "output_type": "stream",
     "text": [
      "\n"
     ]
    },
    {
     "name": "stdout",
     "output_type": "stream",
     "text": [
      "subsampling for dataset 11_donors...\n"
     ]
    },
    {
     "name": "stderr",
     "output_type": "stream",
     "text": [
      "  2%|█▋                                                                                | 2/100 [00:00<00:31,  3.12it/s]"
     ]
    },
    {
     "name": "stdout",
     "output_type": "stream",
     "text": [
      "Dataset: 11_donors, Current combination: {'augmentation': None, 'preprocess': 'minmax', 'network_architecture': 'FTT', 'layers': 3, 'hidden_size_list': None, 'act_fun': 'ReLU', 'dropout': None, 'training_strategy': None, 'loss_name': 'inverse', 'optimizer_name': 'SGD', 'batch_resample': True, 'epochs': 20, 'batch_size': 16, 'lr': 0.001, 'weight_decay': 0.0001}, training failure.\n",
      "Dataset: 11_donors, Current combination: {'augmentation': None, 'preprocess': 'normalize', 'network_architecture': 'AE', 'layers': 3, 'hidden_size_list': [100, 50, 20], 'act_fun': 'ReLU', 'dropout': 0.0, 'training_strategy': None, 'loss_name': 'minus', 'optimizer_name': 'Adam', 'batch_resample': True, 'epochs': 100, 'batch_size': 256, 'lr': 0.001, 'weight_decay': 0.0001}, training failure.\n"
     ]
    },
    {
     "name": "stderr",
     "output_type": "stream",
     "text": [
      "  4%|███▎                                                                              | 4/100 [00:01<00:20,  4.80it/s]"
     ]
    },
    {
     "name": "stdout",
     "output_type": "stream",
     "text": [
      "Dataset: 11_donors, Current combination: {'augmentation': None, 'preprocess': 'normalize', 'network_architecture': 'AE', 'layers': 3, 'hidden_size_list': [100, 50, 20], 'act_fun': 'ReLU', 'dropout': 0.1, 'training_strategy': None, 'loss_name': 'hinge', 'optimizer_name': 'Adam', 'batch_resample': True, 'epochs': 100, 'batch_size': 64, 'lr': 0.001, 'weight_decay': 0.01}, training failure.\n",
      "Dataset: 11_donors, Current combination: {'augmentation': None, 'preprocess': 'minmax', 'network_architecture': 'MLP', 'layers': 2, 'hidden_size_list': [100, 20], 'act_fun': 'LeakyReLU', 'dropout': 0.1, 'training_strategy': None, 'loss_name': 'deviation', 'optimizer_name': 'Adam', 'batch_resample': True, 'epochs': 50, 'batch_size': 16, 'lr': 0.01, 'weight_decay': 0.01}, training failure.\n"
     ]
    },
    {
     "name": "stderr",
     "output_type": "stream",
     "text": [
      "  6%|████▉                                                                             | 6/100 [00:01<00:16,  5.69it/s]"
     ]
    },
    {
     "name": "stdout",
     "output_type": "stream",
     "text": [
      "Dataset: 11_donors, Current combination: {'augmentation': None, 'preprocess': 'normalize', 'network_architecture': 'MLP', 'layers': 3, 'hidden_size_list': [100, 50, 20], 'act_fun': 'LeakyReLU', 'dropout': 0.3, 'training_strategy': None, 'loss_name': 'minus', 'optimizer_name': 'RMSprop', 'batch_resample': True, 'epochs': 50, 'batch_size': 64, 'lr': 0.01, 'weight_decay': 0.0001}, training failure.\n",
      "Dataset: 11_donors, Current combination: {'augmentation': None, 'preprocess': 'minmax', 'network_architecture': 'AE', 'layers': 2, 'hidden_size_list': [100, 20], 'act_fun': 'ReLU', 'dropout': 0.3, 'training_strategy': None, 'loss_name': 'minus', 'optimizer_name': 'SGD', 'batch_resample': True, 'epochs': 50, 'batch_size': 16, 'lr': 0.01, 'weight_decay': 0.0001}, training failure.\n"
     ]
    },
    {
     "name": "stderr",
     "output_type": "stream",
     "text": [
      "  8%|██████▌                                                                           | 8/100 [00:01<00:15,  5.90it/s]"
     ]
    },
    {
     "name": "stdout",
     "output_type": "stream",
     "text": [
      "Dataset: 11_donors, Current combination: {'augmentation': None, 'preprocess': 'minmax', 'network_architecture': 'AE', 'layers': 3, 'hidden_size_list': [100, 50, 20], 'act_fun': 'ReLU', 'dropout': 0.0, 'training_strategy': None, 'loss_name': 'inverse', 'optimizer_name': 'RMSprop', 'batch_resample': True, 'epochs': 50, 'batch_size': 64, 'lr': 0.001, 'weight_decay': 0.01}, training failure.\n",
      "Dataset: 11_donors, Current combination: {'augmentation': None, 'preprocess': 'minmax', 'network_architecture': 'AE', 'layers': 2, 'hidden_size_list': [100, 20], 'act_fun': 'ReLU', 'dropout': 0.0, 'training_strategy': None, 'loss_name': 'hinge', 'optimizer_name': 'SGD', 'batch_resample': True, 'epochs': 20, 'batch_size': 256, 'lr': 0.001, 'weight_decay': 0.01}, training failure.\n"
     ]
    },
    {
     "name": "stderr",
     "output_type": "stream",
     "text": [
      " 10%|████████                                                                         | 10/100 [00:01<00:14,  6.07it/s]"
     ]
    },
    {
     "name": "stdout",
     "output_type": "stream",
     "text": [
      "Dataset: 11_donors, Current combination: {'augmentation': None, 'preprocess': 'minmax', 'network_architecture': 'AE', 'layers': 2, 'hidden_size_list': [100, 20], 'act_fun': 'LeakyReLU', 'dropout': 0.0, 'training_strategy': None, 'loss_name': 'inverse', 'optimizer_name': 'RMSprop', 'batch_resample': True, 'epochs': 100, 'batch_size': 64, 'lr': 0.001, 'weight_decay': 0.0001}, training failure.\n",
      "Dataset: 11_donors, Current combination: {'augmentation': None, 'preprocess': 'minmax', 'network_architecture': 'MLP', 'layers': 3, 'hidden_size_list': [100, 50, 20], 'act_fun': 'Tanh', 'dropout': 0.0, 'training_strategy': None, 'loss_name': 'minus', 'optimizer_name': 'Adam', 'batch_resample': True, 'epochs': 100, 'batch_size': 256, 'lr': 0.01, 'weight_decay': 0.01}, training failure.\n"
     ]
    },
    {
     "name": "stderr",
     "output_type": "stream",
     "text": [
      " 11%|████████▉                                                                        | 11/100 [00:25<10:58,  7.40s/it]"
     ]
    },
    {
     "name": "stdout",
     "output_type": "stream",
     "text": [
      "Dataset: 11_donors, Current combination: {'augmentation': None, 'preprocess': 'normalize', 'network_architecture': 'MLP', 'layers': 2, 'hidden_size_list': [100, 20], 'act_fun': 'Tanh', 'dropout': 0.1, 'training_strategy': None, 'loss_name': 'minus', 'optimizer_name': 'RMSprop', 'batch_resample': True, 'epochs': 100, 'batch_size': 256, 'lr': 0.01, 'weight_decay': 0.01}, training sucessfully.\n"
     ]
    },
    {
     "name": "stderr",
     "output_type": "stream",
     "text": [
      " 12%|█████████▋                                                                       | 12/100 [00:39<13:45,  9.38s/it]"
     ]
    },
    {
     "name": "stdout",
     "output_type": "stream",
     "text": [
      "Dataset: 11_donors, Current combination: {'augmentation': None, 'preprocess': 'minmax', 'network_architecture': 'AE', 'layers': 1, 'hidden_size_list': [20], 'act_fun': 'LeakyReLU', 'dropout': 0.3, 'training_strategy': None, 'loss_name': 'minus', 'optimizer_name': 'SGD', 'batch_resample': True, 'epochs': 20, 'batch_size': 64, 'lr': 0.01, 'weight_decay': 0.01}, training failure.\n"
     ]
    },
    {
     "name": "stderr",
     "output_type": "stream",
     "text": [
      " 13%|██████████▌                                                                      | 13/100 [01:09<22:24, 15.45s/it]"
     ]
    },
    {
     "name": "stdout",
     "output_type": "stream",
     "text": [
      "Dataset: 11_donors, Current combination: {'augmentation': None, 'preprocess': 'minmax', 'network_architecture': 'AE', 'layers': 2, 'hidden_size_list': [100, 20], 'act_fun': 'ReLU', 'dropout': 0.3, 'training_strategy': None, 'loss_name': 'hinge', 'optimizer_name': 'SGD', 'batch_resample': True, 'epochs': 50, 'batch_size': 16, 'lr': 0.001, 'weight_decay': 0.0001}, training failure.\n"
     ]
    },
    {
     "name": "stderr",
     "output_type": "stream",
     "text": [
      " 14%|███████████▎                                                                     | 14/100 [01:58<36:52, 25.73s/it]"
     ]
    },
    {
     "name": "stdout",
     "output_type": "stream",
     "text": [
      "Dataset: 11_donors, Current combination: {'augmentation': None, 'preprocess': 'normalize', 'network_architecture': 'AE', 'layers': 2, 'hidden_size_list': [100, 20], 'act_fun': 'Tanh', 'dropout': 0.1, 'training_strategy': None, 'loss_name': 'deviation', 'optimizer_name': 'RMSprop', 'batch_resample': True, 'epochs': 50, 'batch_size': 64, 'lr': 0.01, 'weight_decay': 0.0001}, training sucessfully.\n"
     ]
    }
   ],
   "source": [
    "for dataset in dataset_list:\n",
    "    # generate data\n",
    "    data_generator = DataGenerator(dataset=dataset)\n",
    "    data = data_generator.generator(la=0.20)\n",
    "    \n",
    "    for gym in tqdm(gyms):\n",
    "        com = Components(data=data,\n",
    "                         augmentation=gym['augmentation'],\n",
    "                         preprocess=gym['preprocess'],\n",
    "                         network_architecture=gym['network_architecture'],\n",
    "                         layers=gym['layers'],\n",
    "                         hidden_size_list=gym['hidden_size_list'],\n",
    "                         act_fun=gym['act_fun'],\n",
    "                         dropout=gym['dropout'],\n",
    "                         training_strategy=gym['training_strategy'],\n",
    "                         loss_name=gym['loss_name'],\n",
    "                         optimizer_name=gym['optimizer_name'],\n",
    "                         batch_resample=gym['batch_resample'],\n",
    "                         epochs=gym['epochs'],\n",
    "                         batch_size=gym['batch_size'],\n",
    "                         lr=gym['lr'],\n",
    "                         weight_decay=gym['weight_decay'])\n",
    "\n",
    "        try:\n",
    "            com.f_train()\n",
    "            metrics = com.f_predict_score()\n",
    "\n",
    "            df_results_AUCROC.loc[str(gym), dataset] = metrics['aucroc']\n",
    "            df_results_AUCPR.loc[str(gym), dataset] = metrics['aucpr']\n",
    "\n",
    "            print(f'Dataset: {dataset}, Current combination: {gym}, training sucessfully.')\n",
    "            \n",
    "        except KeyboardInterrupt:\n",
    "            print ('KeyboardInterrupt exception is caught')\n",
    "\n",
    "        else:\n",
    "            print(f'Dataset: {dataset}, Current combination: {gym}, training failure.')\n",
    "            pass\n",
    "            continue"
   ]
  },
  {
   "cell_type": "code",
   "execution_count": null,
   "metadata": {},
   "outputs": [],
   "source": [
    "str(gym)"
   ]
  }
 ],
 "metadata": {
  "kernelspec": {
   "display_name": "Python 3",
   "language": "python",
   "name": "python3"
  },
  "language_info": {
   "codemirror_mode": {
    "name": "ipython",
    "version": 3
   },
   "file_extension": ".py",
   "mimetype": "text/x-python",
   "name": "python",
   "nbconvert_exporter": "python",
   "pygments_lexer": "ipython3",
   "version": "3.7.7"
  },
  "toc": {
   "base_numbering": 1,
   "nav_menu": {},
   "number_sections": true,
   "sideBar": true,
   "skip_h1_title": false,
   "title_cell": "Table of Contents",
   "title_sidebar": "Contents",
   "toc_cell": false,
   "toc_position": {},
   "toc_section_display": true,
   "toc_window_display": false
  },
  "varInspector": {
   "cols": {
    "lenName": 16,
    "lenType": 16,
    "lenVar": 40
   },
   "kernels_config": {
    "python": {
     "delete_cmd_postfix": "",
     "delete_cmd_prefix": "del ",
     "library": "var_list.py",
     "varRefreshCmd": "print(var_dic_list())"
    },
    "r": {
     "delete_cmd_postfix": ") ",
     "delete_cmd_prefix": "rm(",
     "library": "var_list.r",
     "varRefreshCmd": "cat(var_dic_list()) "
    }
   },
   "types_to_exclude": [
    "module",
    "function",
    "builtin_function_or_method",
    "instance",
    "_Feature"
   ],
   "window_display": false
  }
 },
 "nbformat": 4,
 "nbformat_minor": 4
}
