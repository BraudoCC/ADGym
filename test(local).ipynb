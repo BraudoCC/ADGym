{
 "cells": [
  {
   "cell_type": "code",
   "execution_count": 1,
   "metadata": {
    "ExecuteTime": {
     "end_time": "2022-11-07T03:11:24.488667Z",
     "start_time": "2022-11-07T03:11:21.242297Z"
    }
   },
   "outputs": [],
   "source": [
    "import os\n",
    "import numpy as np\n",
    "import pandas as pd\n",
    "from itertools import product\n",
    "from tqdm import tqdm\n",
    "from iteration_utilities import unique_everseen\n",
    "\n",
    "from data_generator import DataGenerator\n",
    "from components import Components"
   ]
  },
  {
   "cell_type": "code",
   "execution_count": 2,
   "metadata": {
    "ExecuteTime": {
     "end_time": "2022-11-07T03:24:46.916751Z",
     "start_time": "2022-11-07T03:24:41.159993Z"
    }
   },
   "outputs": [
    {
     "name": "stdout",
     "output_type": "stream",
     "text": [
      "{'augmentation': [None], 'preprocess': ['minmax', 'normalize'], 'network_architecture': ['MLP', 'AE', 'ResNet', 'FTT'], 'layers': [1, 2, 3], 'hidden_size_list': [[20], [100, 20], [100, 50, 20]], 'act_fun': ['Tanh', 'ReLU', 'LeakyReLU'], 'dropout': [0.0, 0.1, 0.3], 'training_strategy': [None], 'loss_name': ['minus', 'inverse', 'hinge', 'deviation'], 'optimizer_name': ['SGD', 'Adam', 'RMSprop'], 'batch_resample': [True], 'epochs': [20, 50, 100], 'batch_size': [16, 64, 256], 'lr': [0.01, 0.001], 'weight_decay': [0.01, 0.0001]}\n"
     ]
    },
    {
     "name": "stderr",
     "output_type": "stream",
     "text": [
      "100%|██████████████████████████████████████████████████████████████████████| 279936/279936 [00:00<00:00, 332171.63it/s]"
     ]
    },
    {
     "name": "stdout",
     "output_type": "stream",
     "text": [
      "62208\n"
     ]
    },
    {
     "name": "stderr",
     "output_type": "stream",
     "text": [
      "\n"
     ]
    }
   ],
   "source": [
    "# generator combinations of different components\n",
    "com = Components()\n",
    "print(com.gym())\n",
    "\n",
    "gyms_comb = list(product(*list(com.gym().values())))\n",
    "keys = list(com.gym().keys())\n",
    "gyms = []\n",
    "\n",
    "for _ in tqdm(gyms_comb):\n",
    "    gym = {}\n",
    "    for j, __ in enumerate(_):\n",
    "        gym[keys[j]] = __\n",
    "        \n",
    "    if gym['layers'] != len(gym['hidden_size_list']):\n",
    "        continue\n",
    "        \n",
    "    # delete ResNet & FTT ReLU: activation layers\n",
    "    if gym['network_architecture'] in ['ResNet', 'FTT']:\n",
    "        if gym['act_fun'] != 'ReLU':\n",
    "            continue\n",
    "\n",
    "    # delete FTT: hidden_size_list, drop out\n",
    "    if gym['network_architecture'] == 'FTT':\n",
    "        gym['hidden_size_list'] = None\n",
    "        gym['dropout'] = None\n",
    "        \n",
    "    gyms.append(gym)\n",
    "    \n",
    "print(len(gyms))"
   ]
  },
  {
   "cell_type": "code",
   "execution_count": 3,
   "metadata": {},
   "outputs": [
    {
     "name": "stdout",
     "output_type": "stream",
     "text": [
      "100\n",
      "100\n"
     ]
    }
   ],
   "source": [
    "# random selection\n",
    "idx = np.random.choice(np.arange(len(gyms)), 100, replace=False)\n",
    "gyms = [gyms[_] for _ in idx]\n",
    "print(len(gyms))\n",
    "\n",
    "\n",
    "gyms = list(unique_everseen(gyms))\n",
    "print(len(gyms))"
   ]
  },
  {
   "cell_type": "code",
   "execution_count": 4,
   "metadata": {},
   "outputs": [
    {
     "data": {
      "text/plain": [
       "{'augmentation': None,\n",
       " 'preprocess': 'minmax',\n",
       " 'network_architecture': 'ResNet',\n",
       " 'layers': 2,\n",
       " 'hidden_size_list': [100, 20],\n",
       " 'act_fun': 'ReLU',\n",
       " 'dropout': 0.1,\n",
       " 'training_strategy': None,\n",
       " 'loss_name': 'inverse',\n",
       " 'optimizer_name': 'SGD',\n",
       " 'batch_resample': True,\n",
       " 'epochs': 50,\n",
       " 'batch_size': 64,\n",
       " 'lr': 0.01,\n",
       " 'weight_decay': 0.01}"
      ]
     },
     "execution_count": 4,
     "metadata": {},
     "output_type": "execute_result"
    }
   ],
   "source": [
    "gyms[0]"
   ]
  },
  {
   "cell_type": "markdown",
   "metadata": {},
   "source": [
    "Experiments"
   ]
  },
  {
   "cell_type": "code",
   "execution_count": 5,
   "metadata": {},
   "outputs": [],
   "source": [
    "dataset_list = [os.path.splitext(_)[0] for _ in os.listdir('datasets') if os.path.splitext(_)[1] == '.npz']\n",
    "\n",
    "df_results_AUCROC = pd.DataFrame(data=None, index=[str(_) for _ in gyms], columns=dataset_list)\n",
    "df_results_AUCPR = pd.DataFrame(data=None, index=[str(_) for _ in gyms], columns=dataset_list)"
   ]
  },
  {
   "cell_type": "code",
   "execution_count": null,
   "metadata": {
    "ExecuteTime": {
     "end_time": "2022-11-06T12:46:01.422319Z",
     "start_time": "2022-11-06T12:29:15.750829Z"
    },
    "collapsed": true,
    "jupyter": {
     "outputs_hidden": true
    }
   },
   "outputs": [
    {
     "name": "stdout",
     "output_type": "stream",
     "text": [
      "subsampling for dataset 10_cover...\n"
     ]
    },
    {
     "name": "stderr",
     "output_type": "stream",
     "text": [
      "  1%|▊                                                                                 | 1/100 [00:28<47:09, 28.58s/it]"
     ]
    },
    {
     "name": "stdout",
     "output_type": "stream",
     "text": [
      "Dataset: 10_cover, Current combination: {'augmentation': None, 'preprocess': 'minmax', 'network_architecture': 'ResNet', 'layers': 2, 'hidden_size_list': [100, 20], 'act_fun': 'ReLU', 'dropout': 0.1, 'training_strategy': None, 'loss_name': 'inverse', 'optimizer_name': 'SGD', 'batch_resample': True, 'epochs': 50, 'batch_size': 64, 'lr': 0.01, 'weight_decay': 0.01}, training failure...Error: Input contains NaN, infinity or a value too large for dtype('float32').\n"
     ]
    },
    {
     "name": "stderr",
     "output_type": "stream",
     "text": [
      "  2%|█▋                                                                                | 2/100 [00:44<34:44, 21.27s/it]"
     ]
    },
    {
     "name": "stdout",
     "output_type": "stream",
     "text": [
      "Dataset: 10_cover, Current combination: {'augmentation': None, 'preprocess': 'minmax', 'network_architecture': 'MLP', 'layers': 2, 'hidden_size_list': [100, 20], 'act_fun': 'ReLU', 'dropout': 0.0, 'training_strategy': None, 'loss_name': 'hinge', 'optimizer_name': 'SGD', 'batch_resample': True, 'epochs': 50, 'batch_size': 64, 'lr': 0.001, 'weight_decay': 0.01}, training sucessfully.\n"
     ]
    },
    {
     "name": "stderr",
     "output_type": "stream",
     "text": [
      "  3%|██▍                                                                               | 3/100 [01:14<40:34, 25.10s/it]"
     ]
    },
    {
     "name": "stdout",
     "output_type": "stream",
     "text": [
      "Dataset: 10_cover, Current combination: {'augmentation': None, 'preprocess': 'minmax', 'network_architecture': 'ResNet', 'layers': 2, 'hidden_size_list': [100, 20], 'act_fun': 'ReLU', 'dropout': 0.3, 'training_strategy': None, 'loss_name': 'deviation', 'optimizer_name': 'SGD', 'batch_resample': True, 'epochs': 100, 'batch_size': 256, 'lr': 0.01, 'weight_decay': 0.01}, training sucessfully.\n"
     ]
    },
    {
     "name": "stderr",
     "output_type": "stream",
     "text": [
      "  4%|███▎                                                                              | 4/100 [02:06<57:00, 35.63s/it]"
     ]
    },
    {
     "name": "stdout",
     "output_type": "stream",
     "text": [
      "Dataset: 10_cover, Current combination: {'augmentation': None, 'preprocess': 'normalize', 'network_architecture': 'ResNet', 'layers': 2, 'hidden_size_list': [100, 20], 'act_fun': 'ReLU', 'dropout': 0.0, 'training_strategy': None, 'loss_name': 'hinge', 'optimizer_name': 'RMSprop', 'batch_resample': True, 'epochs': 20, 'batch_size': 16, 'lr': 0.01, 'weight_decay': 0.01}, training sucessfully.\n"
     ]
    },
    {
     "name": "stderr",
     "output_type": "stream",
     "text": [
      "  5%|████                                                                            | 5/100 [02:58<1:06:13, 41.83s/it]"
     ]
    },
    {
     "name": "stdout",
     "output_type": "stream",
     "text": [
      "Dataset: 10_cover, Current combination: {'augmentation': None, 'preprocess': 'minmax', 'network_architecture': 'AE', 'layers': 1, 'hidden_size_list': [20], 'act_fun': 'ReLU', 'dropout': 0.3, 'training_strategy': None, 'loss_name': 'deviation', 'optimizer_name': 'RMSprop', 'batch_resample': True, 'epochs': 50, 'batch_size': 64, 'lr': 0.01, 'weight_decay': 0.01}, training sucessfully.\n"
     ]
    },
    {
     "name": "stderr",
     "output_type": "stream",
     "text": [
      "  6%|████▉                                                                             | 6/100 [03:14<51:20, 32.78s/it]"
     ]
    },
    {
     "name": "stdout",
     "output_type": "stream",
     "text": [
      "Dataset: 10_cover, Current combination: {'augmentation': None, 'preprocess': 'minmax', 'network_architecture': 'MLP', 'layers': 1, 'hidden_size_list': [20], 'act_fun': 'ReLU', 'dropout': 0.1, 'training_strategy': None, 'loss_name': 'hinge', 'optimizer_name': 'RMSprop', 'batch_resample': True, 'epochs': 50, 'batch_size': 64, 'lr': 0.001, 'weight_decay': 0.01}, training sucessfully.\n"
     ]
    },
    {
     "name": "stderr",
     "output_type": "stream",
     "text": [
      "  7%|█████▌                                                                         | 7/100 [11:56<4:58:40, 192.69s/it]"
     ]
    },
    {
     "name": "stdout",
     "output_type": "stream",
     "text": [
      "Dataset: 10_cover, Current combination: {'augmentation': None, 'preprocess': 'normalize', 'network_architecture': 'AE', 'layers': 3, 'hidden_size_list': [100, 50, 20], 'act_fun': 'ReLU', 'dropout': 0.1, 'training_strategy': None, 'loss_name': 'hinge', 'optimizer_name': 'RMSprop', 'batch_resample': True, 'epochs': 100, 'batch_size': 16, 'lr': 0.001, 'weight_decay': 0.01}, training sucessfully.\n"
     ]
    },
    {
     "name": "stderr",
     "output_type": "stream",
     "text": [
      "  8%|██████▎                                                                        | 8/100 [12:34<3:39:59, 143.47s/it]"
     ]
    },
    {
     "name": "stdout",
     "output_type": "stream",
     "text": [
      "Dataset: 10_cover, Current combination: {'augmentation': None, 'preprocess': 'minmax', 'network_architecture': 'AE', 'layers': 3, 'hidden_size_list': [100, 50, 20], 'act_fun': 'ReLU', 'dropout': 0.3, 'training_strategy': None, 'loss_name': 'inverse', 'optimizer_name': 'SGD', 'batch_resample': True, 'epochs': 100, 'batch_size': 256, 'lr': 0.001, 'weight_decay': 0.0001}, training sucessfully.\n"
     ]
    },
    {
     "name": "stderr",
     "output_type": "stream",
     "text": [
      "  9%|███████                                                                        | 9/100 [14:58<3:38:05, 143.80s/it]"
     ]
    },
    {
     "name": "stdout",
     "output_type": "stream",
     "text": [
      "Dataset: 10_cover, Current combination: {'augmentation': None, 'preprocess': 'normalize', 'network_architecture': 'MLP', 'layers': 3, 'hidden_size_list': [100, 50, 20], 'act_fun': 'LeakyReLU', 'dropout': 0.3, 'training_strategy': None, 'loss_name': 'hinge', 'optimizer_name': 'RMSprop', 'batch_resample': True, 'epochs': 100, 'batch_size': 16, 'lr': 0.001, 'weight_decay': 0.01}, training sucessfully.\n"
     ]
    },
    {
     "name": "stderr",
     "output_type": "stream",
     "text": [
      " 10%|███████▊                                                                      | 10/100 [15:15<2:36:41, 104.47s/it]"
     ]
    },
    {
     "name": "stdout",
     "output_type": "stream",
     "text": [
      "Dataset: 10_cover, Current combination: {'augmentation': None, 'preprocess': 'minmax', 'network_architecture': 'AE', 'layers': 2, 'hidden_size_list': [100, 20], 'act_fun': 'LeakyReLU', 'dropout': 0.3, 'training_strategy': None, 'loss_name': 'deviation', 'optimizer_name': 'SGD', 'batch_resample': True, 'epochs': 20, 'batch_size': 64, 'lr': 0.001, 'weight_decay': 0.0001}, training sucessfully.\n"
     ]
    },
    {
     "name": "stderr",
     "output_type": "stream",
     "text": [
      " 11%|████████▋                                                                      | 11/100 [15:37<1:57:28, 79.20s/it]"
     ]
    },
    {
     "name": "stdout",
     "output_type": "stream",
     "text": [
      "Dataset: 10_cover, Current combination: {'augmentation': None, 'preprocess': 'minmax', 'network_architecture': 'MLP', 'layers': 2, 'hidden_size_list': [100, 20], 'act_fun': 'Tanh', 'dropout': 0.3, 'training_strategy': None, 'loss_name': 'deviation', 'optimizer_name': 'RMSprop', 'batch_resample': True, 'epochs': 50, 'batch_size': 64, 'lr': 0.001, 'weight_decay': 0.0001}, training sucessfully.\n"
     ]
    },
    {
     "name": "stderr",
     "output_type": "stream",
     "text": [
      " 12%|█████████▎                                                                    | 12/100 [19:25<3:02:45, 124.61s/it]"
     ]
    },
    {
     "name": "stdout",
     "output_type": "stream",
     "text": [
      "Dataset: 10_cover, Current combination: {'augmentation': None, 'preprocess': 'minmax', 'network_architecture': 'AE', 'layers': 2, 'hidden_size_list': [100, 20], 'act_fun': 'LeakyReLU', 'dropout': 0.0, 'training_strategy': None, 'loss_name': 'minus', 'optimizer_name': 'RMSprop', 'batch_resample': True, 'epochs': 100, 'batch_size': 16, 'lr': 0.001, 'weight_decay': 0.0001}, training sucessfully.\n"
     ]
    },
    {
     "name": "stderr",
     "output_type": "stream",
     "text": [
      " 13%|██████████▎                                                                    | 13/100 [20:00<2:21:24, 97.52s/it]"
     ]
    },
    {
     "name": "stdout",
     "output_type": "stream",
     "text": [
      "Dataset: 10_cover, Current combination: {'augmentation': None, 'preprocess': 'normalize', 'network_architecture': 'ResNet', 'layers': 2, 'hidden_size_list': [100, 20], 'act_fun': 'ReLU', 'dropout': 0.1, 'training_strategy': None, 'loss_name': 'deviation', 'optimizer_name': 'SGD', 'batch_resample': True, 'epochs': 50, 'batch_size': 64, 'lr': 0.01, 'weight_decay': 0.0001}, training sucessfully.\n"
     ]
    },
    {
     "name": "stderr",
     "output_type": "stream",
     "text": [
      " 14%|██████████▉                                                                   | 14/100 [22:09<2:33:25, 107.04s/it]"
     ]
    },
    {
     "name": "stdout",
     "output_type": "stream",
     "text": [
      "Dataset: 10_cover, Current combination: {'augmentation': None, 'preprocess': 'minmax', 'network_architecture': 'AE', 'layers': 1, 'hidden_size_list': [20], 'act_fun': 'ReLU', 'dropout': 0.3, 'training_strategy': None, 'loss_name': 'inverse', 'optimizer_name': 'RMSprop', 'batch_resample': True, 'epochs': 50, 'batch_size': 16, 'lr': 0.001, 'weight_decay': 0.01}, training sucessfully.\n"
     ]
    },
    {
     "name": "stderr",
     "output_type": "stream",
     "text": [
      " 15%|███████████▊                                                                   | 15/100 [22:21<1:50:46, 78.19s/it]"
     ]
    },
    {
     "name": "stdout",
     "output_type": "stream",
     "text": [
      "Dataset: 10_cover, Current combination: {'augmentation': None, 'preprocess': 'minmax', 'network_architecture': 'MLP', 'layers': 2, 'hidden_size_list': [100, 20], 'act_fun': 'ReLU', 'dropout': 0.3, 'training_strategy': None, 'loss_name': 'minus', 'optimizer_name': 'RMSprop', 'batch_resample': True, 'epochs': 50, 'batch_size': 256, 'lr': 0.01, 'weight_decay': 0.0001}, training sucessfully.\n"
     ]
    },
    {
     "name": "stderr",
     "output_type": "stream",
     "text": [
      " 16%|████████████▍                                                                 | 16/100 [25:14<2:29:24, 106.73s/it]"
     ]
    },
    {
     "name": "stdout",
     "output_type": "stream",
     "text": [
      "Dataset: 10_cover, Current combination: {'augmentation': None, 'preprocess': 'normalize', 'network_architecture': 'MLP', 'layers': 3, 'hidden_size_list': [100, 50, 20], 'act_fun': 'LeakyReLU', 'dropout': 0.0, 'training_strategy': None, 'loss_name': 'deviation', 'optimizer_name': 'Adam', 'batch_resample': True, 'epochs': 100, 'batch_size': 16, 'lr': 0.001, 'weight_decay': 0.01}, training sucessfully.\n"
     ]
    },
    {
     "name": "stderr",
     "output_type": "stream",
     "text": [
      " 17%|█████████████▍                                                                 | 17/100 [25:49<1:57:47, 85.15s/it]"
     ]
    },
    {
     "name": "stdout",
     "output_type": "stream",
     "text": [
      "Dataset: 10_cover, Current combination: {'augmentation': None, 'preprocess': 'normalize', 'network_architecture': 'AE', 'layers': 2, 'hidden_size_list': [100, 20], 'act_fun': 'ReLU', 'dropout': 0.1, 'training_strategy': None, 'loss_name': 'hinge', 'optimizer_name': 'SGD', 'batch_resample': True, 'epochs': 50, 'batch_size': 64, 'lr': 0.001, 'weight_decay': 0.01}, training sucessfully.\n"
     ]
    },
    {
     "name": "stderr",
     "output_type": "stream",
     "text": [
      " 18%|██████████████▏                                                                | 18/100 [26:29<1:38:00, 71.72s/it]"
     ]
    },
    {
     "name": "stdout",
     "output_type": "stream",
     "text": [
      "Dataset: 10_cover, Current combination: {'augmentation': None, 'preprocess': 'normalize', 'network_architecture': 'AE', 'layers': 3, 'hidden_size_list': [100, 50, 20], 'act_fun': 'Tanh', 'dropout': 0.3, 'training_strategy': None, 'loss_name': 'inverse', 'optimizer_name': 'Adam', 'batch_resample': True, 'epochs': 100, 'batch_size': 256, 'lr': 0.001, 'weight_decay': 0.0001}, training sucessfully.\n"
     ]
    },
    {
     "name": "stderr",
     "output_type": "stream",
     "text": [
      " 19%|███████████████                                                                | 19/100 [27:01<1:20:43, 59.80s/it]"
     ]
    },
    {
     "name": "stdout",
     "output_type": "stream",
     "text": [
      "Dataset: 10_cover, Current combination: {'augmentation': None, 'preprocess': 'normalize', 'network_architecture': 'MLP', 'layers': 2, 'hidden_size_list': [100, 20], 'act_fun': 'ReLU', 'dropout': 0.0, 'training_strategy': None, 'loss_name': 'minus', 'optimizer_name': 'SGD', 'batch_resample': True, 'epochs': 100, 'batch_size': 64, 'lr': 0.001, 'weight_decay': 0.0001}, training failure...Error: Input contains NaN, infinity or a value too large for dtype('float32').\n"
     ]
    },
    {
     "name": "stderr",
     "output_type": "stream",
     "text": [
      " 20%|████████████████▏                                                                | 20/100 [27:10<59:23, 44.54s/it]"
     ]
    },
    {
     "name": "stdout",
     "output_type": "stream",
     "text": [
      "Dataset: 10_cover, Current combination: {'augmentation': None, 'preprocess': 'normalize', 'network_architecture': 'MLP', 'layers': 3, 'hidden_size_list': [100, 50, 20], 'act_fun': 'LeakyReLU', 'dropout': 0.1, 'training_strategy': None, 'loss_name': 'inverse', 'optimizer_name': 'SGD', 'batch_resample': True, 'epochs': 20, 'batch_size': 64, 'lr': 0.001, 'weight_decay': 0.0001}, training sucessfully.\n"
     ]
    },
    {
     "name": "stderr",
     "output_type": "stream",
     "text": [
      " 21%|█████████████████                                                                | 21/100 [27:38<52:05, 39.57s/it]"
     ]
    },
    {
     "name": "stdout",
     "output_type": "stream",
     "text": [
      "Dataset: 10_cover, Current combination: {'augmentation': None, 'preprocess': 'minmax', 'network_architecture': 'MLP', 'layers': 2, 'hidden_size_list': [100, 20], 'act_fun': 'LeakyReLU', 'dropout': 0.1, 'training_strategy': None, 'loss_name': 'deviation', 'optimizer_name': 'RMSprop', 'batch_resample': True, 'epochs': 20, 'batch_size': 16, 'lr': 0.001, 'weight_decay': 0.0001}, training sucessfully.\n"
     ]
    },
    {
     "name": "stderr",
     "output_type": "stream",
     "text": [
      " 22%|█████████████████▊                                                               | 22/100 [27:53<41:58, 32.28s/it]"
     ]
    },
    {
     "name": "stdout",
     "output_type": "stream",
     "text": [
      "Dataset: 10_cover, Current combination: {'augmentation': None, 'preprocess': 'minmax', 'network_architecture': 'MLP', 'layers': 1, 'hidden_size_list': [20], 'act_fun': 'Tanh', 'dropout': 0.1, 'training_strategy': None, 'loss_name': 'minus', 'optimizer_name': 'SGD', 'batch_resample': True, 'epochs': 100, 'batch_size': 256, 'lr': 0.001, 'weight_decay': 0.01}, training sucessfully.\n"
     ]
    },
    {
     "name": "stderr",
     "output_type": "stream",
     "text": [
      " 23%|██████████████████▏                                                            | 23/100 [29:51<1:14:31, 58.07s/it]"
     ]
    },
    {
     "name": "stdout",
     "output_type": "stream",
     "text": [
      "Dataset: 10_cover, Current combination: {'augmentation': None, 'preprocess': 'normalize', 'network_architecture': 'ResNet', 'layers': 1, 'hidden_size_list': [20], 'act_fun': 'ReLU', 'dropout': 0.3, 'training_strategy': None, 'loss_name': 'deviation', 'optimizer_name': 'Adam', 'batch_resample': True, 'epochs': 50, 'batch_size': 16, 'lr': 0.001, 'weight_decay': 0.0001}, training sucessfully.\n"
     ]
    },
    {
     "name": "stderr",
     "output_type": "stream",
     "text": [
      " 24%|██████████████████▉                                                            | 24/100 [30:16<1:00:42, 47.93s/it]"
     ]
    },
    {
     "name": "stdout",
     "output_type": "stream",
     "text": [
      "Dataset: 10_cover, Current combination: {'augmentation': None, 'preprocess': 'minmax', 'network_architecture': 'MLP', 'layers': 3, 'hidden_size_list': [100, 50, 20], 'act_fun': 'LeakyReLU', 'dropout': 0.0, 'training_strategy': None, 'loss_name': 'inverse', 'optimizer_name': 'SGD', 'batch_resample': True, 'epochs': 20, 'batch_size': 16, 'lr': 0.01, 'weight_decay': 0.0001}, training failure...Error: Input contains NaN, infinity or a value too large for dtype('float32').\n"
     ]
    },
    {
     "name": "stderr",
     "output_type": "stream",
     "text": [
      " 25%|███████████████████▊                                                           | 25/100 [32:34<1:33:44, 74.99s/it]"
     ]
    },
    {
     "name": "stdout",
     "output_type": "stream",
     "text": [
      "Dataset: 10_cover, Current combination: {'augmentation': None, 'preprocess': 'normalize', 'network_architecture': 'AE', 'layers': 2, 'hidden_size_list': [100, 20], 'act_fun': 'LeakyReLU', 'dropout': 0.3, 'training_strategy': None, 'loss_name': 'inverse', 'optimizer_name': 'RMSprop', 'batch_resample': True, 'epochs': 50, 'batch_size': 16, 'lr': 0.01, 'weight_decay': 0.0001}, training sucessfully.\n",
      "GPU is off\n"
     ]
    },
    {
     "name": "stderr",
     "output_type": "stream",
     "text": [
      " 26%|████████████████████▎                                                         | 26/100 [48:05<6:49:07, 331.72s/it]"
     ]
    },
    {
     "name": "stdout",
     "output_type": "stream",
     "text": [
      "Dataset: 10_cover, Current combination: {'augmentation': None, 'preprocess': 'minmax', 'network_architecture': 'FTT', 'layers': 2, 'hidden_size_list': None, 'act_fun': 'ReLU', 'dropout': None, 'training_strategy': None, 'loss_name': 'deviation', 'optimizer_name': 'RMSprop', 'batch_resample': True, 'epochs': 100, 'batch_size': 256, 'lr': 0.001, 'weight_decay': 0.0001}, training sucessfully.\n",
      "GPU is off\n"
     ]
    },
    {
     "name": "stderr",
     "output_type": "stream",
     "text": [
      " 27%|█████████████████████                                                         | 27/100 [55:05<7:16:00, 358.36s/it]"
     ]
    },
    {
     "name": "stdout",
     "output_type": "stream",
     "text": [
      "Dataset: 10_cover, Current combination: {'augmentation': None, 'preprocess': 'minmax', 'network_architecture': 'FTT', 'layers': 1, 'hidden_size_list': None, 'act_fun': 'ReLU', 'dropout': None, 'training_strategy': None, 'loss_name': 'inverse', 'optimizer_name': 'RMSprop', 'batch_resample': True, 'epochs': 50, 'batch_size': 16, 'lr': 0.001, 'weight_decay': 0.0001}, training sucessfully.\n"
     ]
    },
    {
     "name": "stderr",
     "output_type": "stream",
     "text": [
      " 28%|█████████████████████▊                                                        | 28/100 [56:16<5:26:25, 272.01s/it]"
     ]
    },
    {
     "name": "stdout",
     "output_type": "stream",
     "text": [
      "Dataset: 10_cover, Current combination: {'augmentation': None, 'preprocess': 'minmax', 'network_architecture': 'AE', 'layers': 1, 'hidden_size_list': [20], 'act_fun': 'Tanh', 'dropout': 0.1, 'training_strategy': None, 'loss_name': 'hinge', 'optimizer_name': 'Adam', 'batch_resample': True, 'epochs': 100, 'batch_size': 64, 'lr': 0.001, 'weight_decay': 0.0001}, training sucessfully.\n"
     ]
    },
    {
     "name": "stderr",
     "output_type": "stream",
     "text": [
      " 29%|██████████████████████▌                                                       | 29/100 [56:33<3:51:36, 195.72s/it]"
     ]
    },
    {
     "name": "stdout",
     "output_type": "stream",
     "text": [
      "Dataset: 10_cover, Current combination: {'augmentation': None, 'preprocess': 'minmax', 'network_architecture': 'AE', 'layers': 2, 'hidden_size_list': [100, 20], 'act_fun': 'Tanh', 'dropout': 0.3, 'training_strategy': None, 'loss_name': 'inverse', 'optimizer_name': 'Adam', 'batch_resample': True, 'epochs': 20, 'batch_size': 64, 'lr': 0.01, 'weight_decay': 0.0001}, training sucessfully.\n"
     ]
    },
    {
     "name": "stderr",
     "output_type": "stream",
     "text": [
      " 30%|███████████████████████▍                                                      | 30/100 [56:50<2:45:41, 142.01s/it]"
     ]
    },
    {
     "name": "stdout",
     "output_type": "stream",
     "text": [
      "Dataset: 10_cover, Current combination: {'augmentation': None, 'preprocess': 'normalize', 'network_architecture': 'ResNet', 'layers': 3, 'hidden_size_list': [100, 50, 20], 'act_fun': 'ReLU', 'dropout': 0.3, 'training_strategy': None, 'loss_name': 'inverse', 'optimizer_name': 'SGD', 'batch_resample': True, 'epochs': 50, 'batch_size': 256, 'lr': 0.001, 'weight_decay': 0.01}, training sucessfully.\n"
     ]
    },
    {
     "name": "stderr",
     "output_type": "stream",
     "text": [
      " 31%|████████████████████████▏                                                     | 31/100 [57:19<2:04:25, 108.20s/it]"
     ]
    },
    {
     "name": "stdout",
     "output_type": "stream",
     "text": [
      "Dataset: 10_cover, Current combination: {'augmentation': None, 'preprocess': 'normalize', 'network_architecture': 'AE', 'layers': 1, 'hidden_size_list': [20], 'act_fun': 'LeakyReLU', 'dropout': 0.3, 'training_strategy': None, 'loss_name': 'inverse', 'optimizer_name': 'SGD', 'batch_resample': True, 'epochs': 100, 'batch_size': 256, 'lr': 0.001, 'weight_decay': 0.01}, training sucessfully.\n"
     ]
    },
    {
     "name": "stderr",
     "output_type": "stream",
     "text": [
      " 32%|█████████████████████████▎                                                     | 32/100 [57:36<1:31:36, 80.83s/it]"
     ]
    },
    {
     "name": "stdout",
     "output_type": "stream",
     "text": [
      "Dataset: 10_cover, Current combination: {'augmentation': None, 'preprocess': 'normalize', 'network_architecture': 'AE', 'layers': 3, 'hidden_size_list': [100, 50, 20], 'act_fun': 'Tanh', 'dropout': 0.1, 'training_strategy': None, 'loss_name': 'deviation', 'optimizer_name': 'SGD', 'batch_resample': True, 'epochs': 20, 'batch_size': 64, 'lr': 0.01, 'weight_decay': 0.0001}, training sucessfully.\n"
     ]
    },
    {
     "name": "stderr",
     "output_type": "stream",
     "text": [
      " 33%|██████████████████████████                                                     | 33/100 [58:08<1:13:38, 65.95s/it]"
     ]
    },
    {
     "name": "stdout",
     "output_type": "stream",
     "text": [
      "Dataset: 10_cover, Current combination: {'augmentation': None, 'preprocess': 'normalize', 'network_architecture': 'MLP', 'layers': 2, 'hidden_size_list': [100, 20], 'act_fun': 'ReLU', 'dropout': 0.1, 'training_strategy': None, 'loss_name': 'hinge', 'optimizer_name': 'Adam', 'batch_resample': True, 'epochs': 20, 'batch_size': 16, 'lr': 0.01, 'weight_decay': 0.0001}, training sucessfully.\n",
      "GPU is off\n"
     ]
    },
    {
     "name": "stderr",
     "output_type": "stream",
     "text": [
      " 34%|█████████████████████████▊                                                  | 34/100 [1:12:28<5:34:34, 304.16s/it]"
     ]
    },
    {
     "name": "stdout",
     "output_type": "stream",
     "text": [
      "Dataset: 10_cover, Current combination: {'augmentation': None, 'preprocess': 'normalize', 'network_architecture': 'FTT', 'layers': 2, 'hidden_size_list': None, 'act_fun': 'ReLU', 'dropout': None, 'training_strategy': None, 'loss_name': 'minus', 'optimizer_name': 'RMSprop', 'batch_resample': True, 'epochs': 50, 'batch_size': 64, 'lr': 0.01, 'weight_decay': 0.01}, training sucessfully.\n"
     ]
    },
    {
     "name": "stderr",
     "output_type": "stream",
     "text": [
      " 35%|██████████████████████████▌                                                 | 35/100 [1:12:36<3:53:24, 215.46s/it]"
     ]
    },
    {
     "name": "stdout",
     "output_type": "stream",
     "text": [
      "Dataset: 10_cover, Current combination: {'augmentation': None, 'preprocess': 'minmax', 'network_architecture': 'MLP', 'layers': 1, 'hidden_size_list': [20], 'act_fun': 'ReLU', 'dropout': 0.0, 'training_strategy': None, 'loss_name': 'minus', 'optimizer_name': 'RMSprop', 'batch_resample': True, 'epochs': 50, 'batch_size': 256, 'lr': 0.001, 'weight_decay': 0.0001}, training sucessfully.\n",
      "GPU is off\n"
     ]
    },
    {
     "name": "stderr",
     "output_type": "stream",
     "text": [
      " 36%|███████████████████████████▎                                                | 36/100 [1:18:41<4:37:44, 260.38s/it]"
     ]
    },
    {
     "name": "stdout",
     "output_type": "stream",
     "text": [
      "Dataset: 10_cover, Current combination: {'augmentation': None, 'preprocess': 'normalize', 'network_architecture': 'FTT', 'layers': 1, 'hidden_size_list': None, 'act_fun': 'ReLU', 'dropout': None, 'training_strategy': None, 'loss_name': 'inverse', 'optimizer_name': 'RMSprop', 'batch_resample': True, 'epochs': 50, 'batch_size': 16, 'lr': 0.001, 'weight_decay': 0.01}, training sucessfully.\n"
     ]
    },
    {
     "name": "stderr",
     "output_type": "stream",
     "text": [
      " 37%|████████████████████████████                                                | 37/100 [1:25:07<5:12:47, 297.90s/it]"
     ]
    },
    {
     "name": "stdout",
     "output_type": "stream",
     "text": [
      "Dataset: 10_cover, Current combination: {'augmentation': None, 'preprocess': 'minmax', 'network_architecture': 'AE', 'layers': 3, 'hidden_size_list': [100, 50, 20], 'act_fun': 'ReLU', 'dropout': 0.0, 'training_strategy': None, 'loss_name': 'hinge', 'optimizer_name': 'Adam', 'batch_resample': True, 'epochs': 100, 'batch_size': 16, 'lr': 0.01, 'weight_decay': 0.01}, training sucessfully.\n"
     ]
    },
    {
     "name": "stderr",
     "output_type": "stream",
     "text": [
      " 38%|████████████████████████████▉                                               | 38/100 [1:27:16<4:15:39, 247.41s/it]"
     ]
    },
    {
     "name": "stdout",
     "output_type": "stream",
     "text": [
      "Dataset: 10_cover, Current combination: {'augmentation': None, 'preprocess': 'minmax', 'network_architecture': 'ResNet', 'layers': 3, 'hidden_size_list': [100, 50, 20], 'act_fun': 'ReLU', 'dropout': 0.3, 'training_strategy': None, 'loss_name': 'deviation', 'optimizer_name': 'SGD', 'batch_resample': True, 'epochs': 50, 'batch_size': 16, 'lr': 0.01, 'weight_decay': 0.0001}, training sucessfully.\n"
     ]
    },
    {
     "name": "stderr",
     "output_type": "stream",
     "text": [
      " 39%|█████████████████████████████▋                                              | 39/100 [1:28:14<3:13:38, 190.47s/it]"
     ]
    },
    {
     "name": "stdout",
     "output_type": "stream",
     "text": [
      "Dataset: 10_cover, Current combination: {'augmentation': None, 'preprocess': 'minmax', 'network_architecture': 'MLP', 'layers': 2, 'hidden_size_list': [100, 20], 'act_fun': 'Tanh', 'dropout': 0.3, 'training_strategy': None, 'loss_name': 'hinge', 'optimizer_name': 'RMSprop', 'batch_resample': True, 'epochs': 50, 'batch_size': 16, 'lr': 0.01, 'weight_decay': 0.0001}, training sucessfully.\n"
     ]
    },
    {
     "name": "stderr",
     "output_type": "stream",
     "text": [
      " 40%|██████████████████████████████▍                                             | 40/100 [1:28:45<2:22:47, 142.79s/it]"
     ]
    },
    {
     "name": "stdout",
     "output_type": "stream",
     "text": [
      "Dataset: 10_cover, Current combination: {'augmentation': None, 'preprocess': 'minmax', 'network_architecture': 'MLP', 'layers': 1, 'hidden_size_list': [20], 'act_fun': 'Tanh', 'dropout': 0.1, 'training_strategy': None, 'loss_name': 'inverse', 'optimizer_name': 'SGD', 'batch_resample': True, 'epochs': 50, 'batch_size': 16, 'lr': 0.001, 'weight_decay': 0.01}, training sucessfully.\n",
      "GPU is off\n"
     ]
    },
    {
     "name": "stderr",
     "output_type": "stream",
     "text": [
      " 41%|██████████████████████████████▋                                            | 41/100 [1:58:00<10:15:53, 626.33s/it]"
     ]
    },
    {
     "name": "stdout",
     "output_type": "stream",
     "text": [
      "Dataset: 10_cover, Current combination: {'augmentation': None, 'preprocess': 'normalize', 'network_architecture': 'FTT', 'layers': 3, 'hidden_size_list': None, 'act_fun': 'ReLU', 'dropout': None, 'training_strategy': None, 'loss_name': 'inverse', 'optimizer_name': 'SGD', 'batch_resample': True, 'epochs': 100, 'batch_size': 16, 'lr': 0.001, 'weight_decay': 0.01}, training sucessfully.\n"
     ]
    },
    {
     "name": "stderr",
     "output_type": "stream",
     "text": [
      " 42%|███████████████████████████████▉                                            | 42/100 [1:58:16<7:08:19, 443.10s/it]"
     ]
    },
    {
     "name": "stdout",
     "output_type": "stream",
     "text": [
      "Dataset: 10_cover, Current combination: {'augmentation': None, 'preprocess': 'minmax', 'network_architecture': 'AE', 'layers': 1, 'hidden_size_list': [20], 'act_fun': 'LeakyReLU', 'dropout': 0.1, 'training_strategy': None, 'loss_name': 'deviation', 'optimizer_name': 'RMSprop', 'batch_resample': True, 'epochs': 50, 'batch_size': 256, 'lr': 0.001, 'weight_decay': 0.01}, training sucessfully.\n"
     ]
    },
    {
     "name": "stderr",
     "output_type": "stream",
     "text": [
      " 43%|████████████████████████████████▋                                           | 43/100 [1:59:35<5:17:11, 333.88s/it]"
     ]
    },
    {
     "name": "stdout",
     "output_type": "stream",
     "text": [
      "Dataset: 10_cover, Current combination: {'augmentation': None, 'preprocess': 'minmax', 'network_architecture': 'AE', 'layers': 3, 'hidden_size_list': [100, 50, 20], 'act_fun': 'ReLU', 'dropout': 0.3, 'training_strategy': None, 'loss_name': 'minus', 'optimizer_name': 'SGD', 'batch_resample': True, 'epochs': 100, 'batch_size': 64, 'lr': 0.001, 'weight_decay': 0.0001}, training failure...Error: Input contains NaN, infinity or a value too large for dtype('float32').\n"
     ]
    },
    {
     "name": "stderr",
     "output_type": "stream",
     "text": [
      " 44%|█████████████████████████████████▍                                          | 44/100 [1:59:55<3:43:57, 239.96s/it]"
     ]
    },
    {
     "name": "stdout",
     "output_type": "stream",
     "text": [
      "Dataset: 10_cover, Current combination: {'augmentation': None, 'preprocess': 'minmax', 'network_architecture': 'AE', 'layers': 3, 'hidden_size_list': [100, 50, 20], 'act_fun': 'LeakyReLU', 'dropout': 0.3, 'training_strategy': None, 'loss_name': 'minus', 'optimizer_name': 'RMSprop', 'batch_resample': True, 'epochs': 50, 'batch_size': 256, 'lr': 0.01, 'weight_decay': 0.01}, training sucessfully.\n",
      "GPU is off\n"
     ]
    },
    {
     "name": "stderr",
     "output_type": "stream",
     "text": [
      " 45%|██████████████████████████████████▏                                         | 45/100 [2:01:52<3:05:55, 202.83s/it]"
     ]
    },
    {
     "name": "stdout",
     "output_type": "stream",
     "text": [
      "Dataset: 10_cover, Current combination: {'augmentation': None, 'preprocess': 'normalize', 'network_architecture': 'FTT', 'layers': 2, 'hidden_size_list': None, 'act_fun': 'ReLU', 'dropout': None, 'training_strategy': None, 'loss_name': 'hinge', 'optimizer_name': 'Adam', 'batch_resample': True, 'epochs': 20, 'batch_size': 64, 'lr': 0.01, 'weight_decay': 0.0001}, training sucessfully.\n"
     ]
    },
    {
     "name": "stderr",
     "output_type": "stream",
     "text": [
      " 46%|██████████████████████████████████▉                                         | 46/100 [2:02:01<2:10:14, 144.72s/it]"
     ]
    },
    {
     "name": "stdout",
     "output_type": "stream",
     "text": [
      "Dataset: 10_cover, Current combination: {'augmentation': None, 'preprocess': 'normalize', 'network_architecture': 'MLP', 'layers': 2, 'hidden_size_list': [100, 20], 'act_fun': 'Tanh', 'dropout': 0.0, 'training_strategy': None, 'loss_name': 'minus', 'optimizer_name': 'RMSprop', 'batch_resample': True, 'epochs': 50, 'batch_size': 256, 'lr': 0.01, 'weight_decay': 0.0001}, training sucessfully.\n"
     ]
    },
    {
     "name": "stderr",
     "output_type": "stream",
     "text": [
      " 47%|███████████████████████████████████▋                                        | 47/100 [2:02:04<1:30:23, 102.34s/it]"
     ]
    },
    {
     "name": "stdout",
     "output_type": "stream",
     "text": [
      "Dataset: 10_cover, Current combination: {'augmentation': None, 'preprocess': 'normalize', 'network_architecture': 'MLP', 'layers': 1, 'hidden_size_list': [20], 'act_fun': 'LeakyReLU', 'dropout': 0.3, 'training_strategy': None, 'loss_name': 'minus', 'optimizer_name': 'Adam', 'batch_resample': True, 'epochs': 20, 'batch_size': 256, 'lr': 0.001, 'weight_decay': 0.01}, training sucessfully.\n"
     ]
    },
    {
     "name": "stderr",
     "output_type": "stream",
     "text": [
      " 48%|████████████████████████████████████▍                                       | 48/100 [2:04:34<1:41:00, 116.54s/it]"
     ]
    },
    {
     "name": "stdout",
     "output_type": "stream",
     "text": [
      "Dataset: 10_cover, Current combination: {'augmentation': None, 'preprocess': 'minmax', 'network_architecture': 'ResNet', 'layers': 2, 'hidden_size_list': [100, 20], 'act_fun': 'ReLU', 'dropout': 0.3, 'training_strategy': None, 'loss_name': 'hinge', 'optimizer_name': 'Adam', 'batch_resample': True, 'epochs': 50, 'batch_size': 16, 'lr': 0.001, 'weight_decay': 0.0001}, training sucessfully.\n"
     ]
    },
    {
     "name": "stderr",
     "output_type": "stream",
     "text": [
      " 49%|█████████████████████████████████████▋                                       | 49/100 [2:04:39<1:10:39, 83.14s/it]"
     ]
    },
    {
     "name": "stdout",
     "output_type": "stream",
     "text": [
      "Dataset: 10_cover, Current combination: {'augmentation': None, 'preprocess': 'normalize', 'network_architecture': 'AE', 'layers': 1, 'hidden_size_list': [20], 'act_fun': 'Tanh', 'dropout': 0.0, 'training_strategy': None, 'loss_name': 'hinge', 'optimizer_name': 'RMSprop', 'batch_resample': True, 'epochs': 20, 'batch_size': 256, 'lr': 0.001, 'weight_decay': 0.0001}, training sucessfully.\n"
     ]
    },
    {
     "name": "stderr",
     "output_type": "stream",
     "text": [
      " 50%|███████████████████████████████████████▌                                       | 50/100 [2:04:56<52:47, 63.35s/it]"
     ]
    },
    {
     "name": "stdout",
     "output_type": "stream",
     "text": [
      "Dataset: 10_cover, Current combination: {'augmentation': None, 'preprocess': 'normalize', 'network_architecture': 'ResNet', 'layers': 2, 'hidden_size_list': [100, 20], 'act_fun': 'ReLU', 'dropout': 0.0, 'training_strategy': None, 'loss_name': 'minus', 'optimizer_name': 'Adam', 'batch_resample': True, 'epochs': 50, 'batch_size': 256, 'lr': 0.01, 'weight_decay': 0.01}, training sucessfully.\n"
     ]
    },
    {
     "name": "stderr",
     "output_type": "stream",
     "text": [
      " 51%|███████████████████████████████████████▎                                     | 51/100 [2:07:48<1:18:17, 95.88s/it]"
     ]
    },
    {
     "name": "stdout",
     "output_type": "stream",
     "text": [
      "Dataset: 10_cover, Current combination: {'augmentation': None, 'preprocess': 'normalize', 'network_architecture': 'MLP', 'layers': 3, 'hidden_size_list': [100, 50, 20], 'act_fun': 'LeakyReLU', 'dropout': 0.0, 'training_strategy': None, 'loss_name': 'deviation', 'optimizer_name': 'Adam', 'batch_resample': True, 'epochs': 100, 'batch_size': 16, 'lr': 0.001, 'weight_decay': 0.0001}, training sucessfully.\n",
      "GPU is off\n"
     ]
    },
    {
     "name": "stderr",
     "output_type": "stream",
     "text": [
      " 52%|███████████████████████████████████████▌                                    | 52/100 [2:22:30<4:25:22, 331.72s/it]"
     ]
    },
    {
     "name": "stdout",
     "output_type": "stream",
     "text": [
      "Dataset: 10_cover, Current combination: {'augmentation': None, 'preprocess': 'normalize', 'network_architecture': 'FTT', 'layers': 3, 'hidden_size_list': None, 'act_fun': 'ReLU', 'dropout': None, 'training_strategy': None, 'loss_name': 'hinge', 'optimizer_name': 'SGD', 'batch_resample': True, 'epochs': 50, 'batch_size': 16, 'lr': 0.001, 'weight_decay': 0.0001}, training sucessfully.\n",
      "GPU is off\n"
     ]
    },
    {
     "name": "stderr",
     "output_type": "stream",
     "text": [
      " 53%|████████████████████████████████████████▎                                   | 53/100 [2:24:22<3:28:19, 265.95s/it]"
     ]
    },
    {
     "name": "stdout",
     "output_type": "stream",
     "text": [
      "Dataset: 10_cover, Current combination: {'augmentation': None, 'preprocess': 'normalize', 'network_architecture': 'FTT', 'layers': 2, 'hidden_size_list': None, 'act_fun': 'ReLU', 'dropout': None, 'training_strategy': None, 'loss_name': 'deviation', 'optimizer_name': 'Adam', 'batch_resample': True, 'epochs': 20, 'batch_size': 256, 'lr': 0.001, 'weight_decay': 0.01}, training sucessfully.\n"
     ]
    },
    {
     "name": "stderr",
     "output_type": "stream",
     "text": [
      " 54%|█████████████████████████████████████████                                   | 54/100 [2:24:33<2:25:14, 189.44s/it]"
     ]
    },
    {
     "name": "stdout",
     "output_type": "stream",
     "text": [
      "Dataset: 10_cover, Current combination: {'augmentation': None, 'preprocess': 'normalize', 'network_architecture': 'MLP', 'layers': 2, 'hidden_size_list': [100, 20], 'act_fun': 'LeakyReLU', 'dropout': 0.1, 'training_strategy': None, 'loss_name': 'hinge', 'optimizer_name': 'Adam', 'batch_resample': True, 'epochs': 50, 'batch_size': 256, 'lr': 0.01, 'weight_decay': 0.0001}, training sucessfully.\n"
     ]
    },
    {
     "name": "stderr",
     "output_type": "stream",
     "text": [
      " 55%|█████████████████████████████████████████▊                                  | 55/100 [2:25:48<1:56:14, 154.98s/it]"
     ]
    },
    {
     "name": "stdout",
     "output_type": "stream",
     "text": [
      "Dataset: 10_cover, Current combination: {'augmentation': None, 'preprocess': 'normalize', 'network_architecture': 'MLP', 'layers': 3, 'hidden_size_list': [100, 50, 20], 'act_fun': 'LeakyReLU', 'dropout': 0.3, 'training_strategy': None, 'loss_name': 'inverse', 'optimizer_name': 'RMSprop', 'batch_resample': True, 'epochs': 50, 'batch_size': 16, 'lr': 0.001, 'weight_decay': 0.0001}, training sucessfully.\n"
     ]
    },
    {
     "name": "stderr",
     "output_type": "stream",
     "text": [
      " 56%|██████████████████████████████████████████▌                                 | 56/100 [2:25:52<1:20:24, 109.65s/it]"
     ]
    },
    {
     "name": "stdout",
     "output_type": "stream",
     "text": [
      "Dataset: 10_cover, Current combination: {'augmentation': None, 'preprocess': 'normalize', 'network_architecture': 'MLP', 'layers': 2, 'hidden_size_list': [100, 20], 'act_fun': 'LeakyReLU', 'dropout': 0.3, 'training_strategy': None, 'loss_name': 'hinge', 'optimizer_name': 'SGD', 'batch_resample': True, 'epochs': 20, 'batch_size': 256, 'lr': 0.001, 'weight_decay': 0.0001}, training sucessfully.\n",
      "GPU is off\n"
     ]
    },
    {
     "name": "stderr",
     "output_type": "stream",
     "text": [
      " 57%|███████████████████████████████████████████▉                                 | 57/100 [2:26:34<1:04:01, 89.34s/it]"
     ]
    },
    {
     "name": "stdout",
     "output_type": "stream",
     "text": [
      "Dataset: 10_cover, Current combination: {'augmentation': None, 'preprocess': 'minmax', 'network_architecture': 'FTT', 'layers': 1, 'hidden_size_list': None, 'act_fun': 'ReLU', 'dropout': None, 'training_strategy': None, 'loss_name': 'inverse', 'optimizer_name': 'RMSprop', 'batch_resample': True, 'epochs': 20, 'batch_size': 64, 'lr': 0.01, 'weight_decay': 0.0001}, training sucessfully.\n"
     ]
    },
    {
     "name": "stderr",
     "output_type": "stream",
     "text": [
      " 58%|████████████████████████████████████████████▋                                | 58/100 [2:27:55<1:00:48, 86.87s/it]"
     ]
    },
    {
     "name": "stdout",
     "output_type": "stream",
     "text": [
      "Dataset: 10_cover, Current combination: {'augmentation': None, 'preprocess': 'normalize', 'network_architecture': 'MLP', 'layers': 1, 'hidden_size_list': [20], 'act_fun': 'ReLU', 'dropout': 0.1, 'training_strategy': None, 'loss_name': 'hinge', 'optimizer_name': 'Adam', 'batch_resample': True, 'epochs': 100, 'batch_size': 16, 'lr': 0.01, 'weight_decay': 0.0001}, training sucessfully.\n"
     ]
    },
    {
     "name": "stderr",
     "output_type": "stream",
     "text": [
      " 59%|██████████████████████████████████████████████▌                                | 59/100 [2:29:07<56:14, 82.30s/it]"
     ]
    },
    {
     "name": "stdout",
     "output_type": "stream",
     "text": [
      "Dataset: 10_cover, Current combination: {'augmentation': None, 'preprocess': 'normalize', 'network_architecture': 'MLP', 'layers': 2, 'hidden_size_list': [100, 20], 'act_fun': 'LeakyReLU', 'dropout': 0.0, 'training_strategy': None, 'loss_name': 'deviation', 'optimizer_name': 'Adam', 'batch_resample': True, 'epochs': 50, 'batch_size': 16, 'lr': 0.001, 'weight_decay': 0.01}, training sucessfully.\n",
      "GPU is off\n"
     ]
    },
    {
     "name": "stderr",
     "output_type": "stream",
     "text": [
      " 60%|███████████████████████████████████████████████▍                               | 60/100 [2:30:26<54:20, 81.52s/it]"
     ]
    },
    {
     "name": "stdout",
     "output_type": "stream",
     "text": [
      "Dataset: 10_cover, Current combination: {'augmentation': None, 'preprocess': 'normalize', 'network_architecture': 'FTT', 'layers': 1, 'hidden_size_list': None, 'act_fun': 'ReLU', 'dropout': None, 'training_strategy': None, 'loss_name': 'deviation', 'optimizer_name': 'SGD', 'batch_resample': True, 'epochs': 20, 'batch_size': 16, 'lr': 0.001, 'weight_decay': 0.01}, training sucessfully.\n"
     ]
    },
    {
     "name": "stderr",
     "output_type": "stream",
     "text": [
      " 61%|████████████████████████████████████████████████▏                              | 61/100 [2:31:57<54:51, 84.39s/it]"
     ]
    },
    {
     "name": "stdout",
     "output_type": "stream",
     "text": [
      "Dataset: 10_cover, Current combination: {'augmentation': None, 'preprocess': 'minmax', 'network_architecture': 'AE', 'layers': 2, 'hidden_size_list': [100, 20], 'act_fun': 'Tanh', 'dropout': 0.0, 'training_strategy': None, 'loss_name': 'hinge', 'optimizer_name': 'SGD', 'batch_resample': True, 'epochs': 50, 'batch_size': 16, 'lr': 0.01, 'weight_decay': 0.01}, training sucessfully.\n"
     ]
    },
    {
     "name": "stderr",
     "output_type": "stream",
     "text": [
      " 62%|████████████████████████████████████████████████▉                              | 62/100 [2:32:34<44:21, 70.04s/it]"
     ]
    },
    {
     "name": "stdout",
     "output_type": "stream",
     "text": [
      "Dataset: 10_cover, Current combination: {'augmentation': None, 'preprocess': 'normalize', 'network_architecture': 'AE', 'layers': 2, 'hidden_size_list': [100, 20], 'act_fun': 'Tanh', 'dropout': 0.1, 'training_strategy': None, 'loss_name': 'deviation', 'optimizer_name': 'Adam', 'batch_resample': True, 'epochs': 100, 'batch_size': 256, 'lr': 0.01, 'weight_decay': 0.0001}, training sucessfully.\n"
     ]
    },
    {
     "name": "stderr",
     "output_type": "stream",
     "text": [
      " 63%|█████████████████████████████████████████████████▊                             | 63/100 [2:33:43<43:03, 69.84s/it]"
     ]
    },
    {
     "name": "stdout",
     "output_type": "stream",
     "text": [
      "Dataset: 10_cover, Current combination: {'augmentation': None, 'preprocess': 'minmax', 'network_architecture': 'AE', 'layers': 2, 'hidden_size_list': [100, 20], 'act_fun': 'LeakyReLU', 'dropout': 0.1, 'training_strategy': None, 'loss_name': 'inverse', 'optimizer_name': 'SGD', 'batch_resample': True, 'epochs': 100, 'batch_size': 64, 'lr': 0.001, 'weight_decay': 0.0001}, training failure...Error: Input contains NaN, infinity or a value too large for dtype('float32').\n"
     ]
    },
    {
     "name": "stderr",
     "output_type": "stream",
     "text": [
      " 64%|██████████████████████████████████████████████████▌                            | 64/100 [2:34:25<36:46, 61.29s/it]"
     ]
    },
    {
     "name": "stdout",
     "output_type": "stream",
     "text": [
      "Dataset: 10_cover, Current combination: {'augmentation': None, 'preprocess': 'minmax', 'network_architecture': 'MLP', 'layers': 2, 'hidden_size_list': [100, 20], 'act_fun': 'LeakyReLU', 'dropout': 0.1, 'training_strategy': None, 'loss_name': 'deviation', 'optimizer_name': 'SGD', 'batch_resample': True, 'epochs': 100, 'batch_size': 64, 'lr': 0.01, 'weight_decay': 0.01}, training sucessfully.\n"
     ]
    },
    {
     "name": "stderr",
     "output_type": "stream",
     "text": [
      " 65%|███████████████████████████████████████████████████▎                           | 65/100 [2:34:31<26:13, 44.96s/it]"
     ]
    },
    {
     "name": "stdout",
     "output_type": "stream",
     "text": [
      "Dataset: 10_cover, Current combination: {'augmentation': None, 'preprocess': 'minmax', 'network_architecture': 'MLP', 'layers': 1, 'hidden_size_list': [20], 'act_fun': 'LeakyReLU', 'dropout': 0.1, 'training_strategy': None, 'loss_name': 'hinge', 'optimizer_name': 'Adam', 'batch_resample': True, 'epochs': 20, 'batch_size': 64, 'lr': 0.001, 'weight_decay': 0.0001}, training sucessfully.\n"
     ]
    },
    {
     "name": "stderr",
     "output_type": "stream",
     "text": [
      " 66%|████████████████████████████████████████████████████▏                          | 66/100 [2:36:16<35:36, 62.82s/it]"
     ]
    },
    {
     "name": "stdout",
     "output_type": "stream",
     "text": [
      "Dataset: 10_cover, Current combination: {'augmentation': None, 'preprocess': 'minmax', 'network_architecture': 'MLP', 'layers': 3, 'hidden_size_list': [100, 50, 20], 'act_fun': 'Tanh', 'dropout': 0.0, 'training_strategy': None, 'loss_name': 'minus', 'optimizer_name': 'SGD', 'batch_resample': True, 'epochs': 100, 'batch_size': 16, 'lr': 0.001, 'weight_decay': 0.0001}, training sucessfully.\n"
     ]
    },
    {
     "name": "stderr",
     "output_type": "stream",
     "text": [
      " 67%|████████████████████████████████████████████████████▉                          | 67/100 [2:36:48<29:24, 53.48s/it]"
     ]
    },
    {
     "name": "stdout",
     "output_type": "stream",
     "text": [
      "Dataset: 10_cover, Current combination: {'augmentation': None, 'preprocess': 'normalize', 'network_architecture': 'AE', 'layers': 1, 'hidden_size_list': [20], 'act_fun': 'ReLU', 'dropout': 0.0, 'training_strategy': None, 'loss_name': 'hinge', 'optimizer_name': 'SGD', 'batch_resample': True, 'epochs': 20, 'batch_size': 16, 'lr': 0.001, 'weight_decay': 0.0001}, training sucessfully.\n"
     ]
    },
    {
     "name": "stderr",
     "output_type": "stream",
     "text": [
      " 68%|█████████████████████████████████████████████████████▋                         | 68/100 [2:37:27<26:14, 49.19s/it]"
     ]
    },
    {
     "name": "stdout",
     "output_type": "stream",
     "text": [
      "Dataset: 10_cover, Current combination: {'augmentation': None, 'preprocess': 'minmax', 'network_architecture': 'MLP', 'layers': 1, 'hidden_size_list': [20], 'act_fun': 'LeakyReLU', 'dropout': 0.3, 'training_strategy': None, 'loss_name': 'inverse', 'optimizer_name': 'Adam', 'batch_resample': True, 'epochs': 50, 'batch_size': 16, 'lr': 0.01, 'weight_decay': 0.01}, training sucessfully.\n"
     ]
    },
    {
     "name": "stderr",
     "output_type": "stream",
     "text": [
      " 69%|██████████████████████████████████████████████████████▌                        | 69/100 [2:39:46<39:18, 76.07s/it]"
     ]
    },
    {
     "name": "stdout",
     "output_type": "stream",
     "text": [
      "Dataset: 10_cover, Current combination: {'augmentation': None, 'preprocess': 'minmax', 'network_architecture': 'ResNet', 'layers': 1, 'hidden_size_list': [20], 'act_fun': 'ReLU', 'dropout': 0.1, 'training_strategy': None, 'loss_name': 'minus', 'optimizer_name': 'SGD', 'batch_resample': True, 'epochs': 100, 'batch_size': 16, 'lr': 0.001, 'weight_decay': 0.01}, training sucessfully.\n"
     ]
    },
    {
     "name": "stderr",
     "output_type": "stream",
     "text": [
      " 70%|███████████████████████████████████████████████████████▎                       | 70/100 [2:39:50<27:14, 54.48s/it]"
     ]
    },
    {
     "name": "stdout",
     "output_type": "stream",
     "text": [
      "Dataset: 10_cover, Current combination: {'augmentation': None, 'preprocess': 'normalize', 'network_architecture': 'MLP', 'layers': 3, 'hidden_size_list': [100, 50, 20], 'act_fun': 'Tanh', 'dropout': 0.1, 'training_strategy': None, 'loss_name': 'hinge', 'optimizer_name': 'SGD', 'batch_resample': True, 'epochs': 20, 'batch_size': 256, 'lr': 0.001, 'weight_decay': 0.01}, training sucessfully.\n"
     ]
    },
    {
     "name": "stderr",
     "output_type": "stream",
     "text": [
      " 71%|████████████████████████████████████████████████████████                       | 71/100 [2:40:02<20:16, 41.95s/it]"
     ]
    },
    {
     "name": "stdout",
     "output_type": "stream",
     "text": [
      "Dataset: 10_cover, Current combination: {'augmentation': None, 'preprocess': 'minmax', 'network_architecture': 'MLP', 'layers': 1, 'hidden_size_list': [20], 'act_fun': 'LeakyReLU', 'dropout': 0.1, 'training_strategy': None, 'loss_name': 'hinge', 'optimizer_name': 'SGD', 'batch_resample': True, 'epochs': 20, 'batch_size': 16, 'lr': 0.01, 'weight_decay': 0.0001}, training sucessfully.\n"
     ]
    },
    {
     "name": "stderr",
     "output_type": "stream",
     "text": [
      " 72%|████████████████████████████████████████████████████████▉                      | 72/100 [2:40:15<15:26, 33.09s/it]"
     ]
    },
    {
     "name": "stdout",
     "output_type": "stream",
     "text": [
      "Dataset: 10_cover, Current combination: {'augmentation': None, 'preprocess': 'normalize', 'network_architecture': 'MLP', 'layers': 1, 'hidden_size_list': [20], 'act_fun': 'Tanh', 'dropout': 0.1, 'training_strategy': None, 'loss_name': 'minus', 'optimizer_name': 'SGD', 'batch_resample': True, 'epochs': 20, 'batch_size': 16, 'lr': 0.01, 'weight_decay': 0.01}, training sucessfully.\n"
     ]
    },
    {
     "name": "stderr",
     "output_type": "stream",
     "text": [
      " 73%|█████████████████████████████████████████████████████████▋                     | 73/100 [2:40:20<11:04, 24.62s/it]"
     ]
    },
    {
     "name": "stdout",
     "output_type": "stream",
     "text": [
      "Dataset: 10_cover, Current combination: {'augmentation': None, 'preprocess': 'normalize', 'network_architecture': 'ResNet', 'layers': 1, 'hidden_size_list': [20], 'act_fun': 'ReLU', 'dropout': 0.1, 'training_strategy': None, 'loss_name': 'minus', 'optimizer_name': 'RMSprop', 'batch_resample': True, 'epochs': 20, 'batch_size': 256, 'lr': 0.001, 'weight_decay': 0.0001}, training sucessfully.\n",
      "GPU is off\n"
     ]
    },
    {
     "name": "stderr",
     "output_type": "stream",
     "text": [
      " 74%|█████████████████████████████████████████████████████████▋                    | 74/100 [2:46:46<57:43, 133.22s/it]"
     ]
    },
    {
     "name": "stdout",
     "output_type": "stream",
     "text": [
      "Dataset: 10_cover, Current combination: {'augmentation': None, 'preprocess': 'normalize', 'network_architecture': 'FTT', 'layers': 1, 'hidden_size_list': None, 'act_fun': 'ReLU', 'dropout': None, 'training_strategy': None, 'loss_name': 'minus', 'optimizer_name': 'SGD', 'batch_resample': True, 'epochs': 100, 'batch_size': 16, 'lr': 0.01, 'weight_decay': 0.0001}, training sucessfully.\n"
     ]
    },
    {
     "name": "stderr",
     "output_type": "stream",
     "text": [
      " 75%|██████████████████████████████████████████████████████████▌                   | 75/100 [2:47:09<41:41, 100.07s/it]"
     ]
    },
    {
     "name": "stdout",
     "output_type": "stream",
     "text": [
      "Dataset: 10_cover, Current combination: {'augmentation': None, 'preprocess': 'normalize', 'network_architecture': 'ResNet', 'layers': 1, 'hidden_size_list': [20], 'act_fun': 'ReLU', 'dropout': 0.0, 'training_strategy': None, 'loss_name': 'hinge', 'optimizer_name': 'SGD', 'batch_resample': True, 'epochs': 100, 'batch_size': 256, 'lr': 0.01, 'weight_decay': 0.0001}, training sucessfully.\n",
      "GPU is off\n"
     ]
    },
    {
     "name": "stderr",
     "output_type": "stream",
     "text": [
      " 76%|█████████████████████████████████████████████████████████▊                  | 76/100 [2:56:44<1:37:01, 242.55s/it]"
     ]
    },
    {
     "name": "stdout",
     "output_type": "stream",
     "text": [
      "Dataset: 10_cover, Current combination: {'augmentation': None, 'preprocess': 'minmax', 'network_architecture': 'FTT', 'layers': 3, 'hidden_size_list': None, 'act_fun': 'ReLU', 'dropout': None, 'training_strategy': None, 'loss_name': 'inverse', 'optimizer_name': 'SGD', 'batch_resample': True, 'epochs': 50, 'batch_size': 256, 'lr': 0.001, 'weight_decay': 0.0001}, training sucessfully.\n"
     ]
    },
    {
     "name": "stderr",
     "output_type": "stream",
     "text": [
      " 77%|██████████████████████████████████████████████████████████▌                 | 77/100 [2:58:58<1:20:29, 209.96s/it]"
     ]
    },
    {
     "name": "stdout",
     "output_type": "stream",
     "text": [
      "Dataset: 10_cover, Current combination: {'augmentation': None, 'preprocess': 'minmax', 'network_architecture': 'ResNet', 'layers': 2, 'hidden_size_list': [100, 20], 'act_fun': 'ReLU', 'dropout': 0.0, 'training_strategy': None, 'loss_name': 'minus', 'optimizer_name': 'Adam', 'batch_resample': True, 'epochs': 50, 'batch_size': 16, 'lr': 0.001, 'weight_decay': 0.01}, training sucessfully.\n"
     ]
    },
    {
     "name": "stderr",
     "output_type": "stream",
     "text": [
      " 78%|████████████████████████████████████████████████████████████▊                 | 78/100 [2:59:32<57:38, 157.20s/it]"
     ]
    },
    {
     "name": "stdout",
     "output_type": "stream",
     "text": [
      "Dataset: 10_cover, Current combination: {'augmentation': None, 'preprocess': 'normalize', 'network_architecture': 'AE', 'layers': 1, 'hidden_size_list': [20], 'act_fun': 'Tanh', 'dropout': 0.1, 'training_strategy': None, 'loss_name': 'minus', 'optimizer_name': 'Adam', 'batch_resample': True, 'epochs': 50, 'batch_size': 64, 'lr': 0.001, 'weight_decay': 0.0001}, training sucessfully.\n"
     ]
    },
    {
     "name": "stderr",
     "output_type": "stream",
     "text": [
      " 79%|█████████████████████████████████████████████████████████████▌                | 79/100 [3:00:48<46:26, 132.71s/it]"
     ]
    },
    {
     "name": "stdout",
     "output_type": "stream",
     "text": [
      "Dataset: 10_cover, Current combination: {'augmentation': None, 'preprocess': 'minmax', 'network_architecture': 'AE', 'layers': 1, 'hidden_size_list': [20], 'act_fun': 'LeakyReLU', 'dropout': 0.0, 'training_strategy': None, 'loss_name': 'minus', 'optimizer_name': 'SGD', 'batch_resample': True, 'epochs': 50, 'batch_size': 16, 'lr': 0.001, 'weight_decay': 0.0001}, training failure...Error: Input contains NaN, infinity or a value too large for dtype('float32').\n"
     ]
    },
    {
     "name": "stderr",
     "output_type": "stream",
     "text": [
      " 80%|███████████████████████████████████████████████████████████████▏               | 80/100 [3:01:08<32:57, 98.89s/it]"
     ]
    },
    {
     "name": "stdout",
     "output_type": "stream",
     "text": [
      "Dataset: 10_cover, Current combination: {'augmentation': None, 'preprocess': 'normalize', 'network_architecture': 'MLP', 'layers': 2, 'hidden_size_list': [100, 20], 'act_fun': 'Tanh', 'dropout': 0.3, 'training_strategy': None, 'loss_name': 'minus', 'optimizer_name': 'SGD', 'batch_resample': True, 'epochs': 20, 'batch_size': 16, 'lr': 0.01, 'weight_decay': 0.01}, training sucessfully.\n"
     ]
    },
    {
     "name": "stderr",
     "output_type": "stream",
     "text": [
      " 81%|███████████████████████████████████████████████████████████████▉               | 81/100 [3:01:11<22:14, 70.22s/it]"
     ]
    },
    {
     "name": "stdout",
     "output_type": "stream",
     "text": [
      "Dataset: 10_cover, Current combination: {'augmentation': None, 'preprocess': 'normalize', 'network_architecture': 'MLP', 'layers': 1, 'hidden_size_list': [20], 'act_fun': 'LeakyReLU', 'dropout': 0.3, 'training_strategy': None, 'loss_name': 'minus', 'optimizer_name': 'Adam', 'batch_resample': True, 'epochs': 20, 'batch_size': 256, 'lr': 0.01, 'weight_decay': 0.0001}, training sucessfully.\n"
     ]
    },
    {
     "name": "stderr",
     "output_type": "stream",
     "text": [
      " 82%|████████████████████████████████████████████████████████████████▊              | 82/100 [3:02:32<22:02, 73.48s/it]"
     ]
    },
    {
     "name": "stdout",
     "output_type": "stream",
     "text": [
      "Dataset: 10_cover, Current combination: {'augmentation': None, 'preprocess': 'normalize', 'network_architecture': 'AE', 'layers': 3, 'hidden_size_list': [100, 50, 20], 'act_fun': 'LeakyReLU', 'dropout': 0.3, 'training_strategy': None, 'loss_name': 'minus', 'optimizer_name': 'SGD', 'batch_resample': True, 'epochs': 100, 'batch_size': 64, 'lr': 0.001, 'weight_decay': 0.01}, training failure...Error: Input contains NaN, infinity or a value too large for dtype('float32').\n"
     ]
    },
    {
     "name": "stderr",
     "output_type": "stream",
     "text": [
      " 83%|█████████████████████████████████████████████████████████████████▌             | 83/100 [3:03:14<18:08, 64.01s/it]"
     ]
    },
    {
     "name": "stdout",
     "output_type": "stream",
     "text": [
      "Dataset: 10_cover, Current combination: {'augmentation': None, 'preprocess': 'minmax', 'network_architecture': 'ResNet', 'layers': 1, 'hidden_size_list': [20], 'act_fun': 'ReLU', 'dropout': 0.1, 'training_strategy': None, 'loss_name': 'hinge', 'optimizer_name': 'Adam', 'batch_resample': True, 'epochs': 20, 'batch_size': 16, 'lr': 0.01, 'weight_decay': 0.0001}, training sucessfully.\n"
     ]
    },
    {
     "name": "stderr",
     "output_type": "stream",
     "text": [
      " 84%|██████████████████████████████████████████████████████████████████▎            | 84/100 [3:04:25<17:36, 66.01s/it]"
     ]
    },
    {
     "name": "stdout",
     "output_type": "stream",
     "text": [
      "Dataset: 10_cover, Current combination: {'augmentation': None, 'preprocess': 'normalize', 'network_architecture': 'AE', 'layers': 2, 'hidden_size_list': [100, 20], 'act_fun': 'Tanh', 'dropout': 0.1, 'training_strategy': None, 'loss_name': 'deviation', 'optimizer_name': 'SGD', 'batch_resample': True, 'epochs': 100, 'batch_size': 64, 'lr': 0.01, 'weight_decay': 0.0001}, training sucessfully.\n"
     ]
    },
    {
     "name": "stderr",
     "output_type": "stream",
     "text": [
      " 85%|███████████████████████████████████████████████████████████████████▏           | 85/100 [3:04:54<13:44, 54.98s/it]"
     ]
    },
    {
     "name": "stdout",
     "output_type": "stream",
     "text": [
      "Dataset: 10_cover, Current combination: {'augmentation': None, 'preprocess': 'minmax', 'network_architecture': 'AE', 'layers': 2, 'hidden_size_list': [100, 20], 'act_fun': 'Tanh', 'dropout': 0.0, 'training_strategy': None, 'loss_name': 'deviation', 'optimizer_name': 'SGD', 'batch_resample': True, 'epochs': 100, 'batch_size': 256, 'lr': 0.001, 'weight_decay': 0.0001}, training sucessfully.\n"
     ]
    },
    {
     "name": "stderr",
     "output_type": "stream",
     "text": [
      " 86%|███████████████████████████████████████████████████████████████████▉           | 86/100 [3:05:06<09:50, 42.20s/it]"
     ]
    },
    {
     "name": "stdout",
     "output_type": "stream",
     "text": [
      "Dataset: 10_cover, Current combination: {'augmentation': None, 'preprocess': 'minmax', 'network_architecture': 'AE', 'layers': 2, 'hidden_size_list': [100, 20], 'act_fun': 'Tanh', 'dropout': 0.0, 'training_strategy': None, 'loss_name': 'inverse', 'optimizer_name': 'SGD', 'batch_resample': True, 'epochs': 20, 'batch_size': 64, 'lr': 0.001, 'weight_decay': 0.0001}, training sucessfully.\n"
     ]
    },
    {
     "name": "stderr",
     "output_type": "stream",
     "text": [
      " 87%|████████████████████████████████████████████████████████████████████▋          | 87/100 [3:05:11<06:42, 30.97s/it]"
     ]
    },
    {
     "name": "stdout",
     "output_type": "stream",
     "text": [
      "Dataset: 10_cover, Current combination: {'augmentation': None, 'preprocess': 'minmax', 'network_architecture': 'MLP', 'layers': 3, 'hidden_size_list': [100, 50, 20], 'act_fun': 'ReLU', 'dropout': 0.3, 'training_strategy': None, 'loss_name': 'hinge', 'optimizer_name': 'Adam', 'batch_resample': True, 'epochs': 20, 'batch_size': 256, 'lr': 0.001, 'weight_decay': 0.01}, training sucessfully.\n"
     ]
    },
    {
     "name": "stderr",
     "output_type": "stream",
     "text": [
      " 88%|█████████████████████████████████████████████████████████████████████▌         | 88/100 [3:07:04<11:07, 55.66s/it]"
     ]
    },
    {
     "name": "stdout",
     "output_type": "stream",
     "text": [
      "Dataset: 10_cover, Current combination: {'augmentation': None, 'preprocess': 'normalize', 'network_architecture': 'ResNet', 'layers': 1, 'hidden_size_list': [20], 'act_fun': 'ReLU', 'dropout': 0.1, 'training_strategy': None, 'loss_name': 'deviation', 'optimizer_name': 'Adam', 'batch_resample': True, 'epochs': 50, 'batch_size': 16, 'lr': 0.001, 'weight_decay': 0.0001}, training sucessfully.\n"
     ]
    },
    {
     "name": "stderr",
     "output_type": "stream",
     "text": [
      " 89%|██████████████████████████████████████████████████████████████████████▎        | 89/100 [3:08:09<10:42, 58.41s/it]"
     ]
    },
    {
     "name": "stdout",
     "output_type": "stream",
     "text": [
      "Dataset: 10_cover, Current combination: {'augmentation': None, 'preprocess': 'normalize', 'network_architecture': 'AE', 'layers': 2, 'hidden_size_list': [100, 20], 'act_fun': 'ReLU', 'dropout': 0.3, 'training_strategy': None, 'loss_name': 'inverse', 'optimizer_name': 'RMSprop', 'batch_resample': True, 'epochs': 100, 'batch_size': 256, 'lr': 0.01, 'weight_decay': 0.0001}, training sucessfully.\n"
     ]
    },
    {
     "name": "stderr",
     "output_type": "stream",
     "text": [
      " 90%|███████████████████████████████████████████████████████████████████████        | 90/100 [3:10:50<14:51, 89.11s/it]"
     ]
    },
    {
     "name": "stdout",
     "output_type": "stream",
     "text": [
      "Dataset: 10_cover, Current combination: {'augmentation': None, 'preprocess': 'normalize', 'network_architecture': 'ResNet', 'layers': 1, 'hidden_size_list': [20], 'act_fun': 'ReLU', 'dropout': 0.1, 'training_strategy': None, 'loss_name': 'deviation', 'optimizer_name': 'SGD', 'batch_resample': True, 'epochs': 100, 'batch_size': 16, 'lr': 0.01, 'weight_decay': 0.01}, training sucessfully.\n"
     ]
    },
    {
     "name": "stderr",
     "output_type": "stream",
     "text": [
      " 91%|███████████████████████████████████████████████████████████████████████▉       | 91/100 [3:11:19<10:39, 71.07s/it]"
     ]
    },
    {
     "name": "stdout",
     "output_type": "stream",
     "text": [
      "Dataset: 10_cover, Current combination: {'augmentation': None, 'preprocess': 'minmax', 'network_architecture': 'MLP', 'layers': 3, 'hidden_size_list': [100, 50, 20], 'act_fun': 'LeakyReLU', 'dropout': 0.3, 'training_strategy': None, 'loss_name': 'minus', 'optimizer_name': 'RMSprop', 'batch_resample': True, 'epochs': 20, 'batch_size': 16, 'lr': 0.01, 'weight_decay': 0.01}, training sucessfully.\n"
     ]
    },
    {
     "name": "stderr",
     "output_type": "stream",
     "text": [
      " 92%|████████████████████████████████████████████████████████████████████████▋      | 92/100 [3:11:23<06:48, 51.01s/it]"
     ]
    },
    {
     "name": "stdout",
     "output_type": "stream",
     "text": [
      "Dataset: 10_cover, Current combination: {'augmentation': None, 'preprocess': 'normalize', 'network_architecture': 'MLP', 'layers': 2, 'hidden_size_list': [100, 20], 'act_fun': 'LeakyReLU', 'dropout': 0.3, 'training_strategy': None, 'loss_name': 'inverse', 'optimizer_name': 'Adam', 'batch_resample': True, 'epochs': 20, 'batch_size': 256, 'lr': 0.01, 'weight_decay': 0.0001}, training sucessfully.\n",
      "GPU is off\n"
     ]
    },
    {
     "name": "stderr",
     "output_type": "stream",
     "text": [
      " 93%|████████████████████████████████████████████████████████████████████████▌     | 93/100 [3:19:28<21:08, 181.27s/it]"
     ]
    },
    {
     "name": "stdout",
     "output_type": "stream",
     "text": [
      "Dataset: 10_cover, Current combination: {'augmentation': None, 'preprocess': 'normalize', 'network_architecture': 'FTT', 'layers': 2, 'hidden_size_list': None, 'act_fun': 'ReLU', 'dropout': None, 'training_strategy': None, 'loss_name': 'deviation', 'optimizer_name': 'RMSprop', 'batch_resample': True, 'epochs': 100, 'batch_size': 64, 'lr': 0.001, 'weight_decay': 0.0001}, training sucessfully.\n"
     ]
    },
    {
     "name": "stderr",
     "output_type": "stream",
     "text": [
      " 94%|█████████████████████████████████████████████████████████████████████████▎    | 94/100 [3:19:56<13:30, 135.14s/it]"
     ]
    },
    {
     "name": "stdout",
     "output_type": "stream",
     "text": [
      "Dataset: 10_cover, Current combination: {'augmentation': None, 'preprocess': 'minmax', 'network_architecture': 'ResNet', 'layers': 1, 'hidden_size_list': [20], 'act_fun': 'ReLU', 'dropout': 0.1, 'training_strategy': None, 'loss_name': 'hinge', 'optimizer_name': 'Adam', 'batch_resample': True, 'epochs': 100, 'batch_size': 256, 'lr': 0.001, 'weight_decay': 0.01}, training sucessfully.\n"
     ]
    },
    {
     "name": "stderr",
     "output_type": "stream",
     "text": [
      " 95%|██████████████████████████████████████████████████████████████████████████    | 95/100 [3:21:32<10:17, 123.40s/it]"
     ]
    },
    {
     "name": "stdout",
     "output_type": "stream",
     "text": [
      "Dataset: 10_cover, Current combination: {'augmentation': None, 'preprocess': 'minmax', 'network_architecture': 'AE', 'layers': 1, 'hidden_size_list': [20], 'act_fun': 'LeakyReLU', 'dropout': 0.0, 'training_strategy': None, 'loss_name': 'hinge', 'optimizer_name': 'RMSprop', 'batch_resample': True, 'epochs': 50, 'batch_size': 16, 'lr': 0.001, 'weight_decay': 0.01}, training sucessfully.\n"
     ]
    },
    {
     "name": "stderr",
     "output_type": "stream",
     "text": [
      " 96%|███████████████████████████████████████████████████████████████████████████▊   | 96/100 [3:21:54<06:12, 93.15s/it]"
     ]
    },
    {
     "name": "stdout",
     "output_type": "stream",
     "text": [
      "Dataset: 10_cover, Current combination: {'augmentation': None, 'preprocess': 'minmax', 'network_architecture': 'MLP', 'layers': 2, 'hidden_size_list': [100, 20], 'act_fun': 'ReLU', 'dropout': 0.0, 'training_strategy': None, 'loss_name': 'hinge', 'optimizer_name': 'Adam', 'batch_resample': True, 'epochs': 50, 'batch_size': 64, 'lr': 0.01, 'weight_decay': 0.0001}, training sucessfully.\n"
     ]
    },
    {
     "name": "stderr",
     "output_type": "stream",
     "text": [
      " 97%|████████████████████████████████████████████████████████████████████████████▋  | 97/100 [3:22:01<03:21, 67.27s/it]"
     ]
    },
    {
     "name": "stdout",
     "output_type": "stream",
     "text": [
      "Dataset: 10_cover, Current combination: {'augmentation': None, 'preprocess': 'minmax', 'network_architecture': 'AE', 'layers': 3, 'hidden_size_list': [100, 50, 20], 'act_fun': 'LeakyReLU', 'dropout': 0.0, 'training_strategy': None, 'loss_name': 'inverse', 'optimizer_name': 'SGD', 'batch_resample': True, 'epochs': 20, 'batch_size': 256, 'lr': 0.01, 'weight_decay': 0.01}, training failure...Error: Input contains NaN, infinity or a value too large for dtype('float32').\n"
     ]
    },
    {
     "name": "stderr",
     "output_type": "stream",
     "text": [
      " 98%|█████████████████████████████████████████████████████████████████████████████▍ | 98/100 [3:22:19<01:44, 52.39s/it]"
     ]
    },
    {
     "name": "stdout",
     "output_type": "stream",
     "text": [
      "Dataset: 10_cover, Current combination: {'augmentation': None, 'preprocess': 'normalize', 'network_architecture': 'MLP', 'layers': 2, 'hidden_size_list': [100, 20], 'act_fun': 'Tanh', 'dropout': 0.1, 'training_strategy': None, 'loss_name': 'hinge', 'optimizer_name': 'SGD', 'batch_resample': True, 'epochs': 100, 'batch_size': 256, 'lr': 0.01, 'weight_decay': 0.0001}, training sucessfully.\n"
     ]
    },
    {
     "name": "stderr",
     "output_type": "stream",
     "text": [
      " 99%|██████████████████████████████████████████████████████████████████████████████▏| 99/100 [3:22:54<00:47, 47.28s/it]"
     ]
    },
    {
     "name": "stdout",
     "output_type": "stream",
     "text": [
      "Dataset: 10_cover, Current combination: {'augmentation': None, 'preprocess': 'minmax', 'network_architecture': 'AE', 'layers': 1, 'hidden_size_list': [20], 'act_fun': 'LeakyReLU', 'dropout': 0.1, 'training_strategy': None, 'loss_name': 'minus', 'optimizer_name': 'Adam', 'batch_resample': True, 'epochs': 50, 'batch_size': 64, 'lr': 0.001, 'weight_decay': 0.01}, training sucessfully.\n"
     ]
    },
    {
     "name": "stderr",
     "output_type": "stream",
     "text": [
      "100%|█████████████████████████████████████████████████████████████████████████████| 100/100 [3:23:22<00:00, 122.02s/it]\n"
     ]
    },
    {
     "name": "stdout",
     "output_type": "stream",
     "text": [
      "Dataset: 10_cover, Current combination: {'augmentation': None, 'preprocess': 'normalize', 'network_architecture': 'ResNet', 'layers': 1, 'hidden_size_list': [20], 'act_fun': 'ReLU', 'dropout': 0.0, 'training_strategy': None, 'loss_name': 'minus', 'optimizer_name': 'RMSprop', 'batch_resample': True, 'epochs': 50, 'batch_size': 64, 'lr': 0.001, 'weight_decay': 0.01}, training sucessfully.\n",
      "subsampling for dataset 11_donors...\n"
     ]
    },
    {
     "name": "stderr",
     "output_type": "stream",
     "text": [
      "  1%|▊                                                                                 | 1/100 [00:30<50:40, 30.71s/it]"
     ]
    },
    {
     "name": "stdout",
     "output_type": "stream",
     "text": [
      "Dataset: 11_donors, Current combination: {'augmentation': None, 'preprocess': 'minmax', 'network_architecture': 'ResNet', 'layers': 2, 'hidden_size_list': [100, 20], 'act_fun': 'ReLU', 'dropout': 0.1, 'training_strategy': None, 'loss_name': 'inverse', 'optimizer_name': 'SGD', 'batch_resample': True, 'epochs': 50, 'batch_size': 64, 'lr': 0.01, 'weight_decay': 0.01}, training failure...Error: Input contains NaN, infinity or a value too large for dtype('float32').\n"
     ]
    },
    {
     "name": "stderr",
     "output_type": "stream",
     "text": [
      "  2%|█▋                                                                                | 2/100 [00:47<37:03, 22.69s/it]"
     ]
    },
    {
     "name": "stdout",
     "output_type": "stream",
     "text": [
      "Dataset: 11_donors, Current combination: {'augmentation': None, 'preprocess': 'minmax', 'network_architecture': 'MLP', 'layers': 2, 'hidden_size_list': [100, 20], 'act_fun': 'ReLU', 'dropout': 0.0, 'training_strategy': None, 'loss_name': 'hinge', 'optimizer_name': 'SGD', 'batch_resample': True, 'epochs': 50, 'batch_size': 64, 'lr': 0.001, 'weight_decay': 0.01}, training sucessfully.\n"
     ]
    },
    {
     "name": "stderr",
     "output_type": "stream",
     "text": [
      "  3%|██▍                                                                               | 3/100 [01:17<41:40, 25.78s/it]"
     ]
    },
    {
     "name": "stdout",
     "output_type": "stream",
     "text": [
      "Dataset: 11_donors, Current combination: {'augmentation': None, 'preprocess': 'minmax', 'network_architecture': 'ResNet', 'layers': 2, 'hidden_size_list': [100, 20], 'act_fun': 'ReLU', 'dropout': 0.3, 'training_strategy': None, 'loss_name': 'deviation', 'optimizer_name': 'SGD', 'batch_resample': True, 'epochs': 100, 'batch_size': 256, 'lr': 0.01, 'weight_decay': 0.01}, training sucessfully.\n"
     ]
    },
    {
     "name": "stderr",
     "output_type": "stream",
     "text": [
      "  4%|███▏                                                                            | 4/100 [02:29<1:10:22, 43.98s/it]"
     ]
    },
    {
     "name": "stdout",
     "output_type": "stream",
     "text": [
      "Dataset: 11_donors, Current combination: {'augmentation': None, 'preprocess': 'normalize', 'network_architecture': 'ResNet', 'layers': 2, 'hidden_size_list': [100, 20], 'act_fun': 'ReLU', 'dropout': 0.0, 'training_strategy': None, 'loss_name': 'hinge', 'optimizer_name': 'RMSprop', 'batch_resample': True, 'epochs': 20, 'batch_size': 16, 'lr': 0.01, 'weight_decay': 0.01}, training sucessfully.\n"
     ]
    },
    {
     "name": "stderr",
     "output_type": "stream",
     "text": [
      "  5%|████                                                                            | 5/100 [03:12<1:09:10, 43.69s/it]"
     ]
    },
    {
     "name": "stdout",
     "output_type": "stream",
     "text": [
      "Dataset: 11_donors, Current combination: {'augmentation': None, 'preprocess': 'minmax', 'network_architecture': 'AE', 'layers': 1, 'hidden_size_list': [20], 'act_fun': 'ReLU', 'dropout': 0.3, 'training_strategy': None, 'loss_name': 'deviation', 'optimizer_name': 'RMSprop', 'batch_resample': True, 'epochs': 50, 'batch_size': 64, 'lr': 0.01, 'weight_decay': 0.01}, training sucessfully.\n"
     ]
    },
    {
     "name": "stderr",
     "output_type": "stream",
     "text": [
      "  6%|████▉                                                                             | 6/100 [03:27<53:18, 34.03s/it]"
     ]
    },
    {
     "name": "stdout",
     "output_type": "stream",
     "text": [
      "Dataset: 11_donors, Current combination: {'augmentation': None, 'preprocess': 'minmax', 'network_architecture': 'MLP', 'layers': 1, 'hidden_size_list': [20], 'act_fun': 'ReLU', 'dropout': 0.1, 'training_strategy': None, 'loss_name': 'hinge', 'optimizer_name': 'RMSprop', 'batch_resample': True, 'epochs': 50, 'batch_size': 64, 'lr': 0.001, 'weight_decay': 0.01}, training sucessfully.\n"
     ]
    },
    {
     "name": "stderr",
     "output_type": "stream",
     "text": [
      "  7%|█████▌                                                                         | 7/100 [12:04<4:57:29, 191.93s/it]"
     ]
    },
    {
     "name": "stdout",
     "output_type": "stream",
     "text": [
      "Dataset: 11_donors, Current combination: {'augmentation': None, 'preprocess': 'normalize', 'network_architecture': 'AE', 'layers': 3, 'hidden_size_list': [100, 50, 20], 'act_fun': 'ReLU', 'dropout': 0.1, 'training_strategy': None, 'loss_name': 'hinge', 'optimizer_name': 'RMSprop', 'batch_resample': True, 'epochs': 100, 'batch_size': 16, 'lr': 0.001, 'weight_decay': 0.01}, training sucessfully.\n"
     ]
    },
    {
     "name": "stderr",
     "output_type": "stream",
     "text": [
      "  8%|██████▎                                                                        | 8/100 [12:42<3:39:10, 142.94s/it]"
     ]
    },
    {
     "name": "stdout",
     "output_type": "stream",
     "text": [
      "Dataset: 11_donors, Current combination: {'augmentation': None, 'preprocess': 'minmax', 'network_architecture': 'AE', 'layers': 3, 'hidden_size_list': [100, 50, 20], 'act_fun': 'ReLU', 'dropout': 0.3, 'training_strategy': None, 'loss_name': 'inverse', 'optimizer_name': 'SGD', 'batch_resample': True, 'epochs': 100, 'batch_size': 256, 'lr': 0.001, 'weight_decay': 0.0001}, training sucessfully.\n"
     ]
    },
    {
     "name": "stderr",
     "output_type": "stream",
     "text": [
      "  9%|███████                                                                        | 9/100 [15:05<3:36:41, 142.87s/it]"
     ]
    },
    {
     "name": "stdout",
     "output_type": "stream",
     "text": [
      "Dataset: 11_donors, Current combination: {'augmentation': None, 'preprocess': 'normalize', 'network_architecture': 'MLP', 'layers': 3, 'hidden_size_list': [100, 50, 20], 'act_fun': 'LeakyReLU', 'dropout': 0.3, 'training_strategy': None, 'loss_name': 'hinge', 'optimizer_name': 'RMSprop', 'batch_resample': True, 'epochs': 100, 'batch_size': 16, 'lr': 0.001, 'weight_decay': 0.01}, training sucessfully.\n"
     ]
    },
    {
     "name": "stderr",
     "output_type": "stream",
     "text": [
      " 10%|███████▊                                                                      | 10/100 [15:21<2:35:41, 103.79s/it]"
     ]
    },
    {
     "name": "stdout",
     "output_type": "stream",
     "text": [
      "Dataset: 11_donors, Current combination: {'augmentation': None, 'preprocess': 'minmax', 'network_architecture': 'AE', 'layers': 2, 'hidden_size_list': [100, 20], 'act_fun': 'LeakyReLU', 'dropout': 0.3, 'training_strategy': None, 'loss_name': 'deviation', 'optimizer_name': 'SGD', 'batch_resample': True, 'epochs': 20, 'batch_size': 64, 'lr': 0.001, 'weight_decay': 0.0001}, training sucessfully.\n"
     ]
    },
    {
     "name": "stderr",
     "output_type": "stream",
     "text": [
      " 11%|████████▋                                                                      | 11/100 [15:43<1:56:48, 78.74s/it]"
     ]
    },
    {
     "name": "stdout",
     "output_type": "stream",
     "text": [
      "Dataset: 11_donors, Current combination: {'augmentation': None, 'preprocess': 'minmax', 'network_architecture': 'MLP', 'layers': 2, 'hidden_size_list': [100, 20], 'act_fun': 'Tanh', 'dropout': 0.3, 'training_strategy': None, 'loss_name': 'deviation', 'optimizer_name': 'RMSprop', 'batch_resample': True, 'epochs': 50, 'batch_size': 64, 'lr': 0.001, 'weight_decay': 0.0001}, training sucessfully.\n"
     ]
    },
    {
     "name": "stderr",
     "output_type": "stream",
     "text": [
      " 12%|█████████▎                                                                    | 12/100 [19:26<2:59:52, 122.64s/it]"
     ]
    },
    {
     "name": "stdout",
     "output_type": "stream",
     "text": [
      "Dataset: 11_donors, Current combination: {'augmentation': None, 'preprocess': 'minmax', 'network_architecture': 'AE', 'layers': 2, 'hidden_size_list': [100, 20], 'act_fun': 'LeakyReLU', 'dropout': 0.0, 'training_strategy': None, 'loss_name': 'minus', 'optimizer_name': 'RMSprop', 'batch_resample': True, 'epochs': 100, 'batch_size': 16, 'lr': 0.001, 'weight_decay': 0.0001}, training sucessfully.\n"
     ]
    },
    {
     "name": "stderr",
     "output_type": "stream",
     "text": [
      " 13%|██████████▎                                                                    | 13/100 [19:59<2:18:26, 95.47s/it]"
     ]
    },
    {
     "name": "stdout",
     "output_type": "stream",
     "text": [
      "Dataset: 11_donors, Current combination: {'augmentation': None, 'preprocess': 'normalize', 'network_architecture': 'ResNet', 'layers': 2, 'hidden_size_list': [100, 20], 'act_fun': 'ReLU', 'dropout': 0.1, 'training_strategy': None, 'loss_name': 'deviation', 'optimizer_name': 'SGD', 'batch_resample': True, 'epochs': 50, 'batch_size': 64, 'lr': 0.01, 'weight_decay': 0.0001}, training sucessfully.\n"
     ]
    },
    {
     "name": "stderr",
     "output_type": "stream",
     "text": [
      " 14%|██████████▉                                                                   | 14/100 [22:26<2:38:59, 110.93s/it]"
     ]
    },
    {
     "name": "stdout",
     "output_type": "stream",
     "text": [
      "Dataset: 11_donors, Current combination: {'augmentation': None, 'preprocess': 'minmax', 'network_architecture': 'AE', 'layers': 1, 'hidden_size_list': [20], 'act_fun': 'ReLU', 'dropout': 0.3, 'training_strategy': None, 'loss_name': 'inverse', 'optimizer_name': 'RMSprop', 'batch_resample': True, 'epochs': 50, 'batch_size': 16, 'lr': 0.001, 'weight_decay': 0.01}, training sucessfully.\n"
     ]
    },
    {
     "name": "stderr",
     "output_type": "stream",
     "text": [
      " 15%|███████████▊                                                                   | 15/100 [22:36<1:54:13, 80.63s/it]"
     ]
    },
    {
     "name": "stdout",
     "output_type": "stream",
     "text": [
      "Dataset: 11_donors, Current combination: {'augmentation': None, 'preprocess': 'minmax', 'network_architecture': 'MLP', 'layers': 2, 'hidden_size_list': [100, 20], 'act_fun': 'ReLU', 'dropout': 0.3, 'training_strategy': None, 'loss_name': 'minus', 'optimizer_name': 'RMSprop', 'batch_resample': True, 'epochs': 50, 'batch_size': 256, 'lr': 0.01, 'weight_decay': 0.0001}, training sucessfully.\n"
     ]
    },
    {
     "name": "stderr",
     "output_type": "stream",
     "text": [
      " 16%|████████████▍                                                                 | 16/100 [25:27<2:30:42, 107.65s/it]"
     ]
    },
    {
     "name": "stdout",
     "output_type": "stream",
     "text": [
      "Dataset: 11_donors, Current combination: {'augmentation': None, 'preprocess': 'normalize', 'network_architecture': 'MLP', 'layers': 3, 'hidden_size_list': [100, 50, 20], 'act_fun': 'LeakyReLU', 'dropout': 0.0, 'training_strategy': None, 'loss_name': 'deviation', 'optimizer_name': 'Adam', 'batch_resample': True, 'epochs': 100, 'batch_size': 16, 'lr': 0.001, 'weight_decay': 0.01}, training sucessfully.\n"
     ]
    },
    {
     "name": "stderr",
     "output_type": "stream",
     "text": [
      " 17%|█████████████▍                                                                 | 17/100 [26:01<1:58:28, 85.64s/it]"
     ]
    },
    {
     "name": "stdout",
     "output_type": "stream",
     "text": [
      "Dataset: 11_donors, Current combination: {'augmentation': None, 'preprocess': 'normalize', 'network_architecture': 'AE', 'layers': 2, 'hidden_size_list': [100, 20], 'act_fun': 'ReLU', 'dropout': 0.1, 'training_strategy': None, 'loss_name': 'hinge', 'optimizer_name': 'SGD', 'batch_resample': True, 'epochs': 50, 'batch_size': 64, 'lr': 0.001, 'weight_decay': 0.01}, training sucessfully.\n"
     ]
    },
    {
     "name": "stderr",
     "output_type": "stream",
     "text": [
      " 18%|██████████████▏                                                                | 18/100 [26:42<1:38:36, 72.15s/it]"
     ]
    },
    {
     "name": "stdout",
     "output_type": "stream",
     "text": [
      "Dataset: 11_donors, Current combination: {'augmentation': None, 'preprocess': 'normalize', 'network_architecture': 'AE', 'layers': 3, 'hidden_size_list': [100, 50, 20], 'act_fun': 'Tanh', 'dropout': 0.3, 'training_strategy': None, 'loss_name': 'inverse', 'optimizer_name': 'Adam', 'batch_resample': True, 'epochs': 100, 'batch_size': 256, 'lr': 0.001, 'weight_decay': 0.0001}, training sucessfully.\n"
     ]
    },
    {
     "name": "stderr",
     "output_type": "stream",
     "text": [
      " 19%|███████████████                                                                | 19/100 [27:14<1:21:10, 60.13s/it]"
     ]
    },
    {
     "name": "stdout",
     "output_type": "stream",
     "text": [
      "Dataset: 11_donors, Current combination: {'augmentation': None, 'preprocess': 'normalize', 'network_architecture': 'MLP', 'layers': 2, 'hidden_size_list': [100, 20], 'act_fun': 'ReLU', 'dropout': 0.0, 'training_strategy': None, 'loss_name': 'minus', 'optimizer_name': 'SGD', 'batch_resample': True, 'epochs': 100, 'batch_size': 64, 'lr': 0.001, 'weight_decay': 0.0001}, training failure...Error: Input contains NaN, infinity or a value too large for dtype('float32').\n"
     ]
    },
    {
     "name": "stderr",
     "output_type": "stream",
     "text": [
      " 20%|████████████████▏                                                                | 20/100 [27:23<59:40, 44.75s/it]"
     ]
    },
    {
     "name": "stdout",
     "output_type": "stream",
     "text": [
      "Dataset: 11_donors, Current combination: {'augmentation': None, 'preprocess': 'normalize', 'network_architecture': 'MLP', 'layers': 3, 'hidden_size_list': [100, 50, 20], 'act_fun': 'LeakyReLU', 'dropout': 0.1, 'training_strategy': None, 'loss_name': 'inverse', 'optimizer_name': 'SGD', 'batch_resample': True, 'epochs': 20, 'batch_size': 64, 'lr': 0.001, 'weight_decay': 0.0001}, training sucessfully.\n"
     ]
    },
    {
     "name": "stderr",
     "output_type": "stream",
     "text": [
      " 21%|█████████████████                                                                | 21/100 [27:51<52:17, 39.72s/it]"
     ]
    },
    {
     "name": "stdout",
     "output_type": "stream",
     "text": [
      "Dataset: 11_donors, Current combination: {'augmentation': None, 'preprocess': 'minmax', 'network_architecture': 'MLP', 'layers': 2, 'hidden_size_list': [100, 20], 'act_fun': 'LeakyReLU', 'dropout': 0.1, 'training_strategy': None, 'loss_name': 'deviation', 'optimizer_name': 'RMSprop', 'batch_resample': True, 'epochs': 20, 'batch_size': 16, 'lr': 0.001, 'weight_decay': 0.0001}, training sucessfully.\n"
     ]
    },
    {
     "name": "stderr",
     "output_type": "stream",
     "text": [
      " 22%|█████████████████▊                                                               | 22/100 [28:06<42:05, 32.37s/it]"
     ]
    },
    {
     "name": "stdout",
     "output_type": "stream",
     "text": [
      "Dataset: 11_donors, Current combination: {'augmentation': None, 'preprocess': 'minmax', 'network_architecture': 'MLP', 'layers': 1, 'hidden_size_list': [20], 'act_fun': 'Tanh', 'dropout': 0.1, 'training_strategy': None, 'loss_name': 'minus', 'optimizer_name': 'SGD', 'batch_resample': True, 'epochs': 100, 'batch_size': 256, 'lr': 0.001, 'weight_decay': 0.01}, training sucessfully.\n"
     ]
    },
    {
     "name": "stderr",
     "output_type": "stream",
     "text": [
      " 23%|██████████████████▏                                                            | 23/100 [29:56<1:11:23, 55.63s/it]"
     ]
    },
    {
     "name": "stdout",
     "output_type": "stream",
     "text": [
      "Dataset: 11_donors, Current combination: {'augmentation': None, 'preprocess': 'normalize', 'network_architecture': 'ResNet', 'layers': 1, 'hidden_size_list': [20], 'act_fun': 'ReLU', 'dropout': 0.3, 'training_strategy': None, 'loss_name': 'deviation', 'optimizer_name': 'Adam', 'batch_resample': True, 'epochs': 50, 'batch_size': 16, 'lr': 0.001, 'weight_decay': 0.0001}, training sucessfully.\n"
     ]
    },
    {
     "name": "stderr",
     "output_type": "stream",
     "text": [
      " 24%|███████████████████▍                                                             | 24/100 [30:19<57:56, 45.74s/it]"
     ]
    },
    {
     "name": "stdout",
     "output_type": "stream",
     "text": [
      "Dataset: 11_donors, Current combination: {'augmentation': None, 'preprocess': 'minmax', 'network_architecture': 'MLP', 'layers': 3, 'hidden_size_list': [100, 50, 20], 'act_fun': 'LeakyReLU', 'dropout': 0.0, 'training_strategy': None, 'loss_name': 'inverse', 'optimizer_name': 'SGD', 'batch_resample': True, 'epochs': 20, 'batch_size': 16, 'lr': 0.01, 'weight_decay': 0.0001}, training failure...Error: Input contains NaN, infinity or a value too large for dtype('float32').\n"
     ]
    },
    {
     "name": "stderr",
     "output_type": "stream",
     "text": [
      " 25%|███████████████████▊                                                           | 25/100 [32:27<1:28:01, 70.42s/it]"
     ]
    },
    {
     "name": "stdout",
     "output_type": "stream",
     "text": [
      "Dataset: 11_donors, Current combination: {'augmentation': None, 'preprocess': 'normalize', 'network_architecture': 'AE', 'layers': 2, 'hidden_size_list': [100, 20], 'act_fun': 'LeakyReLU', 'dropout': 0.3, 'training_strategy': None, 'loss_name': 'inverse', 'optimizer_name': 'RMSprop', 'batch_resample': True, 'epochs': 50, 'batch_size': 16, 'lr': 0.01, 'weight_decay': 0.0001}, training sucessfully.\n",
      "GPU is off\n"
     ]
    },
    {
     "name": "stderr",
     "output_type": "stream",
     "text": [
      " 26%|████████████████████▎                                                         | 26/100 [41:45<4:27:15, 216.70s/it]"
     ]
    },
    {
     "name": "stdout",
     "output_type": "stream",
     "text": [
      "Dataset: 11_donors, Current combination: {'augmentation': None, 'preprocess': 'minmax', 'network_architecture': 'FTT', 'layers': 2, 'hidden_size_list': None, 'act_fun': 'ReLU', 'dropout': None, 'training_strategy': None, 'loss_name': 'deviation', 'optimizer_name': 'RMSprop', 'batch_resample': True, 'epochs': 100, 'batch_size': 256, 'lr': 0.001, 'weight_decay': 0.0001}, training sucessfully.\n",
      "GPU is off\n"
     ]
    },
    {
     "name": "stderr",
     "output_type": "stream",
     "text": [
      " 27%|█████████████████████                                                         | 27/100 [48:39<5:36:00, 276.17s/it]"
     ]
    },
    {
     "name": "stdout",
     "output_type": "stream",
     "text": [
      "Dataset: 11_donors, Current combination: {'augmentation': None, 'preprocess': 'minmax', 'network_architecture': 'FTT', 'layers': 1, 'hidden_size_list': None, 'act_fun': 'ReLU', 'dropout': None, 'training_strategy': None, 'loss_name': 'inverse', 'optimizer_name': 'RMSprop', 'batch_resample': True, 'epochs': 50, 'batch_size': 16, 'lr': 0.001, 'weight_decay': 0.0001}, training sucessfully.\n"
     ]
    },
    {
     "name": "stderr",
     "output_type": "stream",
     "text": [
      " 28%|█████████████████████▊                                                        | 28/100 [49:47<4:16:20, 213.61s/it]"
     ]
    },
    {
     "name": "stdout",
     "output_type": "stream",
     "text": [
      "Dataset: 11_donors, Current combination: {'augmentation': None, 'preprocess': 'minmax', 'network_architecture': 'AE', 'layers': 1, 'hidden_size_list': [20], 'act_fun': 'Tanh', 'dropout': 0.1, 'training_strategy': None, 'loss_name': 'hinge', 'optimizer_name': 'Adam', 'batch_resample': True, 'epochs': 100, 'batch_size': 64, 'lr': 0.001, 'weight_decay': 0.0001}, training sucessfully.\n"
     ]
    },
    {
     "name": "stderr",
     "output_type": "stream",
     "text": [
      " 29%|██████████████████████▌                                                       | 29/100 [50:04<3:03:02, 154.68s/it]"
     ]
    },
    {
     "name": "stdout",
     "output_type": "stream",
     "text": [
      "Dataset: 11_donors, Current combination: {'augmentation': None, 'preprocess': 'minmax', 'network_architecture': 'AE', 'layers': 2, 'hidden_size_list': [100, 20], 'act_fun': 'Tanh', 'dropout': 0.3, 'training_strategy': None, 'loss_name': 'inverse', 'optimizer_name': 'Adam', 'batch_resample': True, 'epochs': 20, 'batch_size': 64, 'lr': 0.01, 'weight_decay': 0.0001}, training sucessfully.\n"
     ]
    },
    {
     "name": "stderr",
     "output_type": "stream",
     "text": [
      " 30%|███████████████████████▍                                                      | 30/100 [50:20<2:11:59, 113.13s/it]"
     ]
    },
    {
     "name": "stdout",
     "output_type": "stream",
     "text": [
      "Dataset: 11_donors, Current combination: {'augmentation': None, 'preprocess': 'normalize', 'network_architecture': 'ResNet', 'layers': 3, 'hidden_size_list': [100, 50, 20], 'act_fun': 'ReLU', 'dropout': 0.3, 'training_strategy': None, 'loss_name': 'inverse', 'optimizer_name': 'SGD', 'batch_resample': True, 'epochs': 50, 'batch_size': 256, 'lr': 0.001, 'weight_decay': 0.01}, training sucessfully.\n"
     ]
    },
    {
     "name": "stderr",
     "output_type": "stream",
     "text": [
      " 31%|████████████████████████▍                                                      | 31/100 [50:49<1:40:50, 87.69s/it]"
     ]
    },
    {
     "name": "stdout",
     "output_type": "stream",
     "text": [
      "Dataset: 11_donors, Current combination: {'augmentation': None, 'preprocess': 'normalize', 'network_architecture': 'AE', 'layers': 1, 'hidden_size_list': [20], 'act_fun': 'LeakyReLU', 'dropout': 0.3, 'training_strategy': None, 'loss_name': 'inverse', 'optimizer_name': 'SGD', 'batch_resample': True, 'epochs': 100, 'batch_size': 256, 'lr': 0.001, 'weight_decay': 0.01}, training failure...Error: Input contains NaN, infinity or a value too large for dtype('float32').\n"
     ]
    },
    {
     "name": "stderr",
     "output_type": "stream",
     "text": [
      " 32%|█████████████████████████▎                                                     | 32/100 [51:05<1:15:09, 66.32s/it]"
     ]
    },
    {
     "name": "stdout",
     "output_type": "stream",
     "text": [
      "Dataset: 11_donors, Current combination: {'augmentation': None, 'preprocess': 'normalize', 'network_architecture': 'AE', 'layers': 3, 'hidden_size_list': [100, 50, 20], 'act_fun': 'Tanh', 'dropout': 0.1, 'training_strategy': None, 'loss_name': 'deviation', 'optimizer_name': 'SGD', 'batch_resample': True, 'epochs': 20, 'batch_size': 64, 'lr': 0.01, 'weight_decay': 0.0001}, training sucessfully.\n"
     ]
    },
    {
     "name": "stderr",
     "output_type": "stream",
     "text": [
      " 33%|██████████████████████████                                                     | 33/100 [51:35<1:01:46, 55.32s/it]"
     ]
    },
    {
     "name": "stdout",
     "output_type": "stream",
     "text": [
      "Dataset: 11_donors, Current combination: {'augmentation': None, 'preprocess': 'normalize', 'network_architecture': 'MLP', 'layers': 2, 'hidden_size_list': [100, 20], 'act_fun': 'ReLU', 'dropout': 0.1, 'training_strategy': None, 'loss_name': 'hinge', 'optimizer_name': 'Adam', 'batch_resample': True, 'epochs': 20, 'batch_size': 16, 'lr': 0.01, 'weight_decay': 0.0001}, training sucessfully.\n",
      "GPU is off\n"
     ]
    },
    {
     "name": "stderr",
     "output_type": "stream",
     "text": [
      " 34%|██████████████████████████▌                                                   | 34/100 [58:03<2:50:38, 155.13s/it]"
     ]
    },
    {
     "name": "stdout",
     "output_type": "stream",
     "text": [
      "Dataset: 11_donors, Current combination: {'augmentation': None, 'preprocess': 'normalize', 'network_architecture': 'FTT', 'layers': 2, 'hidden_size_list': None, 'act_fun': 'ReLU', 'dropout': None, 'training_strategy': None, 'loss_name': 'minus', 'optimizer_name': 'RMSprop', 'batch_resample': True, 'epochs': 50, 'batch_size': 64, 'lr': 0.01, 'weight_decay': 0.01}, training sucessfully.\n"
     ]
    },
    {
     "name": "stderr",
     "output_type": "stream",
     "text": [
      " 35%|███████████████████████████▎                                                  | 35/100 [58:11<2:00:13, 110.98s/it]"
     ]
    },
    {
     "name": "stdout",
     "output_type": "stream",
     "text": [
      "Dataset: 11_donors, Current combination: {'augmentation': None, 'preprocess': 'minmax', 'network_architecture': 'MLP', 'layers': 1, 'hidden_size_list': [20], 'act_fun': 'ReLU', 'dropout': 0.0, 'training_strategy': None, 'loss_name': 'minus', 'optimizer_name': 'RMSprop', 'batch_resample': True, 'epochs': 50, 'batch_size': 256, 'lr': 0.001, 'weight_decay': 0.0001}, training sucessfully.\n",
      "GPU is off\n"
     ]
    },
    {
     "name": "stderr",
     "output_type": "stream",
     "text": [
      " 36%|███████████████████████████▎                                                | 36/100 [1:03:33<3:06:02, 174.42s/it]"
     ]
    },
    {
     "name": "stdout",
     "output_type": "stream",
     "text": [
      "Dataset: 11_donors, Current combination: {'augmentation': None, 'preprocess': 'normalize', 'network_architecture': 'FTT', 'layers': 1, 'hidden_size_list': None, 'act_fun': 'ReLU', 'dropout': None, 'training_strategy': None, 'loss_name': 'inverse', 'optimizer_name': 'RMSprop', 'batch_resample': True, 'epochs': 50, 'batch_size': 16, 'lr': 0.001, 'weight_decay': 0.01}, training sucessfully.\n"
     ]
    },
    {
     "name": "stderr",
     "output_type": "stream",
     "text": [
      " 37%|████████████████████████████                                                | 37/100 [1:09:53<4:07:50, 236.04s/it]"
     ]
    },
    {
     "name": "stdout",
     "output_type": "stream",
     "text": [
      "Dataset: 11_donors, Current combination: {'augmentation': None, 'preprocess': 'minmax', 'network_architecture': 'AE', 'layers': 3, 'hidden_size_list': [100, 50, 20], 'act_fun': 'ReLU', 'dropout': 0.0, 'training_strategy': None, 'loss_name': 'hinge', 'optimizer_name': 'Adam', 'batch_resample': True, 'epochs': 100, 'batch_size': 16, 'lr': 0.01, 'weight_decay': 0.01}, training sucessfully.\n"
     ]
    },
    {
     "name": "stderr",
     "output_type": "stream",
     "text": [
      " 38%|████████████████████████████▉                                               | 38/100 [1:11:58<3:29:26, 202.69s/it]"
     ]
    },
    {
     "name": "stdout",
     "output_type": "stream",
     "text": [
      "Dataset: 11_donors, Current combination: {'augmentation': None, 'preprocess': 'minmax', 'network_architecture': 'ResNet', 'layers': 3, 'hidden_size_list': [100, 50, 20], 'act_fun': 'ReLU', 'dropout': 0.3, 'training_strategy': None, 'loss_name': 'deviation', 'optimizer_name': 'SGD', 'batch_resample': True, 'epochs': 50, 'batch_size': 16, 'lr': 0.01, 'weight_decay': 0.0001}, training sucessfully.\n"
     ]
    },
    {
     "name": "stderr",
     "output_type": "stream",
     "text": [
      " 39%|█████████████████████████████▋                                              | 39/100 [1:12:56<2:41:49, 159.17s/it]"
     ]
    },
    {
     "name": "stdout",
     "output_type": "stream",
     "text": [
      "Dataset: 11_donors, Current combination: {'augmentation': None, 'preprocess': 'minmax', 'network_architecture': 'MLP', 'layers': 2, 'hidden_size_list': [100, 20], 'act_fun': 'Tanh', 'dropout': 0.3, 'training_strategy': None, 'loss_name': 'hinge', 'optimizer_name': 'RMSprop', 'batch_resample': True, 'epochs': 50, 'batch_size': 16, 'lr': 0.01, 'weight_decay': 0.0001}, training sucessfully.\n"
     ]
    },
    {
     "name": "stderr",
     "output_type": "stream",
     "text": [
      " 40%|██████████████████████████████▍                                             | 40/100 [1:13:27<2:00:53, 120.88s/it]"
     ]
    },
    {
     "name": "stdout",
     "output_type": "stream",
     "text": [
      "Dataset: 11_donors, Current combination: {'augmentation': None, 'preprocess': 'minmax', 'network_architecture': 'MLP', 'layers': 1, 'hidden_size_list': [20], 'act_fun': 'Tanh', 'dropout': 0.1, 'training_strategy': None, 'loss_name': 'inverse', 'optimizer_name': 'SGD', 'batch_resample': True, 'epochs': 50, 'batch_size': 16, 'lr': 0.001, 'weight_decay': 0.01}, training sucessfully.\n",
      "GPU is off\n"
     ]
    },
    {
     "name": "stderr",
     "output_type": "stream",
     "text": [
      " 41%|███████████████████████████████▏                                            | 41/100 [1:42:10<9:51:19, 601.34s/it]"
     ]
    },
    {
     "name": "stdout",
     "output_type": "stream",
     "text": [
      "Dataset: 11_donors, Current combination: {'augmentation': None, 'preprocess': 'normalize', 'network_architecture': 'FTT', 'layers': 3, 'hidden_size_list': None, 'act_fun': 'ReLU', 'dropout': None, 'training_strategy': None, 'loss_name': 'inverse', 'optimizer_name': 'SGD', 'batch_resample': True, 'epochs': 100, 'batch_size': 16, 'lr': 0.001, 'weight_decay': 0.01}, training sucessfully.\n"
     ]
    },
    {
     "name": "stderr",
     "output_type": "stream",
     "text": [
      " 42%|███████████████████████████████▉                                            | 42/100 [1:42:25<6:51:25, 425.61s/it]"
     ]
    },
    {
     "name": "stdout",
     "output_type": "stream",
     "text": [
      "Dataset: 11_donors, Current combination: {'augmentation': None, 'preprocess': 'minmax', 'network_architecture': 'AE', 'layers': 1, 'hidden_size_list': [20], 'act_fun': 'LeakyReLU', 'dropout': 0.1, 'training_strategy': None, 'loss_name': 'deviation', 'optimizer_name': 'RMSprop', 'batch_resample': True, 'epochs': 50, 'batch_size': 256, 'lr': 0.001, 'weight_decay': 0.01}, training sucessfully.\n"
     ]
    },
    {
     "name": "stderr",
     "output_type": "stream",
     "text": [
      " 43%|████████████████████████████████▋                                           | 43/100 [1:43:42<5:05:00, 321.05s/it]"
     ]
    },
    {
     "name": "stdout",
     "output_type": "stream",
     "text": [
      "Dataset: 11_donors, Current combination: {'augmentation': None, 'preprocess': 'minmax', 'network_architecture': 'AE', 'layers': 3, 'hidden_size_list': [100, 50, 20], 'act_fun': 'ReLU', 'dropout': 0.3, 'training_strategy': None, 'loss_name': 'minus', 'optimizer_name': 'SGD', 'batch_resample': True, 'epochs': 100, 'batch_size': 64, 'lr': 0.001, 'weight_decay': 0.0001}, training failure...Error: Input contains NaN, infinity or a value too large for dtype('float32').\n"
     ]
    },
    {
     "name": "stderr",
     "output_type": "stream",
     "text": [
      " 44%|█████████████████████████████████▍                                          | 44/100 [1:44:03<3:35:36, 231.02s/it]"
     ]
    },
    {
     "name": "stdout",
     "output_type": "stream",
     "text": [
      "Dataset: 11_donors, Current combination: {'augmentation': None, 'preprocess': 'minmax', 'network_architecture': 'AE', 'layers': 3, 'hidden_size_list': [100, 50, 20], 'act_fun': 'LeakyReLU', 'dropout': 0.3, 'training_strategy': None, 'loss_name': 'minus', 'optimizer_name': 'RMSprop', 'batch_resample': True, 'epochs': 50, 'batch_size': 256, 'lr': 0.01, 'weight_decay': 0.01}, training sucessfully.\n",
      "GPU is off\n"
     ]
    },
    {
     "name": "stderr",
     "output_type": "stream",
     "text": [
      " 45%|██████████████████████████████████▏                                         | 45/100 [1:45:44<2:55:59, 191.98s/it]"
     ]
    },
    {
     "name": "stdout",
     "output_type": "stream",
     "text": [
      "Dataset: 11_donors, Current combination: {'augmentation': None, 'preprocess': 'normalize', 'network_architecture': 'FTT', 'layers': 2, 'hidden_size_list': None, 'act_fun': 'ReLU', 'dropout': None, 'training_strategy': None, 'loss_name': 'hinge', 'optimizer_name': 'Adam', 'batch_resample': True, 'epochs': 20, 'batch_size': 64, 'lr': 0.01, 'weight_decay': 0.0001}, training sucessfully.\n"
     ]
    },
    {
     "name": "stderr",
     "output_type": "stream",
     "text": [
      " 46%|██████████████████████████████████▉                                         | 46/100 [1:45:53<2:03:24, 137.13s/it]"
     ]
    },
    {
     "name": "stdout",
     "output_type": "stream",
     "text": [
      "Dataset: 11_donors, Current combination: {'augmentation': None, 'preprocess': 'normalize', 'network_architecture': 'MLP', 'layers': 2, 'hidden_size_list': [100, 20], 'act_fun': 'Tanh', 'dropout': 0.0, 'training_strategy': None, 'loss_name': 'minus', 'optimizer_name': 'RMSprop', 'batch_resample': True, 'epochs': 50, 'batch_size': 256, 'lr': 0.01, 'weight_decay': 0.0001}, training sucessfully.\n"
     ]
    },
    {
     "name": "stderr",
     "output_type": "stream",
     "text": [
      " 47%|████████████████████████████████████▏                                        | 47/100 [1:45:57<1:25:41, 97.00s/it]"
     ]
    },
    {
     "name": "stdout",
     "output_type": "stream",
     "text": [
      "Dataset: 11_donors, Current combination: {'augmentation': None, 'preprocess': 'normalize', 'network_architecture': 'MLP', 'layers': 1, 'hidden_size_list': [20], 'act_fun': 'LeakyReLU', 'dropout': 0.3, 'training_strategy': None, 'loss_name': 'minus', 'optimizer_name': 'Adam', 'batch_resample': True, 'epochs': 20, 'batch_size': 256, 'lr': 0.001, 'weight_decay': 0.01}, training sucessfully.\n"
     ]
    },
    {
     "name": "stderr",
     "output_type": "stream",
     "text": [
      " 48%|████████████████████████████████████▍                                       | 48/100 [1:48:22<1:36:46, 111.66s/it]"
     ]
    },
    {
     "name": "stdout",
     "output_type": "stream",
     "text": [
      "Dataset: 11_donors, Current combination: {'augmentation': None, 'preprocess': 'minmax', 'network_architecture': 'ResNet', 'layers': 2, 'hidden_size_list': [100, 20], 'act_fun': 'ReLU', 'dropout': 0.3, 'training_strategy': None, 'loss_name': 'hinge', 'optimizer_name': 'Adam', 'batch_resample': True, 'epochs': 50, 'batch_size': 16, 'lr': 0.001, 'weight_decay': 0.0001}, training sucessfully.\n"
     ]
    },
    {
     "name": "stderr",
     "output_type": "stream",
     "text": [
      " 49%|█████████████████████████████████████▋                                       | 49/100 [1:48:28<1:07:45, 79.72s/it]"
     ]
    },
    {
     "name": "stdout",
     "output_type": "stream",
     "text": [
      "Dataset: 11_donors, Current combination: {'augmentation': None, 'preprocess': 'normalize', 'network_architecture': 'AE', 'layers': 1, 'hidden_size_list': [20], 'act_fun': 'Tanh', 'dropout': 0.0, 'training_strategy': None, 'loss_name': 'hinge', 'optimizer_name': 'RMSprop', 'batch_resample': True, 'epochs': 20, 'batch_size': 256, 'lr': 0.001, 'weight_decay': 0.0001}, training sucessfully.\n"
     ]
    },
    {
     "name": "stderr",
     "output_type": "stream",
     "text": [
      " 50%|███████████████████████████████████████▌                                       | 50/100 [1:48:43<50:25, 60.52s/it]"
     ]
    },
    {
     "name": "stdout",
     "output_type": "stream",
     "text": [
      "Dataset: 11_donors, Current combination: {'augmentation': None, 'preprocess': 'normalize', 'network_architecture': 'ResNet', 'layers': 2, 'hidden_size_list': [100, 20], 'act_fun': 'ReLU', 'dropout': 0.0, 'training_strategy': None, 'loss_name': 'minus', 'optimizer_name': 'Adam', 'batch_resample': True, 'epochs': 50, 'batch_size': 256, 'lr': 0.01, 'weight_decay': 0.01}, training sucessfully.\n"
     ]
    },
    {
     "name": "stderr",
     "output_type": "stream",
     "text": [
      " 51%|███████████████████████████████████████▎                                     | 51/100 [1:51:33<1:16:11, 93.30s/it]"
     ]
    },
    {
     "name": "stdout",
     "output_type": "stream",
     "text": [
      "Dataset: 11_donors, Current combination: {'augmentation': None, 'preprocess': 'normalize', 'network_architecture': 'MLP', 'layers': 3, 'hidden_size_list': [100, 50, 20], 'act_fun': 'LeakyReLU', 'dropout': 0.0, 'training_strategy': None, 'loss_name': 'deviation', 'optimizer_name': 'Adam', 'batch_resample': True, 'epochs': 100, 'batch_size': 16, 'lr': 0.001, 'weight_decay': 0.0001}, training sucessfully.\n",
      "GPU is off\n"
     ]
    },
    {
     "name": "stderr",
     "output_type": "stream",
     "text": [
      " 52%|███████████████████████████████████████▌                                    | 52/100 [2:06:08<4:22:19, 327.90s/it]"
     ]
    },
    {
     "name": "stdout",
     "output_type": "stream",
     "text": [
      "Dataset: 11_donors, Current combination: {'augmentation': None, 'preprocess': 'normalize', 'network_architecture': 'FTT', 'layers': 3, 'hidden_size_list': None, 'act_fun': 'ReLU', 'dropout': None, 'training_strategy': None, 'loss_name': 'hinge', 'optimizer_name': 'SGD', 'batch_resample': True, 'epochs': 50, 'batch_size': 16, 'lr': 0.001, 'weight_decay': 0.0001}, training sucessfully.\n",
      "GPU is off\n"
     ]
    },
    {
     "name": "stderr",
     "output_type": "stream",
     "text": [
      " 53%|████████████████████████████████████████▎                                   | 53/100 [2:08:03<3:26:40, 263.83s/it]"
     ]
    },
    {
     "name": "stdout",
     "output_type": "stream",
     "text": [
      "Dataset: 11_donors, Current combination: {'augmentation': None, 'preprocess': 'normalize', 'network_architecture': 'FTT', 'layers': 2, 'hidden_size_list': None, 'act_fun': 'ReLU', 'dropout': None, 'training_strategy': None, 'loss_name': 'deviation', 'optimizer_name': 'Adam', 'batch_resample': True, 'epochs': 20, 'batch_size': 256, 'lr': 0.001, 'weight_decay': 0.01}, training sucessfully.\n"
     ]
    },
    {
     "name": "stderr",
     "output_type": "stream",
     "text": [
      " 54%|█████████████████████████████████████████                                   | 54/100 [2:08:14<2:24:03, 187.90s/it]"
     ]
    },
    {
     "name": "stdout",
     "output_type": "stream",
     "text": [
      "Dataset: 11_donors, Current combination: {'augmentation': None, 'preprocess': 'normalize', 'network_architecture': 'MLP', 'layers': 2, 'hidden_size_list': [100, 20], 'act_fun': 'LeakyReLU', 'dropout': 0.1, 'training_strategy': None, 'loss_name': 'hinge', 'optimizer_name': 'Adam', 'batch_resample': True, 'epochs': 50, 'batch_size': 256, 'lr': 0.01, 'weight_decay': 0.0001}, training sucessfully.\n"
     ]
    },
    {
     "name": "stderr",
     "output_type": "stream",
     "text": [
      " 55%|█████████████████████████████████████████▊                                  | 55/100 [2:09:27<1:55:13, 153.63s/it]"
     ]
    },
    {
     "name": "stdout",
     "output_type": "stream",
     "text": [
      "Dataset: 11_donors, Current combination: {'augmentation': None, 'preprocess': 'normalize', 'network_architecture': 'MLP', 'layers': 3, 'hidden_size_list': [100, 50, 20], 'act_fun': 'LeakyReLU', 'dropout': 0.3, 'training_strategy': None, 'loss_name': 'inverse', 'optimizer_name': 'RMSprop', 'batch_resample': True, 'epochs': 50, 'batch_size': 16, 'lr': 0.001, 'weight_decay': 0.0001}, training sucessfully.\n"
     ]
    },
    {
     "name": "stderr",
     "output_type": "stream",
     "text": [
      " 56%|██████████████████████████████████████████▌                                 | 56/100 [2:09:31<1:19:45, 108.76s/it]"
     ]
    },
    {
     "name": "stdout",
     "output_type": "stream",
     "text": [
      "Dataset: 11_donors, Current combination: {'augmentation': None, 'preprocess': 'normalize', 'network_architecture': 'MLP', 'layers': 2, 'hidden_size_list': [100, 20], 'act_fun': 'LeakyReLU', 'dropout': 0.3, 'training_strategy': None, 'loss_name': 'hinge', 'optimizer_name': 'SGD', 'batch_resample': True, 'epochs': 20, 'batch_size': 256, 'lr': 0.001, 'weight_decay': 0.0001}, training sucessfully.\n",
      "GPU is off\n"
     ]
    },
    {
     "name": "stderr",
     "output_type": "stream",
     "text": [
      " 57%|███████████████████████████████████████████▉                                 | 57/100 [2:10:22<1:05:30, 91.41s/it]"
     ]
    },
    {
     "name": "stdout",
     "output_type": "stream",
     "text": [
      "Dataset: 11_donors, Current combination: {'augmentation': None, 'preprocess': 'minmax', 'network_architecture': 'FTT', 'layers': 1, 'hidden_size_list': None, 'act_fun': 'ReLU', 'dropout': None, 'training_strategy': None, 'loss_name': 'inverse', 'optimizer_name': 'RMSprop', 'batch_resample': True, 'epochs': 20, 'batch_size': 64, 'lr': 0.01, 'weight_decay': 0.0001}, training sucessfully.\n"
     ]
    },
    {
     "name": "stderr",
     "output_type": "stream",
     "text": [
      " 58%|████████████████████████████████████████████▋                                | 58/100 [2:11:38<1:00:45, 86.81s/it]"
     ]
    },
    {
     "name": "stdout",
     "output_type": "stream",
     "text": [
      "Dataset: 11_donors, Current combination: {'augmentation': None, 'preprocess': 'normalize', 'network_architecture': 'MLP', 'layers': 1, 'hidden_size_list': [20], 'act_fun': 'ReLU', 'dropout': 0.1, 'training_strategy': None, 'loss_name': 'hinge', 'optimizer_name': 'Adam', 'batch_resample': True, 'epochs': 100, 'batch_size': 16, 'lr': 0.01, 'weight_decay': 0.0001}, training sucessfully.\n"
     ]
    },
    {
     "name": "stderr",
     "output_type": "stream",
     "text": [
      " 59%|██████████████████████████████████████████████▌                                | 59/100 [2:12:49<56:05, 82.09s/it]"
     ]
    },
    {
     "name": "stdout",
     "output_type": "stream",
     "text": [
      "Dataset: 11_donors, Current combination: {'augmentation': None, 'preprocess': 'normalize', 'network_architecture': 'MLP', 'layers': 2, 'hidden_size_list': [100, 20], 'act_fun': 'LeakyReLU', 'dropout': 0.0, 'training_strategy': None, 'loss_name': 'deviation', 'optimizer_name': 'Adam', 'batch_resample': True, 'epochs': 50, 'batch_size': 16, 'lr': 0.001, 'weight_decay': 0.01}, training sucessfully.\n",
      "GPU is off\n"
     ]
    },
    {
     "name": "stderr",
     "output_type": "stream",
     "text": [
      " 60%|███████████████████████████████████████████████▍                               | 60/100 [2:14:08<54:02, 81.07s/it]"
     ]
    },
    {
     "name": "stdout",
     "output_type": "stream",
     "text": [
      "Dataset: 11_donors, Current combination: {'augmentation': None, 'preprocess': 'normalize', 'network_architecture': 'FTT', 'layers': 1, 'hidden_size_list': None, 'act_fun': 'ReLU', 'dropout': None, 'training_strategy': None, 'loss_name': 'deviation', 'optimizer_name': 'SGD', 'batch_resample': True, 'epochs': 20, 'batch_size': 16, 'lr': 0.001, 'weight_decay': 0.01}, training sucessfully.\n"
     ]
    },
    {
     "name": "stderr",
     "output_type": "stream",
     "text": [
      " 61%|████████████████████████████████████████████████▏                              | 61/100 [2:15:37<54:15, 83.47s/it]"
     ]
    },
    {
     "name": "stdout",
     "output_type": "stream",
     "text": [
      "Dataset: 11_donors, Current combination: {'augmentation': None, 'preprocess': 'minmax', 'network_architecture': 'AE', 'layers': 2, 'hidden_size_list': [100, 20], 'act_fun': 'Tanh', 'dropout': 0.0, 'training_strategy': None, 'loss_name': 'hinge', 'optimizer_name': 'SGD', 'batch_resample': True, 'epochs': 50, 'batch_size': 16, 'lr': 0.01, 'weight_decay': 0.01}, training sucessfully.\n"
     ]
    },
    {
     "name": "stderr",
     "output_type": "stream",
     "text": [
      " 62%|████████████████████████████████████████████████▉                              | 62/100 [2:16:13<43:52, 69.28s/it]"
     ]
    },
    {
     "name": "stdout",
     "output_type": "stream",
     "text": [
      "Dataset: 11_donors, Current combination: {'augmentation': None, 'preprocess': 'normalize', 'network_architecture': 'AE', 'layers': 2, 'hidden_size_list': [100, 20], 'act_fun': 'Tanh', 'dropout': 0.1, 'training_strategy': None, 'loss_name': 'deviation', 'optimizer_name': 'Adam', 'batch_resample': True, 'epochs': 100, 'batch_size': 256, 'lr': 0.01, 'weight_decay': 0.0001}, training sucessfully.\n"
     ]
    },
    {
     "name": "stderr",
     "output_type": "stream",
     "text": [
      " 63%|█████████████████████████████████████████████████▊                             | 63/100 [2:17:24<43:01, 69.77s/it]"
     ]
    },
    {
     "name": "stdout",
     "output_type": "stream",
     "text": [
      "Dataset: 11_donors, Current combination: {'augmentation': None, 'preprocess': 'minmax', 'network_architecture': 'AE', 'layers': 2, 'hidden_size_list': [100, 20], 'act_fun': 'LeakyReLU', 'dropout': 0.1, 'training_strategy': None, 'loss_name': 'inverse', 'optimizer_name': 'SGD', 'batch_resample': True, 'epochs': 100, 'batch_size': 64, 'lr': 0.001, 'weight_decay': 0.0001}, training failure...Error: Input contains NaN, infinity or a value too large for dtype('float32').\n"
     ]
    },
    {
     "name": "stderr",
     "output_type": "stream",
     "text": [
      " 64%|██████████████████████████████████████████████████▌                            | 64/100 [2:18:07<36:55, 61.54s/it]"
     ]
    },
    {
     "name": "stdout",
     "output_type": "stream",
     "text": [
      "Dataset: 11_donors, Current combination: {'augmentation': None, 'preprocess': 'minmax', 'network_architecture': 'MLP', 'layers': 2, 'hidden_size_list': [100, 20], 'act_fun': 'LeakyReLU', 'dropout': 0.1, 'training_strategy': None, 'loss_name': 'deviation', 'optimizer_name': 'SGD', 'batch_resample': True, 'epochs': 100, 'batch_size': 64, 'lr': 0.01, 'weight_decay': 0.01}, training sucessfully.\n"
     ]
    },
    {
     "name": "stderr",
     "output_type": "stream",
     "text": [
      " 65%|███████████████████████████████████████████████████▎                           | 65/100 [2:18:13<26:19, 45.14s/it]"
     ]
    },
    {
     "name": "stdout",
     "output_type": "stream",
     "text": [
      "Dataset: 11_donors, Current combination: {'augmentation': None, 'preprocess': 'minmax', 'network_architecture': 'MLP', 'layers': 1, 'hidden_size_list': [20], 'act_fun': 'LeakyReLU', 'dropout': 0.1, 'training_strategy': None, 'loss_name': 'hinge', 'optimizer_name': 'Adam', 'batch_resample': True, 'epochs': 20, 'batch_size': 64, 'lr': 0.001, 'weight_decay': 0.0001}, training sucessfully.\n"
     ]
    },
    {
     "name": "stderr",
     "output_type": "stream",
     "text": [
      " 66%|████████████████████████████████████████████████████▏                          | 66/100 [2:19:59<35:50, 63.25s/it]"
     ]
    },
    {
     "name": "stdout",
     "output_type": "stream",
     "text": [
      "Dataset: 11_donors, Current combination: {'augmentation': None, 'preprocess': 'minmax', 'network_architecture': 'MLP', 'layers': 3, 'hidden_size_list': [100, 50, 20], 'act_fun': 'Tanh', 'dropout': 0.0, 'training_strategy': None, 'loss_name': 'minus', 'optimizer_name': 'SGD', 'batch_resample': True, 'epochs': 100, 'batch_size': 16, 'lr': 0.001, 'weight_decay': 0.0001}, training sucessfully.\n"
     ]
    },
    {
     "name": "stderr",
     "output_type": "stream",
     "text": [
      " 67%|████████████████████████████████████████████████████▉                          | 67/100 [2:20:32<29:43, 54.06s/it]"
     ]
    },
    {
     "name": "stdout",
     "output_type": "stream",
     "text": [
      "Dataset: 11_donors, Current combination: {'augmentation': None, 'preprocess': 'normalize', 'network_architecture': 'AE', 'layers': 1, 'hidden_size_list': [20], 'act_fun': 'ReLU', 'dropout': 0.0, 'training_strategy': None, 'loss_name': 'hinge', 'optimizer_name': 'SGD', 'batch_resample': True, 'epochs': 20, 'batch_size': 16, 'lr': 0.001, 'weight_decay': 0.0001}, training sucessfully.\n"
     ]
    },
    {
     "name": "stderr",
     "output_type": "stream",
     "text": [
      " 68%|█████████████████████████████████████████████████████▋                         | 68/100 [2:21:11<26:28, 49.66s/it]"
     ]
    },
    {
     "name": "stdout",
     "output_type": "stream",
     "text": [
      "Dataset: 11_donors, Current combination: {'augmentation': None, 'preprocess': 'minmax', 'network_architecture': 'MLP', 'layers': 1, 'hidden_size_list': [20], 'act_fun': 'LeakyReLU', 'dropout': 0.3, 'training_strategy': None, 'loss_name': 'inverse', 'optimizer_name': 'Adam', 'batch_resample': True, 'epochs': 50, 'batch_size': 16, 'lr': 0.01, 'weight_decay': 0.01}, training sucessfully.\n"
     ]
    },
    {
     "name": "stderr",
     "output_type": "stream",
     "text": [
      " 69%|██████████████████████████████████████████████████████▌                        | 69/100 [2:23:28<39:16, 76.02s/it]"
     ]
    },
    {
     "name": "stdout",
     "output_type": "stream",
     "text": [
      "Dataset: 11_donors, Current combination: {'augmentation': None, 'preprocess': 'minmax', 'network_architecture': 'ResNet', 'layers': 1, 'hidden_size_list': [20], 'act_fun': 'ReLU', 'dropout': 0.1, 'training_strategy': None, 'loss_name': 'minus', 'optimizer_name': 'SGD', 'batch_resample': True, 'epochs': 100, 'batch_size': 16, 'lr': 0.001, 'weight_decay': 0.01}, training sucessfully.\n"
     ]
    },
    {
     "name": "stderr",
     "output_type": "stream",
     "text": [
      " 70%|███████████████████████████████████████████████████████▎                       | 70/100 [2:23:32<27:12, 54.43s/it]"
     ]
    },
    {
     "name": "stdout",
     "output_type": "stream",
     "text": [
      "Dataset: 11_donors, Current combination: {'augmentation': None, 'preprocess': 'normalize', 'network_architecture': 'MLP', 'layers': 3, 'hidden_size_list': [100, 50, 20], 'act_fun': 'Tanh', 'dropout': 0.1, 'training_strategy': None, 'loss_name': 'hinge', 'optimizer_name': 'SGD', 'batch_resample': True, 'epochs': 20, 'batch_size': 256, 'lr': 0.001, 'weight_decay': 0.01}, training sucessfully.\n"
     ]
    },
    {
     "name": "stderr",
     "output_type": "stream",
     "text": [
      " 71%|████████████████████████████████████████████████████████                       | 71/100 [2:23:45<20:15, 41.92s/it]"
     ]
    },
    {
     "name": "stdout",
     "output_type": "stream",
     "text": [
      "Dataset: 11_donors, Current combination: {'augmentation': None, 'preprocess': 'minmax', 'network_architecture': 'MLP', 'layers': 1, 'hidden_size_list': [20], 'act_fun': 'LeakyReLU', 'dropout': 0.1, 'training_strategy': None, 'loss_name': 'hinge', 'optimizer_name': 'SGD', 'batch_resample': True, 'epochs': 20, 'batch_size': 16, 'lr': 0.01, 'weight_decay': 0.0001}, training sucessfully.\n"
     ]
    },
    {
     "name": "stderr",
     "output_type": "stream",
     "text": [
      " 72%|████████████████████████████████████████████████████████▉                      | 72/100 [2:23:58<15:26, 33.10s/it]"
     ]
    },
    {
     "name": "stdout",
     "output_type": "stream",
     "text": [
      "Dataset: 11_donors, Current combination: {'augmentation': None, 'preprocess': 'normalize', 'network_architecture': 'MLP', 'layers': 1, 'hidden_size_list': [20], 'act_fun': 'Tanh', 'dropout': 0.1, 'training_strategy': None, 'loss_name': 'minus', 'optimizer_name': 'SGD', 'batch_resample': True, 'epochs': 20, 'batch_size': 16, 'lr': 0.01, 'weight_decay': 0.01}, training sucessfully.\n"
     ]
    },
    {
     "name": "stderr",
     "output_type": "stream",
     "text": [
      " 73%|█████████████████████████████████████████████████████████▋                     | 73/100 [2:24:03<11:04, 24.63s/it]"
     ]
    },
    {
     "name": "stdout",
     "output_type": "stream",
     "text": [
      "Dataset: 11_donors, Current combination: {'augmentation': None, 'preprocess': 'normalize', 'network_architecture': 'ResNet', 'layers': 1, 'hidden_size_list': [20], 'act_fun': 'ReLU', 'dropout': 0.1, 'training_strategy': None, 'loss_name': 'minus', 'optimizer_name': 'RMSprop', 'batch_resample': True, 'epochs': 20, 'batch_size': 256, 'lr': 0.001, 'weight_decay': 0.0001}, training sucessfully.\n",
      "GPU is off\n"
     ]
    },
    {
     "name": "stderr",
     "output_type": "stream",
     "text": [
      " 74%|█████████████████████████████████████████████████████████▋                    | 74/100 [2:30:17<56:09, 129.59s/it]"
     ]
    },
    {
     "name": "stdout",
     "output_type": "stream",
     "text": [
      "Dataset: 11_donors, Current combination: {'augmentation': None, 'preprocess': 'normalize', 'network_architecture': 'FTT', 'layers': 1, 'hidden_size_list': None, 'act_fun': 'ReLU', 'dropout': None, 'training_strategy': None, 'loss_name': 'minus', 'optimizer_name': 'SGD', 'batch_resample': True, 'epochs': 100, 'batch_size': 16, 'lr': 0.01, 'weight_decay': 0.0001}, training sucessfully.\n"
     ]
    },
    {
     "name": "stderr",
     "output_type": "stream",
     "text": [
      " 75%|███████████████████████████████████████████████████████████▎                   | 75/100 [2:30:40<40:37, 97.51s/it]"
     ]
    },
    {
     "name": "stdout",
     "output_type": "stream",
     "text": [
      "Dataset: 11_donors, Current combination: {'augmentation': None, 'preprocess': 'normalize', 'network_architecture': 'ResNet', 'layers': 1, 'hidden_size_list': [20], 'act_fun': 'ReLU', 'dropout': 0.0, 'training_strategy': None, 'loss_name': 'hinge', 'optimizer_name': 'SGD', 'batch_resample': True, 'epochs': 100, 'batch_size': 256, 'lr': 0.01, 'weight_decay': 0.0001}, training sucessfully.\n",
      "GPU is off\n"
     ]
    },
    {
     "name": "stderr",
     "output_type": "stream",
     "text": [
      " 76%|█████████████████████████████████████████████████████████▊                  | 76/100 [2:40:01<1:34:37, 236.56s/it]"
     ]
    },
    {
     "name": "stdout",
     "output_type": "stream",
     "text": [
      "Dataset: 11_donors, Current combination: {'augmentation': None, 'preprocess': 'minmax', 'network_architecture': 'FTT', 'layers': 3, 'hidden_size_list': None, 'act_fun': 'ReLU', 'dropout': None, 'training_strategy': None, 'loss_name': 'inverse', 'optimizer_name': 'SGD', 'batch_resample': True, 'epochs': 50, 'batch_size': 256, 'lr': 0.001, 'weight_decay': 0.0001}, training sucessfully.\n"
     ]
    },
    {
     "name": "stderr",
     "output_type": "stream",
     "text": [
      " 77%|██████████████████████████████████████████████████████████▌                 | 77/100 [2:42:13<1:18:44, 205.39s/it]"
     ]
    },
    {
     "name": "stdout",
     "output_type": "stream",
     "text": [
      "Dataset: 11_donors, Current combination: {'augmentation': None, 'preprocess': 'minmax', 'network_architecture': 'ResNet', 'layers': 2, 'hidden_size_list': [100, 20], 'act_fun': 'ReLU', 'dropout': 0.0, 'training_strategy': None, 'loss_name': 'minus', 'optimizer_name': 'Adam', 'batch_resample': True, 'epochs': 50, 'batch_size': 16, 'lr': 0.001, 'weight_decay': 0.01}, training sucessfully.\n"
     ]
    },
    {
     "name": "stderr",
     "output_type": "stream",
     "text": [
      " 78%|████████████████████████████████████████████████████████████▊                 | 78/100 [2:42:47<56:27, 153.97s/it]"
     ]
    },
    {
     "name": "stdout",
     "output_type": "stream",
     "text": [
      "Dataset: 11_donors, Current combination: {'augmentation': None, 'preprocess': 'normalize', 'network_architecture': 'AE', 'layers': 1, 'hidden_size_list': [20], 'act_fun': 'Tanh', 'dropout': 0.1, 'training_strategy': None, 'loss_name': 'minus', 'optimizer_name': 'Adam', 'batch_resample': True, 'epochs': 50, 'batch_size': 64, 'lr': 0.001, 'weight_decay': 0.0001}, training sucessfully.\n"
     ]
    },
    {
     "name": "stderr",
     "output_type": "stream",
     "text": [
      " 79%|█████████████████████████████████████████████████████████████▌                | 79/100 [2:44:03<45:39, 130.46s/it]"
     ]
    },
    {
     "name": "stdout",
     "output_type": "stream",
     "text": [
      "Dataset: 11_donors, Current combination: {'augmentation': None, 'preprocess': 'minmax', 'network_architecture': 'AE', 'layers': 1, 'hidden_size_list': [20], 'act_fun': 'LeakyReLU', 'dropout': 0.0, 'training_strategy': None, 'loss_name': 'minus', 'optimizer_name': 'SGD', 'batch_resample': True, 'epochs': 50, 'batch_size': 16, 'lr': 0.001, 'weight_decay': 0.0001}, training failure...Error: Input contains NaN, infinity or a value too large for dtype('float32').\n"
     ]
    },
    {
     "name": "stderr",
     "output_type": "stream",
     "text": [
      " 80%|███████████████████████████████████████████████████████████████▏               | 80/100 [2:44:23<32:25, 97.26s/it]"
     ]
    },
    {
     "name": "stdout",
     "output_type": "stream",
     "text": [
      "Dataset: 11_donors, Current combination: {'augmentation': None, 'preprocess': 'normalize', 'network_architecture': 'MLP', 'layers': 2, 'hidden_size_list': [100, 20], 'act_fun': 'Tanh', 'dropout': 0.3, 'training_strategy': None, 'loss_name': 'minus', 'optimizer_name': 'SGD', 'batch_resample': True, 'epochs': 20, 'batch_size': 16, 'lr': 0.01, 'weight_decay': 0.01}, training sucessfully.\n"
     ]
    },
    {
     "name": "stderr",
     "output_type": "stream",
     "text": [
      " 81%|███████████████████████████████████████████████████████████████▉               | 81/100 [2:44:26<21:53, 69.12s/it]"
     ]
    },
    {
     "name": "stdout",
     "output_type": "stream",
     "text": [
      "Dataset: 11_donors, Current combination: {'augmentation': None, 'preprocess': 'normalize', 'network_architecture': 'MLP', 'layers': 1, 'hidden_size_list': [20], 'act_fun': 'LeakyReLU', 'dropout': 0.3, 'training_strategy': None, 'loss_name': 'minus', 'optimizer_name': 'Adam', 'batch_resample': True, 'epochs': 20, 'batch_size': 256, 'lr': 0.01, 'weight_decay': 0.0001}, training sucessfully.\n"
     ]
    },
    {
     "name": "stderr",
     "output_type": "stream",
     "text": [
      " 82%|████████████████████████████████████████████████████████████████▊              | 82/100 [2:45:45<21:36, 72.00s/it]"
     ]
    },
    {
     "name": "stdout",
     "output_type": "stream",
     "text": [
      "Dataset: 11_donors, Current combination: {'augmentation': None, 'preprocess': 'normalize', 'network_architecture': 'AE', 'layers': 3, 'hidden_size_list': [100, 50, 20], 'act_fun': 'LeakyReLU', 'dropout': 0.3, 'training_strategy': None, 'loss_name': 'minus', 'optimizer_name': 'SGD', 'batch_resample': True, 'epochs': 100, 'batch_size': 64, 'lr': 0.001, 'weight_decay': 0.01}, training failure...Error: Input contains NaN, infinity or a value too large for dtype('float32').\n"
     ]
    },
    {
     "name": "stderr",
     "output_type": "stream",
     "text": [
      " 83%|█████████████████████████████████████████████████████████████████▌             | 83/100 [2:46:26<17:46, 62.71s/it]"
     ]
    },
    {
     "name": "stdout",
     "output_type": "stream",
     "text": [
      "Dataset: 11_donors, Current combination: {'augmentation': None, 'preprocess': 'minmax', 'network_architecture': 'ResNet', 'layers': 1, 'hidden_size_list': [20], 'act_fun': 'ReLU', 'dropout': 0.1, 'training_strategy': None, 'loss_name': 'hinge', 'optimizer_name': 'Adam', 'batch_resample': True, 'epochs': 20, 'batch_size': 16, 'lr': 0.01, 'weight_decay': 0.0001}, training sucessfully.\n"
     ]
    },
    {
     "name": "stderr",
     "output_type": "stream",
     "text": [
      " 84%|██████████████████████████████████████████████████████████████████▎            | 84/100 [2:47:37<17:25, 65.33s/it]"
     ]
    },
    {
     "name": "stdout",
     "output_type": "stream",
     "text": [
      "Dataset: 11_donors, Current combination: {'augmentation': None, 'preprocess': 'normalize', 'network_architecture': 'AE', 'layers': 2, 'hidden_size_list': [100, 20], 'act_fun': 'Tanh', 'dropout': 0.1, 'training_strategy': None, 'loss_name': 'deviation', 'optimizer_name': 'SGD', 'batch_resample': True, 'epochs': 100, 'batch_size': 64, 'lr': 0.01, 'weight_decay': 0.0001}, training sucessfully.\n"
     ]
    },
    {
     "name": "stderr",
     "output_type": "stream",
     "text": [
      " 85%|███████████████████████████████████████████████████████████████████▏           | 85/100 [2:48:07<13:36, 54.46s/it]"
     ]
    },
    {
     "name": "stdout",
     "output_type": "stream",
     "text": [
      "Dataset: 11_donors, Current combination: {'augmentation': None, 'preprocess': 'minmax', 'network_architecture': 'AE', 'layers': 2, 'hidden_size_list': [100, 20], 'act_fun': 'Tanh', 'dropout': 0.0, 'training_strategy': None, 'loss_name': 'deviation', 'optimizer_name': 'SGD', 'batch_resample': True, 'epochs': 100, 'batch_size': 256, 'lr': 0.001, 'weight_decay': 0.0001}, training sucessfully.\n"
     ]
    },
    {
     "name": "stderr",
     "output_type": "stream",
     "text": [
      " 86%|███████████████████████████████████████████████████████████████████▉           | 86/100 [2:48:19<09:44, 41.78s/it]"
     ]
    },
    {
     "name": "stdout",
     "output_type": "stream",
     "text": [
      "Dataset: 11_donors, Current combination: {'augmentation': None, 'preprocess': 'minmax', 'network_architecture': 'AE', 'layers': 2, 'hidden_size_list': [100, 20], 'act_fun': 'Tanh', 'dropout': 0.0, 'training_strategy': None, 'loss_name': 'inverse', 'optimizer_name': 'SGD', 'batch_resample': True, 'epochs': 20, 'batch_size': 64, 'lr': 0.001, 'weight_decay': 0.0001}, training sucessfully.\n"
     ]
    },
    {
     "name": "stderr",
     "output_type": "stream",
     "text": [
      " 87%|████████████████████████████████████████████████████████████████████▋          | 87/100 [2:48:24<06:38, 30.67s/it]"
     ]
    },
    {
     "name": "stdout",
     "output_type": "stream",
     "text": [
      "Dataset: 11_donors, Current combination: {'augmentation': None, 'preprocess': 'minmax', 'network_architecture': 'MLP', 'layers': 3, 'hidden_size_list': [100, 50, 20], 'act_fun': 'ReLU', 'dropout': 0.3, 'training_strategy': None, 'loss_name': 'hinge', 'optimizer_name': 'Adam', 'batch_resample': True, 'epochs': 20, 'batch_size': 256, 'lr': 0.001, 'weight_decay': 0.01}, training sucessfully.\n"
     ]
    },
    {
     "name": "stderr",
     "output_type": "stream",
     "text": [
      " 88%|█████████████████████████████████████████████████████████████████████▌         | 88/100 [2:50:16<11:01, 55.12s/it]"
     ]
    },
    {
     "name": "stdout",
     "output_type": "stream",
     "text": [
      "Dataset: 11_donors, Current combination: {'augmentation': None, 'preprocess': 'normalize', 'network_architecture': 'ResNet', 'layers': 1, 'hidden_size_list': [20], 'act_fun': 'ReLU', 'dropout': 0.1, 'training_strategy': None, 'loss_name': 'deviation', 'optimizer_name': 'Adam', 'batch_resample': True, 'epochs': 50, 'batch_size': 16, 'lr': 0.001, 'weight_decay': 0.0001}, training sucessfully.\n"
     ]
    },
    {
     "name": "stderr",
     "output_type": "stream",
     "text": [
      " 89%|██████████████████████████████████████████████████████████████████████▎        | 89/100 [2:51:20<10:37, 57.98s/it]"
     ]
    },
    {
     "name": "stdout",
     "output_type": "stream",
     "text": [
      "Dataset: 11_donors, Current combination: {'augmentation': None, 'preprocess': 'normalize', 'network_architecture': 'AE', 'layers': 2, 'hidden_size_list': [100, 20], 'act_fun': 'ReLU', 'dropout': 0.3, 'training_strategy': None, 'loss_name': 'inverse', 'optimizer_name': 'RMSprop', 'batch_resample': True, 'epochs': 100, 'batch_size': 256, 'lr': 0.01, 'weight_decay': 0.0001}, training sucessfully.\n"
     ]
    },
    {
     "name": "stderr",
     "output_type": "stream",
     "text": [
      " 90%|███████████████████████████████████████████████████████████████████████        | 90/100 [2:54:01<14:48, 88.90s/it]"
     ]
    },
    {
     "name": "stdout",
     "output_type": "stream",
     "text": [
      "Dataset: 11_donors, Current combination: {'augmentation': None, 'preprocess': 'normalize', 'network_architecture': 'ResNet', 'layers': 1, 'hidden_size_list': [20], 'act_fun': 'ReLU', 'dropout': 0.1, 'training_strategy': None, 'loss_name': 'deviation', 'optimizer_name': 'SGD', 'batch_resample': True, 'epochs': 100, 'batch_size': 16, 'lr': 0.01, 'weight_decay': 0.01}, training sucessfully.\n"
     ]
    },
    {
     "name": "stderr",
     "output_type": "stream",
     "text": [
      " 91%|███████████████████████████████████████████████████████████████████████▉       | 91/100 [2:54:33<10:46, 71.79s/it]"
     ]
    },
    {
     "name": "stdout",
     "output_type": "stream",
     "text": [
      "Dataset: 11_donors, Current combination: {'augmentation': None, 'preprocess': 'minmax', 'network_architecture': 'MLP', 'layers': 3, 'hidden_size_list': [100, 50, 20], 'act_fun': 'LeakyReLU', 'dropout': 0.3, 'training_strategy': None, 'loss_name': 'minus', 'optimizer_name': 'RMSprop', 'batch_resample': True, 'epochs': 20, 'batch_size': 16, 'lr': 0.01, 'weight_decay': 0.01}, training sucessfully.\n"
     ]
    },
    {
     "name": "stderr",
     "output_type": "stream",
     "text": [
      " 92%|████████████████████████████████████████████████████████████████████████▋      | 92/100 [2:54:38<06:53, 51.72s/it]"
     ]
    },
    {
     "name": "stdout",
     "output_type": "stream",
     "text": [
      "Dataset: 11_donors, Current combination: {'augmentation': None, 'preprocess': 'normalize', 'network_architecture': 'MLP', 'layers': 2, 'hidden_size_list': [100, 20], 'act_fun': 'LeakyReLU', 'dropout': 0.3, 'training_strategy': None, 'loss_name': 'inverse', 'optimizer_name': 'Adam', 'batch_resample': True, 'epochs': 20, 'batch_size': 256, 'lr': 0.01, 'weight_decay': 0.0001}, training sucessfully.\n",
      "GPU is off\n"
     ]
    }
   ],
   "source": [
    "for dataset in dataset_list:\n",
    "    # generate data\n",
    "    data_generator = DataGenerator(dataset=dataset)\n",
    "    data = data_generator.generator(la=0.20)\n",
    "    \n",
    "    for gym in tqdm(gyms):\n",
    "        com = Components(data=data,\n",
    "                         augmentation=gym['augmentation'],\n",
    "                         preprocess=gym['preprocess'],\n",
    "                         network_architecture=gym['network_architecture'],\n",
    "                         layers=gym['layers'],\n",
    "                         hidden_size_list=gym['hidden_size_list'],\n",
    "                         act_fun=gym['act_fun'],\n",
    "                         dropout=gym['dropout'],\n",
    "                         training_strategy=gym['training_strategy'],\n",
    "                         loss_name=gym['loss_name'],\n",
    "                         optimizer_name=gym['optimizer_name'],\n",
    "                         batch_resample=gym['batch_resample'],\n",
    "                         epochs=gym['epochs'],\n",
    "                         batch_size=gym['batch_size'],\n",
    "                         lr=gym['lr'],\n",
    "                         weight_decay=gym['weight_decay'])\n",
    "\n",
    "        try:\n",
    "            com.f_train()\n",
    "            metrics = com.f_predict_score()\n",
    "\n",
    "            df_results_AUCROC.loc[str(gym), dataset] = metrics['aucroc']\n",
    "            df_results_AUCPR.loc[str(gym), dataset] = metrics['aucpr']\n",
    "\n",
    "            print(f'Dataset: {dataset}, Current combination: {gym}, training sucessfully.')\n",
    "            df_results_AUCROC.to_csv('result_AUCROC.csv', index=True)\n",
    "            df_results_AUCPR.to_csv('result_AUCPR.csv', index=True)\n",
    "\n",
    "        except Exception as e:\n",
    "            print(f'Dataset: {dataset}, Current combination: {gym}, training failure...Error: {e}')\n",
    "            pass\n",
    "            continue"
   ]
  },
  {
   "cell_type": "code",
   "execution_count": 7,
   "metadata": {},
   "outputs": [],
   "source": [
    "a = [1, 2]"
   ]
  },
  {
   "cell_type": "code",
   "execution_count": 2,
   "metadata": {},
   "outputs": [],
   "source": [
    "a.append(None)"
   ]
  },
  {
   "cell_type": "code",
   "execution_count": 3,
   "metadata": {},
   "outputs": [],
   "source": [
    "a.append(1)"
   ]
  },
  {
   "cell_type": "code",
   "execution_count": 11,
   "metadata": {},
   "outputs": [
    {
     "data": {
      "text/plain": [
       "False"
      ]
     },
     "execution_count": 11,
     "metadata": {},
     "output_type": "execute_result"
    }
   ],
   "source": [
    "isinstance(0.8, int)"
   ]
  }
 ],
 "metadata": {
  "kernelspec": {
   "display_name": "Python 3",
   "language": "python",
   "name": "python3"
  },
  "language_info": {
   "codemirror_mode": {
    "name": "ipython",
    "version": 3
   },
   "file_extension": ".py",
   "mimetype": "text/x-python",
   "name": "python",
   "nbconvert_exporter": "python",
   "pygments_lexer": "ipython3",
   "version": "3.7.7"
  },
  "toc": {
   "base_numbering": 1,
   "nav_menu": {},
   "number_sections": true,
   "sideBar": true,
   "skip_h1_title": false,
   "title_cell": "Table of Contents",
   "title_sidebar": "Contents",
   "toc_cell": false,
   "toc_position": {},
   "toc_section_display": true,
   "toc_window_display": false
  },
  "varInspector": {
   "cols": {
    "lenName": 16,
    "lenType": 16,
    "lenVar": 40
   },
   "kernels_config": {
    "python": {
     "delete_cmd_postfix": "",
     "delete_cmd_prefix": "del ",
     "library": "var_list.py",
     "varRefreshCmd": "print(var_dic_list())"
    },
    "r": {
     "delete_cmd_postfix": ") ",
     "delete_cmd_prefix": "rm(",
     "library": "var_list.r",
     "varRefreshCmd": "cat(var_dic_list()) "
    }
   },
   "types_to_exclude": [
    "module",
    "function",
    "builtin_function_or_method",
    "instance",
    "_Feature"
   ],
   "window_display": false
  }
 },
 "nbformat": 4,
 "nbformat_minor": 4
}
