{
 "cells": [
  {
   "cell_type": "code",
   "execution_count": 1,
   "metadata": {
    "ExecuteTime": {
     "end_time": "2022-11-07T03:11:24.488667Z",
     "start_time": "2022-11-07T03:11:21.242297Z"
    }
   },
   "outputs": [],
   "source": [
    "import os\n",
    "import numpy as np\n",
    "import pandas as pd\n",
    "from itertools import product\n",
    "from tqdm import tqdm\n",
    "from iteration_utilities import unique_everseen\n",
    "\n",
    "from data_generator import DataGenerator\n",
    "from components import Components"
   ]
  },
  {
   "cell_type": "code",
   "execution_count": 2,
   "metadata": {
    "ExecuteTime": {
     "end_time": "2022-11-07T03:24:46.916751Z",
     "start_time": "2022-11-07T03:24:41.159993Z"
    }
   },
   "outputs": [
    {
     "name": "stdout",
     "output_type": "stream",
     "text": [
      "{'augmentation': [None], 'preprocess': ['minmax', 'normalize'], 'network_architecture': ['MLP', 'AE', 'ResNet', 'FTT'], 'layers': [1, 2, 3], 'hidden_size_list': [[20], [100, 20], [100, 50, 20]], 'act_fun': ['Tanh', 'ReLU', 'LeakyReLU'], 'dropout': [0.0, 0.1, 0.3], 'training_strategy': [None], 'loss_name': ['minus', 'inverse', 'hinge', 'deviation'], 'optimizer_name': ['SGD', 'Adam', 'RMSprop'], 'batch_resample': [True], 'epochs': [20, 50, 100], 'batch_size': [16, 64, 256], 'lr': [0.01, 0.001], 'weight_decay': [0.01, 0.0001]}\n"
     ]
    },
    {
     "name": "stderr",
     "output_type": "stream",
     "text": [
      "100%|██████████████████████████████████████████████████████████████████████| 279936/279936 [00:00<00:00, 332171.63it/s]"
     ]
    },
    {
     "name": "stdout",
     "output_type": "stream",
     "text": [
      "62208\n"
     ]
    },
    {
     "name": "stderr",
     "output_type": "stream",
     "text": [
      "\n"
     ]
    }
   ],
   "source": [
    "# generator combinations of different components\n",
    "com = Components()\n",
    "print(com.gym())\n",
    "\n",
    "gyms_comb = list(product(*list(com.gym().values())))\n",
    "keys = list(com.gym().keys())\n",
    "gyms = []\n",
    "\n",
    "for _ in tqdm(gyms_comb):\n",
    "    gym = {}\n",
    "    for j, __ in enumerate(_):\n",
    "        gym[keys[j]] = __\n",
    "        \n",
    "    if gym['layers'] != len(gym['hidden_size_list']):\n",
    "        continue\n",
    "        \n",
    "    # delete ResNet & FTT ReLU: activation layers\n",
    "    if gym['network_architecture'] in ['ResNet', 'FTT']:\n",
    "        if gym['act_fun'] != 'ReLU':\n",
    "            continue\n",
    "\n",
    "    # delete FTT: hidden_size_list, drop out\n",
    "    if gym['network_architecture'] == 'FTT':\n",
    "        gym['hidden_size_list'] = None\n",
    "        gym['dropout'] = None\n",
    "        \n",
    "    gyms.append(gym)\n",
    "    \n",
    "print(len(gyms))"
   ]
  },
  {
   "cell_type": "code",
   "execution_count": 3,
   "metadata": {},
   "outputs": [
    {
     "name": "stdout",
     "output_type": "stream",
     "text": [
      "100\n",
      "100\n"
     ]
    }
   ],
   "source": [
    "# random selection\n",
    "idx = np.random.choice(np.arange(len(gyms)), 100, replace=False)\n",
    "gyms = [gyms[_] for _ in idx]\n",
    "print(len(gyms))\n",
    "\n",
    "\n",
    "gyms = list(unique_everseen(gyms))\n",
    "print(len(gyms))"
   ]
  },
  {
   "cell_type": "code",
   "execution_count": 4,
   "metadata": {},
   "outputs": [
    {
     "data": {
      "text/plain": [
       "{'augmentation': None,\n",
       " 'preprocess': 'minmax',\n",
       " 'network_architecture': 'ResNet',\n",
       " 'layers': 2,\n",
       " 'hidden_size_list': [100, 20],\n",
       " 'act_fun': 'ReLU',\n",
       " 'dropout': 0.1,\n",
       " 'training_strategy': None,\n",
       " 'loss_name': 'inverse',\n",
       " 'optimizer_name': 'SGD',\n",
       " 'batch_resample': True,\n",
       " 'epochs': 50,\n",
       " 'batch_size': 64,\n",
       " 'lr': 0.01,\n",
       " 'weight_decay': 0.01}"
      ]
     },
     "execution_count": 4,
     "metadata": {},
     "output_type": "execute_result"
    }
   ],
   "source": [
    "gyms[0]"
   ]
  },
  {
   "cell_type": "markdown",
   "metadata": {},
   "source": [
    "Experiments"
   ]
  },
  {
   "cell_type": "code",
   "execution_count": 5,
   "metadata": {},
   "outputs": [],
   "source": [
    "dataset_list = [os.path.splitext(_)[0] for _ in os.listdir('datasets') if os.path.splitext(_)[1] == '.npz']\n",
    "\n",
    "df_results_AUCROC = pd.DataFrame(data=None, index=[str(_) for _ in gyms], columns=dataset_list)\n",
    "df_results_AUCPR = pd.DataFrame(data=None, index=[str(_) for _ in gyms], columns=dataset_list)"
   ]
  },
  {
   "cell_type": "code",
   "execution_count": null,
   "metadata": {
    "ExecuteTime": {
     "end_time": "2022-11-06T12:46:01.422319Z",
     "start_time": "2022-11-06T12:29:15.750829Z"
    }
   },
   "outputs": [
    {
     "name": "stdout",
     "output_type": "stream",
     "text": [
      "subsampling for dataset 10_cover...\n"
     ]
    },
    {
     "name": "stderr",
     "output_type": "stream",
     "text": [
      "  1%|▊                                                                                 | 1/100 [00:28<47:09, 28.58s/it]"
     ]
    },
    {
     "name": "stdout",
     "output_type": "stream",
     "text": [
      "Dataset: 10_cover, Current combination: {'augmentation': None, 'preprocess': 'minmax', 'network_architecture': 'ResNet', 'layers': 2, 'hidden_size_list': [100, 20], 'act_fun': 'ReLU', 'dropout': 0.1, 'training_strategy': None, 'loss_name': 'inverse', 'optimizer_name': 'SGD', 'batch_resample': True, 'epochs': 50, 'batch_size': 64, 'lr': 0.01, 'weight_decay': 0.01}, training failure...Error: Input contains NaN, infinity or a value too large for dtype('float32').\n"
     ]
    },
    {
     "name": "stderr",
     "output_type": "stream",
     "text": [
      "  2%|█▋                                                                                | 2/100 [00:44<34:44, 21.27s/it]"
     ]
    },
    {
     "name": "stdout",
     "output_type": "stream",
     "text": [
      "Dataset: 10_cover, Current combination: {'augmentation': None, 'preprocess': 'minmax', 'network_architecture': 'MLP', 'layers': 2, 'hidden_size_list': [100, 20], 'act_fun': 'ReLU', 'dropout': 0.0, 'training_strategy': None, 'loss_name': 'hinge', 'optimizer_name': 'SGD', 'batch_resample': True, 'epochs': 50, 'batch_size': 64, 'lr': 0.001, 'weight_decay': 0.01}, training sucessfully.\n"
     ]
    },
    {
     "name": "stderr",
     "output_type": "stream",
     "text": [
      "  3%|██▍                                                                               | 3/100 [01:14<40:34, 25.10s/it]"
     ]
    },
    {
     "name": "stdout",
     "output_type": "stream",
     "text": [
      "Dataset: 10_cover, Current combination: {'augmentation': None, 'preprocess': 'minmax', 'network_architecture': 'ResNet', 'layers': 2, 'hidden_size_list': [100, 20], 'act_fun': 'ReLU', 'dropout': 0.3, 'training_strategy': None, 'loss_name': 'deviation', 'optimizer_name': 'SGD', 'batch_resample': True, 'epochs': 100, 'batch_size': 256, 'lr': 0.01, 'weight_decay': 0.01}, training sucessfully.\n"
     ]
    },
    {
     "name": "stderr",
     "output_type": "stream",
     "text": [
      "  4%|███▎                                                                              | 4/100 [02:06<57:00, 35.63s/it]"
     ]
    },
    {
     "name": "stdout",
     "output_type": "stream",
     "text": [
      "Dataset: 10_cover, Current combination: {'augmentation': None, 'preprocess': 'normalize', 'network_architecture': 'ResNet', 'layers': 2, 'hidden_size_list': [100, 20], 'act_fun': 'ReLU', 'dropout': 0.0, 'training_strategy': None, 'loss_name': 'hinge', 'optimizer_name': 'RMSprop', 'batch_resample': True, 'epochs': 20, 'batch_size': 16, 'lr': 0.01, 'weight_decay': 0.01}, training sucessfully.\n"
     ]
    },
    {
     "name": "stderr",
     "output_type": "stream",
     "text": [
      "  5%|████                                                                            | 5/100 [02:58<1:06:13, 41.83s/it]"
     ]
    },
    {
     "name": "stdout",
     "output_type": "stream",
     "text": [
      "Dataset: 10_cover, Current combination: {'augmentation': None, 'preprocess': 'minmax', 'network_architecture': 'AE', 'layers': 1, 'hidden_size_list': [20], 'act_fun': 'ReLU', 'dropout': 0.3, 'training_strategy': None, 'loss_name': 'deviation', 'optimizer_name': 'RMSprop', 'batch_resample': True, 'epochs': 50, 'batch_size': 64, 'lr': 0.01, 'weight_decay': 0.01}, training sucessfully.\n"
     ]
    },
    {
     "name": "stderr",
     "output_type": "stream",
     "text": [
      "  6%|████▉                                                                             | 6/100 [03:14<51:20, 32.78s/it]"
     ]
    },
    {
     "name": "stdout",
     "output_type": "stream",
     "text": [
      "Dataset: 10_cover, Current combination: {'augmentation': None, 'preprocess': 'minmax', 'network_architecture': 'MLP', 'layers': 1, 'hidden_size_list': [20], 'act_fun': 'ReLU', 'dropout': 0.1, 'training_strategy': None, 'loss_name': 'hinge', 'optimizer_name': 'RMSprop', 'batch_resample': True, 'epochs': 50, 'batch_size': 64, 'lr': 0.001, 'weight_decay': 0.01}, training sucessfully.\n"
     ]
    },
    {
     "name": "stderr",
     "output_type": "stream",
     "text": [
      "  7%|█████▌                                                                         | 7/100 [11:56<4:58:40, 192.69s/it]"
     ]
    },
    {
     "name": "stdout",
     "output_type": "stream",
     "text": [
      "Dataset: 10_cover, Current combination: {'augmentation': None, 'preprocess': 'normalize', 'network_architecture': 'AE', 'layers': 3, 'hidden_size_list': [100, 50, 20], 'act_fun': 'ReLU', 'dropout': 0.1, 'training_strategy': None, 'loss_name': 'hinge', 'optimizer_name': 'RMSprop', 'batch_resample': True, 'epochs': 100, 'batch_size': 16, 'lr': 0.001, 'weight_decay': 0.01}, training sucessfully.\n"
     ]
    },
    {
     "name": "stderr",
     "output_type": "stream",
     "text": [
      "  8%|██████▎                                                                        | 8/100 [12:34<3:39:59, 143.47s/it]"
     ]
    },
    {
     "name": "stdout",
     "output_type": "stream",
     "text": [
      "Dataset: 10_cover, Current combination: {'augmentation': None, 'preprocess': 'minmax', 'network_architecture': 'AE', 'layers': 3, 'hidden_size_list': [100, 50, 20], 'act_fun': 'ReLU', 'dropout': 0.3, 'training_strategy': None, 'loss_name': 'inverse', 'optimizer_name': 'SGD', 'batch_resample': True, 'epochs': 100, 'batch_size': 256, 'lr': 0.001, 'weight_decay': 0.0001}, training sucessfully.\n"
     ]
    },
    {
     "name": "stderr",
     "output_type": "stream",
     "text": [
      "  9%|███████                                                                        | 9/100 [14:58<3:38:05, 143.80s/it]"
     ]
    },
    {
     "name": "stdout",
     "output_type": "stream",
     "text": [
      "Dataset: 10_cover, Current combination: {'augmentation': None, 'preprocess': 'normalize', 'network_architecture': 'MLP', 'layers': 3, 'hidden_size_list': [100, 50, 20], 'act_fun': 'LeakyReLU', 'dropout': 0.3, 'training_strategy': None, 'loss_name': 'hinge', 'optimizer_name': 'RMSprop', 'batch_resample': True, 'epochs': 100, 'batch_size': 16, 'lr': 0.001, 'weight_decay': 0.01}, training sucessfully.\n"
     ]
    },
    {
     "name": "stderr",
     "output_type": "stream",
     "text": [
      " 10%|███████▊                                                                      | 10/100 [15:15<2:36:41, 104.47s/it]"
     ]
    },
    {
     "name": "stdout",
     "output_type": "stream",
     "text": [
      "Dataset: 10_cover, Current combination: {'augmentation': None, 'preprocess': 'minmax', 'network_architecture': 'AE', 'layers': 2, 'hidden_size_list': [100, 20], 'act_fun': 'LeakyReLU', 'dropout': 0.3, 'training_strategy': None, 'loss_name': 'deviation', 'optimizer_name': 'SGD', 'batch_resample': True, 'epochs': 20, 'batch_size': 64, 'lr': 0.001, 'weight_decay': 0.0001}, training sucessfully.\n"
     ]
    },
    {
     "name": "stderr",
     "output_type": "stream",
     "text": [
      " 11%|████████▋                                                                      | 11/100 [15:37<1:57:28, 79.20s/it]"
     ]
    },
    {
     "name": "stdout",
     "output_type": "stream",
     "text": [
      "Dataset: 10_cover, Current combination: {'augmentation': None, 'preprocess': 'minmax', 'network_architecture': 'MLP', 'layers': 2, 'hidden_size_list': [100, 20], 'act_fun': 'Tanh', 'dropout': 0.3, 'training_strategy': None, 'loss_name': 'deviation', 'optimizer_name': 'RMSprop', 'batch_resample': True, 'epochs': 50, 'batch_size': 64, 'lr': 0.001, 'weight_decay': 0.0001}, training sucessfully.\n"
     ]
    },
    {
     "name": "stderr",
     "output_type": "stream",
     "text": [
      " 12%|█████████▎                                                                    | 12/100 [19:25<3:02:45, 124.61s/it]"
     ]
    },
    {
     "name": "stdout",
     "output_type": "stream",
     "text": [
      "Dataset: 10_cover, Current combination: {'augmentation': None, 'preprocess': 'minmax', 'network_architecture': 'AE', 'layers': 2, 'hidden_size_list': [100, 20], 'act_fun': 'LeakyReLU', 'dropout': 0.0, 'training_strategy': None, 'loss_name': 'minus', 'optimizer_name': 'RMSprop', 'batch_resample': True, 'epochs': 100, 'batch_size': 16, 'lr': 0.001, 'weight_decay': 0.0001}, training sucessfully.\n"
     ]
    },
    {
     "name": "stderr",
     "output_type": "stream",
     "text": [
      " 13%|██████████▎                                                                    | 13/100 [20:00<2:21:24, 97.52s/it]"
     ]
    },
    {
     "name": "stdout",
     "output_type": "stream",
     "text": [
      "Dataset: 10_cover, Current combination: {'augmentation': None, 'preprocess': 'normalize', 'network_architecture': 'ResNet', 'layers': 2, 'hidden_size_list': [100, 20], 'act_fun': 'ReLU', 'dropout': 0.1, 'training_strategy': None, 'loss_name': 'deviation', 'optimizer_name': 'SGD', 'batch_resample': True, 'epochs': 50, 'batch_size': 64, 'lr': 0.01, 'weight_decay': 0.0001}, training sucessfully.\n"
     ]
    },
    {
     "name": "stderr",
     "output_type": "stream",
     "text": [
      " 14%|██████████▉                                                                   | 14/100 [22:09<2:33:25, 107.04s/it]"
     ]
    },
    {
     "name": "stdout",
     "output_type": "stream",
     "text": [
      "Dataset: 10_cover, Current combination: {'augmentation': None, 'preprocess': 'minmax', 'network_architecture': 'AE', 'layers': 1, 'hidden_size_list': [20], 'act_fun': 'ReLU', 'dropout': 0.3, 'training_strategy': None, 'loss_name': 'inverse', 'optimizer_name': 'RMSprop', 'batch_resample': True, 'epochs': 50, 'batch_size': 16, 'lr': 0.001, 'weight_decay': 0.01}, training sucessfully.\n"
     ]
    },
    {
     "name": "stderr",
     "output_type": "stream",
     "text": [
      " 15%|███████████▊                                                                   | 15/100 [22:21<1:50:46, 78.19s/it]"
     ]
    },
    {
     "name": "stdout",
     "output_type": "stream",
     "text": [
      "Dataset: 10_cover, Current combination: {'augmentation': None, 'preprocess': 'minmax', 'network_architecture': 'MLP', 'layers': 2, 'hidden_size_list': [100, 20], 'act_fun': 'ReLU', 'dropout': 0.3, 'training_strategy': None, 'loss_name': 'minus', 'optimizer_name': 'RMSprop', 'batch_resample': True, 'epochs': 50, 'batch_size': 256, 'lr': 0.01, 'weight_decay': 0.0001}, training sucessfully.\n"
     ]
    },
    {
     "name": "stderr",
     "output_type": "stream",
     "text": [
      " 16%|████████████▍                                                                 | 16/100 [25:14<2:29:24, 106.73s/it]"
     ]
    },
    {
     "name": "stdout",
     "output_type": "stream",
     "text": [
      "Dataset: 10_cover, Current combination: {'augmentation': None, 'preprocess': 'normalize', 'network_architecture': 'MLP', 'layers': 3, 'hidden_size_list': [100, 50, 20], 'act_fun': 'LeakyReLU', 'dropout': 0.0, 'training_strategy': None, 'loss_name': 'deviation', 'optimizer_name': 'Adam', 'batch_resample': True, 'epochs': 100, 'batch_size': 16, 'lr': 0.001, 'weight_decay': 0.01}, training sucessfully.\n"
     ]
    },
    {
     "name": "stderr",
     "output_type": "stream",
     "text": [
      " 17%|█████████████▍                                                                 | 17/100 [25:49<1:57:47, 85.15s/it]"
     ]
    },
    {
     "name": "stdout",
     "output_type": "stream",
     "text": [
      "Dataset: 10_cover, Current combination: {'augmentation': None, 'preprocess': 'normalize', 'network_architecture': 'AE', 'layers': 2, 'hidden_size_list': [100, 20], 'act_fun': 'ReLU', 'dropout': 0.1, 'training_strategy': None, 'loss_name': 'hinge', 'optimizer_name': 'SGD', 'batch_resample': True, 'epochs': 50, 'batch_size': 64, 'lr': 0.001, 'weight_decay': 0.01}, training sucessfully.\n"
     ]
    },
    {
     "name": "stderr",
     "output_type": "stream",
     "text": [
      " 18%|██████████████▏                                                                | 18/100 [26:29<1:38:00, 71.72s/it]"
     ]
    },
    {
     "name": "stdout",
     "output_type": "stream",
     "text": [
      "Dataset: 10_cover, Current combination: {'augmentation': None, 'preprocess': 'normalize', 'network_architecture': 'AE', 'layers': 3, 'hidden_size_list': [100, 50, 20], 'act_fun': 'Tanh', 'dropout': 0.3, 'training_strategy': None, 'loss_name': 'inverse', 'optimizer_name': 'Adam', 'batch_resample': True, 'epochs': 100, 'batch_size': 256, 'lr': 0.001, 'weight_decay': 0.0001}, training sucessfully.\n"
     ]
    },
    {
     "name": "stderr",
     "output_type": "stream",
     "text": [
      " 19%|███████████████                                                                | 19/100 [27:01<1:20:43, 59.80s/it]"
     ]
    },
    {
     "name": "stdout",
     "output_type": "stream",
     "text": [
      "Dataset: 10_cover, Current combination: {'augmentation': None, 'preprocess': 'normalize', 'network_architecture': 'MLP', 'layers': 2, 'hidden_size_list': [100, 20], 'act_fun': 'ReLU', 'dropout': 0.0, 'training_strategy': None, 'loss_name': 'minus', 'optimizer_name': 'SGD', 'batch_resample': True, 'epochs': 100, 'batch_size': 64, 'lr': 0.001, 'weight_decay': 0.0001}, training failure...Error: Input contains NaN, infinity or a value too large for dtype('float32').\n"
     ]
    },
    {
     "name": "stderr",
     "output_type": "stream",
     "text": [
      " 20%|████████████████▏                                                                | 20/100 [27:10<59:23, 44.54s/it]"
     ]
    },
    {
     "name": "stdout",
     "output_type": "stream",
     "text": [
      "Dataset: 10_cover, Current combination: {'augmentation': None, 'preprocess': 'normalize', 'network_architecture': 'MLP', 'layers': 3, 'hidden_size_list': [100, 50, 20], 'act_fun': 'LeakyReLU', 'dropout': 0.1, 'training_strategy': None, 'loss_name': 'inverse', 'optimizer_name': 'SGD', 'batch_resample': True, 'epochs': 20, 'batch_size': 64, 'lr': 0.001, 'weight_decay': 0.0001}, training sucessfully.\n"
     ]
    },
    {
     "name": "stderr",
     "output_type": "stream",
     "text": [
      " 21%|█████████████████                                                                | 21/100 [27:38<52:05, 39.57s/it]"
     ]
    },
    {
     "name": "stdout",
     "output_type": "stream",
     "text": [
      "Dataset: 10_cover, Current combination: {'augmentation': None, 'preprocess': 'minmax', 'network_architecture': 'MLP', 'layers': 2, 'hidden_size_list': [100, 20], 'act_fun': 'LeakyReLU', 'dropout': 0.1, 'training_strategy': None, 'loss_name': 'deviation', 'optimizer_name': 'RMSprop', 'batch_resample': True, 'epochs': 20, 'batch_size': 16, 'lr': 0.001, 'weight_decay': 0.0001}, training sucessfully.\n"
     ]
    },
    {
     "name": "stderr",
     "output_type": "stream",
     "text": [
      " 22%|█████████████████▊                                                               | 22/100 [27:53<41:58, 32.28s/it]"
     ]
    },
    {
     "name": "stdout",
     "output_type": "stream",
     "text": [
      "Dataset: 10_cover, Current combination: {'augmentation': None, 'preprocess': 'minmax', 'network_architecture': 'MLP', 'layers': 1, 'hidden_size_list': [20], 'act_fun': 'Tanh', 'dropout': 0.1, 'training_strategy': None, 'loss_name': 'minus', 'optimizer_name': 'SGD', 'batch_resample': True, 'epochs': 100, 'batch_size': 256, 'lr': 0.001, 'weight_decay': 0.01}, training sucessfully.\n"
     ]
    },
    {
     "name": "stderr",
     "output_type": "stream",
     "text": [
      " 23%|██████████████████▏                                                            | 23/100 [29:51<1:14:31, 58.07s/it]"
     ]
    },
    {
     "name": "stdout",
     "output_type": "stream",
     "text": [
      "Dataset: 10_cover, Current combination: {'augmentation': None, 'preprocess': 'normalize', 'network_architecture': 'ResNet', 'layers': 1, 'hidden_size_list': [20], 'act_fun': 'ReLU', 'dropout': 0.3, 'training_strategy': None, 'loss_name': 'deviation', 'optimizer_name': 'Adam', 'batch_resample': True, 'epochs': 50, 'batch_size': 16, 'lr': 0.001, 'weight_decay': 0.0001}, training sucessfully.\n"
     ]
    },
    {
     "name": "stderr",
     "output_type": "stream",
     "text": [
      " 24%|██████████████████▉                                                            | 24/100 [30:16<1:00:42, 47.93s/it]"
     ]
    },
    {
     "name": "stdout",
     "output_type": "stream",
     "text": [
      "Dataset: 10_cover, Current combination: {'augmentation': None, 'preprocess': 'minmax', 'network_architecture': 'MLP', 'layers': 3, 'hidden_size_list': [100, 50, 20], 'act_fun': 'LeakyReLU', 'dropout': 0.0, 'training_strategy': None, 'loss_name': 'inverse', 'optimizer_name': 'SGD', 'batch_resample': True, 'epochs': 20, 'batch_size': 16, 'lr': 0.01, 'weight_decay': 0.0001}, training failure...Error: Input contains NaN, infinity or a value too large for dtype('float32').\n"
     ]
    },
    {
     "name": "stderr",
     "output_type": "stream",
     "text": [
      " 25%|███████████████████▊                                                           | 25/100 [32:34<1:33:44, 74.99s/it]"
     ]
    },
    {
     "name": "stdout",
     "output_type": "stream",
     "text": [
      "Dataset: 10_cover, Current combination: {'augmentation': None, 'preprocess': 'normalize', 'network_architecture': 'AE', 'layers': 2, 'hidden_size_list': [100, 20], 'act_fun': 'LeakyReLU', 'dropout': 0.3, 'training_strategy': None, 'loss_name': 'inverse', 'optimizer_name': 'RMSprop', 'batch_resample': True, 'epochs': 50, 'batch_size': 16, 'lr': 0.01, 'weight_decay': 0.0001}, training sucessfully.\n",
      "GPU is off\n"
     ]
    },
    {
     "name": "stderr",
     "output_type": "stream",
     "text": [
      " 26%|████████████████████▎                                                         | 26/100 [48:05<6:49:07, 331.72s/it]"
     ]
    },
    {
     "name": "stdout",
     "output_type": "stream",
     "text": [
      "Dataset: 10_cover, Current combination: {'augmentation': None, 'preprocess': 'minmax', 'network_architecture': 'FTT', 'layers': 2, 'hidden_size_list': None, 'act_fun': 'ReLU', 'dropout': None, 'training_strategy': None, 'loss_name': 'deviation', 'optimizer_name': 'RMSprop', 'batch_resample': True, 'epochs': 100, 'batch_size': 256, 'lr': 0.001, 'weight_decay': 0.0001}, training sucessfully.\n",
      "GPU is off\n"
     ]
    },
    {
     "name": "stderr",
     "output_type": "stream",
     "text": [
      " 27%|█████████████████████                                                         | 27/100 [55:05<7:16:00, 358.36s/it]"
     ]
    },
    {
     "name": "stdout",
     "output_type": "stream",
     "text": [
      "Dataset: 10_cover, Current combination: {'augmentation': None, 'preprocess': 'minmax', 'network_architecture': 'FTT', 'layers': 1, 'hidden_size_list': None, 'act_fun': 'ReLU', 'dropout': None, 'training_strategy': None, 'loss_name': 'inverse', 'optimizer_name': 'RMSprop', 'batch_resample': True, 'epochs': 50, 'batch_size': 16, 'lr': 0.001, 'weight_decay': 0.0001}, training sucessfully.\n"
     ]
    },
    {
     "name": "stderr",
     "output_type": "stream",
     "text": [
      " 28%|█████████████████████▊                                                        | 28/100 [56:16<5:26:25, 272.01s/it]"
     ]
    },
    {
     "name": "stdout",
     "output_type": "stream",
     "text": [
      "Dataset: 10_cover, Current combination: {'augmentation': None, 'preprocess': 'minmax', 'network_architecture': 'AE', 'layers': 1, 'hidden_size_list': [20], 'act_fun': 'Tanh', 'dropout': 0.1, 'training_strategy': None, 'loss_name': 'hinge', 'optimizer_name': 'Adam', 'batch_resample': True, 'epochs': 100, 'batch_size': 64, 'lr': 0.001, 'weight_decay': 0.0001}, training sucessfully.\n"
     ]
    },
    {
     "name": "stderr",
     "output_type": "stream",
     "text": [
      " 29%|██████████████████████▌                                                       | 29/100 [56:33<3:51:36, 195.72s/it]"
     ]
    },
    {
     "name": "stdout",
     "output_type": "stream",
     "text": [
      "Dataset: 10_cover, Current combination: {'augmentation': None, 'preprocess': 'minmax', 'network_architecture': 'AE', 'layers': 2, 'hidden_size_list': [100, 20], 'act_fun': 'Tanh', 'dropout': 0.3, 'training_strategy': None, 'loss_name': 'inverse', 'optimizer_name': 'Adam', 'batch_resample': True, 'epochs': 20, 'batch_size': 64, 'lr': 0.01, 'weight_decay': 0.0001}, training sucessfully.\n"
     ]
    },
    {
     "name": "stderr",
     "output_type": "stream",
     "text": [
      " 30%|███████████████████████▍                                                      | 30/100 [56:50<2:45:41, 142.01s/it]"
     ]
    },
    {
     "name": "stdout",
     "output_type": "stream",
     "text": [
      "Dataset: 10_cover, Current combination: {'augmentation': None, 'preprocess': 'normalize', 'network_architecture': 'ResNet', 'layers': 3, 'hidden_size_list': [100, 50, 20], 'act_fun': 'ReLU', 'dropout': 0.3, 'training_strategy': None, 'loss_name': 'inverse', 'optimizer_name': 'SGD', 'batch_resample': True, 'epochs': 50, 'batch_size': 256, 'lr': 0.001, 'weight_decay': 0.01}, training sucessfully.\n"
     ]
    },
    {
     "name": "stderr",
     "output_type": "stream",
     "text": [
      " 31%|████████████████████████▏                                                     | 31/100 [57:19<2:04:25, 108.20s/it]"
     ]
    },
    {
     "name": "stdout",
     "output_type": "stream",
     "text": [
      "Dataset: 10_cover, Current combination: {'augmentation': None, 'preprocess': 'normalize', 'network_architecture': 'AE', 'layers': 1, 'hidden_size_list': [20], 'act_fun': 'LeakyReLU', 'dropout': 0.3, 'training_strategy': None, 'loss_name': 'inverse', 'optimizer_name': 'SGD', 'batch_resample': True, 'epochs': 100, 'batch_size': 256, 'lr': 0.001, 'weight_decay': 0.01}, training sucessfully.\n"
     ]
    },
    {
     "name": "stderr",
     "output_type": "stream",
     "text": [
      " 32%|█████████████████████████▎                                                     | 32/100 [57:36<1:31:36, 80.83s/it]"
     ]
    },
    {
     "name": "stdout",
     "output_type": "stream",
     "text": [
      "Dataset: 10_cover, Current combination: {'augmentation': None, 'preprocess': 'normalize', 'network_architecture': 'AE', 'layers': 3, 'hidden_size_list': [100, 50, 20], 'act_fun': 'Tanh', 'dropout': 0.1, 'training_strategy': None, 'loss_name': 'deviation', 'optimizer_name': 'SGD', 'batch_resample': True, 'epochs': 20, 'batch_size': 64, 'lr': 0.01, 'weight_decay': 0.0001}, training sucessfully.\n"
     ]
    },
    {
     "name": "stderr",
     "output_type": "stream",
     "text": [
      " 33%|██████████████████████████                                                     | 33/100 [58:08<1:13:38, 65.95s/it]"
     ]
    },
    {
     "name": "stdout",
     "output_type": "stream",
     "text": [
      "Dataset: 10_cover, Current combination: {'augmentation': None, 'preprocess': 'normalize', 'network_architecture': 'MLP', 'layers': 2, 'hidden_size_list': [100, 20], 'act_fun': 'ReLU', 'dropout': 0.1, 'training_strategy': None, 'loss_name': 'hinge', 'optimizer_name': 'Adam', 'batch_resample': True, 'epochs': 20, 'batch_size': 16, 'lr': 0.01, 'weight_decay': 0.0001}, training sucessfully.\n",
      "GPU is off\n"
     ]
    },
    {
     "name": "stderr",
     "output_type": "stream",
     "text": [
      " 34%|█████████████████████████▊                                                  | 34/100 [1:12:28<5:34:34, 304.16s/it]"
     ]
    },
    {
     "name": "stdout",
     "output_type": "stream",
     "text": [
      "Dataset: 10_cover, Current combination: {'augmentation': None, 'preprocess': 'normalize', 'network_architecture': 'FTT', 'layers': 2, 'hidden_size_list': None, 'act_fun': 'ReLU', 'dropout': None, 'training_strategy': None, 'loss_name': 'minus', 'optimizer_name': 'RMSprop', 'batch_resample': True, 'epochs': 50, 'batch_size': 64, 'lr': 0.01, 'weight_decay': 0.01}, training sucessfully.\n"
     ]
    },
    {
     "name": "stderr",
     "output_type": "stream",
     "text": [
      " 35%|██████████████████████████▌                                                 | 35/100 [1:12:36<3:53:24, 215.46s/it]"
     ]
    },
    {
     "name": "stdout",
     "output_type": "stream",
     "text": [
      "Dataset: 10_cover, Current combination: {'augmentation': None, 'preprocess': 'minmax', 'network_architecture': 'MLP', 'layers': 1, 'hidden_size_list': [20], 'act_fun': 'ReLU', 'dropout': 0.0, 'training_strategy': None, 'loss_name': 'minus', 'optimizer_name': 'RMSprop', 'batch_resample': True, 'epochs': 50, 'batch_size': 256, 'lr': 0.001, 'weight_decay': 0.0001}, training sucessfully.\n",
      "GPU is off\n"
     ]
    }
   ],
   "source": [
    "for dataset in dataset_list:\n",
    "    # generate data\n",
    "    data_generator = DataGenerator(dataset=dataset)\n",
    "    data = data_generator.generator(la=0.20)\n",
    "    \n",
    "    for gym in tqdm(gyms):\n",
    "        com = Components(data=data,\n",
    "                         augmentation=gym['augmentation'],\n",
    "                         preprocess=gym['preprocess'],\n",
    "                         network_architecture=gym['network_architecture'],\n",
    "                         layers=gym['layers'],\n",
    "                         hidden_size_list=gym['hidden_size_list'],\n",
    "                         act_fun=gym['act_fun'],\n",
    "                         dropout=gym['dropout'],\n",
    "                         training_strategy=gym['training_strategy'],\n",
    "                         loss_name=gym['loss_name'],\n",
    "                         optimizer_name=gym['optimizer_name'],\n",
    "                         batch_resample=gym['batch_resample'],\n",
    "                         epochs=gym['epochs'],\n",
    "                         batch_size=gym['batch_size'],\n",
    "                         lr=gym['lr'],\n",
    "                         weight_decay=gym['weight_decay'])\n",
    "\n",
    "        try:\n",
    "            com.f_train()\n",
    "            metrics = com.f_predict_score()\n",
    "\n",
    "            df_results_AUCROC.loc[str(gym), dataset] = metrics['aucroc']\n",
    "            df_results_AUCPR.loc[str(gym), dataset] = metrics['aucpr']\n",
    "\n",
    "            print(f'Dataset: {dataset}, Current combination: {gym}, training sucessfully.')\n",
    "            df_results_AUCROC.to_csv('result_AUCROC.csv', index=True)\n",
    "            df_results_AUCPR.to_csv('result_AUCPR.csv', index=True)\n",
    "\n",
    "        except Exception as e:\n",
    "            print(f'Dataset: {dataset}, Current combination: {gym}, training failure...Error: {e}')\n",
    "            pass\n",
    "            continue"
   ]
  }
 ],
 "metadata": {
  "kernelspec": {
   "display_name": "Python 3",
   "language": "python",
   "name": "python3"
  },
  "language_info": {
   "codemirror_mode": {
    "name": "ipython",
    "version": 3
   },
   "file_extension": ".py",
   "mimetype": "text/x-python",
   "name": "python",
   "nbconvert_exporter": "python",
   "pygments_lexer": "ipython3",
   "version": "3.7.7"
  },
  "toc": {
   "base_numbering": 1,
   "nav_menu": {},
   "number_sections": true,
   "sideBar": true,
   "skip_h1_title": false,
   "title_cell": "Table of Contents",
   "title_sidebar": "Contents",
   "toc_cell": false,
   "toc_position": {},
   "toc_section_display": true,
   "toc_window_display": false
  },
  "varInspector": {
   "cols": {
    "lenName": 16,
    "lenType": 16,
    "lenVar": 40
   },
   "kernels_config": {
    "python": {
     "delete_cmd_postfix": "",
     "delete_cmd_prefix": "del ",
     "library": "var_list.py",
     "varRefreshCmd": "print(var_dic_list())"
    },
    "r": {
     "delete_cmd_postfix": ") ",
     "delete_cmd_prefix": "rm(",
     "library": "var_list.r",
     "varRefreshCmd": "cat(var_dic_list()) "
    }
   },
   "types_to_exclude": [
    "module",
    "function",
    "builtin_function_or_method",
    "instance",
    "_Feature"
   ],
   "window_display": false
  }
 },
 "nbformat": 4,
 "nbformat_minor": 4
}
