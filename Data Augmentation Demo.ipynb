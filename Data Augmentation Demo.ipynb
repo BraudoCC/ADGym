{
 "cells": [
  {
   "cell_type": "markdown",
   "metadata": {},
   "source": [
    "Demo by using GAN to generate tabular data"
   ]
  },
  {
   "cell_type": "code",
   "execution_count": 1,
   "metadata": {
    "ExecuteTime": {
     "end_time": "2022-11-23T14:42:56.857670Z",
     "start_time": "2022-11-23T14:42:54.570982Z"
    }
   },
   "outputs": [],
   "source": [
    "import os\n",
    "import pandas as pd\n",
    "import numpy as np\n",
    "import sklearn\n",
    "from sklearn.manifold import TSNE\n",
    "from sklearn import datasets\n",
    "from sklearn.ensemble import RandomForestClassifier\n",
    "from sklearn.model_selection import train_test_split\n",
    "from tabgan.sampler import OriginalGenerator, GANGenerator\n",
    "\n",
    "import matplotlib.pyplot as plt"
   ]
  },
  {
   "cell_type": "code",
   "execution_count": 2,
   "metadata": {
    "ExecuteTime": {
     "end_time": "2022-11-23T14:42:56.873665Z",
     "start_time": "2022-11-23T14:42:56.860671Z"
    }
   },
   "outputs": [],
   "source": [
    "from data_generator import DataGenerator\n",
    "data_generator = DataGenerator()"
   ]
  },
  {
   "cell_type": "code",
   "execution_count": 3,
   "metadata": {
    "ExecuteTime": {
     "end_time": "2022-11-23T14:42:56.889672Z",
     "start_time": "2022-11-23T14:42:56.875660Z"
    }
   },
   "outputs": [],
   "source": [
    "# using GAN to improve random forest\n",
    "def fit_predict(clf, X_train, y_train, X_test, y_test):\n",
    "    clf.fit(X_train, y_train)\n",
    "    return sklearn.metrics.roc_auc_score(y_test, clf.predict_proba(X_test)[:, 1])\n",
    "\n",
    "data_generator.dataset = '40_vowels'\n",
    "data_generator.seed = 42\n",
    "data = data_generator.generator(la=0.1)\n",
    "clf = RandomForestClassifier(n_estimators=25, max_depth=6)"
   ]
  },
  {
   "cell_type": "code",
   "execution_count": 4,
   "metadata": {
    "ExecuteTime": {
     "end_time": "2022-11-23T14:42:56.953469Z",
     "start_time": "2022-11-23T14:42:56.891665Z"
    },
    "scrolled": true
   },
   "outputs": [
    {
     "name": "stdout",
     "output_type": "stream",
     "text": [
      "initial metric 0.7563981042654028\n"
     ]
    },
    {
     "name": "stderr",
     "output_type": "stream",
     "text": [
      "F:\\Anaconda\\lib\\site-packages\\ipykernel_launcher.py:3: DataConversionWarning: A column-vector y was passed when a 1d array was expected. Please change the shape of y to (n_samples,), for example using ravel().\n",
      "  This is separate from the ipykernel package so we can avoid doing imports until\n"
     ]
    }
   ],
   "source": [
    "X_train, X_test, y_train, y_test = data['X_train'], data['X_test'], data['y_train'], data['y_test']\n",
    "\n",
    "X_train = pd.DataFrame(X_train)\n",
    "X_test = pd.DataFrame(X_test)\n",
    "\n",
    "y_train = pd.DataFrame(y_train, columns=['target'])\n",
    "y_test = pd.DataFrame(y_test, columns=['target'])\n",
    "\n",
    "print(\"initial metric\", fit_predict(clf, X_train, y_train, X_test, y_test))"
   ]
  },
  {
   "cell_type": "code",
   "execution_count": 5,
   "metadata": {
    "ExecuteTime": {
     "end_time": "2022-11-23T14:42:59.758971Z",
     "start_time": "2022-11-23T14:42:56.955474Z"
    }
   },
   "outputs": [],
   "source": [
    "X_tsne = TSNE(n_components=2, random_state=42).fit_transform(X_train)"
   ]
  },
  {
   "cell_type": "code",
   "execution_count": 6,
   "metadata": {
    "ExecuteTime": {
     "end_time": "2022-11-23T14:42:59.916561Z",
     "start_time": "2022-11-23T14:42:59.760966Z"
    }
   },
   "outputs": [
    {
     "data": {
      "text/plain": [
       "<matplotlib.collections.PathCollection at 0x2933f4b0108>"
      ]
     },
     "execution_count": 6,
     "metadata": {},
     "output_type": "execute_result"
    },
    {
     "data": {
      "image/png": "[encoded data removed]",
      "text/plain": [
       "<Figure size 432x288 with 1 Axes>"
      ]
     },
     "metadata": {
      "needs_background": "light"
     },
     "output_type": "display_data"
    }
   ],
   "source": [
    "plt.scatter(X_tsne[y_train.values.squeeze()==0, 0], X_tsne[y_train.values.squeeze()==0, 1], color='blue')\n",
    "plt.scatter(X_tsne[y_train.values.squeeze()==1, 0], X_tsne[y_train.values.squeeze()==1, 1], color='red')"
   ]
  },
  {
   "cell_type": "markdown",
   "metadata": {},
   "source": [
    "Oversampling"
   ]
  },
  {
   "cell_type": "code",
   "execution_count": null,
   "metadata": {},
   "outputs": [],
   "source": []
  },
  {
   "cell_type": "markdown",
   "metadata": {},
   "source": [
    "SMOTE"
   ]
  },
  {
   "cell_type": "code",
   "execution_count": 7,
   "metadata": {
    "ExecuteTime": {
     "end_time": "2022-11-23T14:42:59.932089Z",
     "start_time": "2022-11-23T14:42:59.918545Z"
    }
   },
   "outputs": [],
   "source": [
    "# from collections import Counter\n",
    "# from sklearn.datasets import make_classification\n",
    "# from imblearn.over_sampling import SMOTE \n",
    "# X, y = make_classification(n_classes=2, class_sep=2,\n",
    "# weights=[0.1, 0.9], n_informative=3, n_redundant=1, flip_y=0,\n",
    "# n_features=20, n_clusters_per_class=1, n_samples=1000, random_state=10)\n",
    "# print('Original dataset shape %s' % Counter(y))\n",
    "\n",
    "# sm = SMOTE(random_state=42)\n",
    "# X_res, y_res = sm.fit_resample(X, y)\n",
    "# print('Resampled dataset shape %s' % Counter(y_res))"
   ]
  },
  {
   "cell_type": "markdown",
   "metadata": {},
   "source": [
    "用GAN生成样本"
   ]
  },
  {
   "cell_type": "code",
   "execution_count": 8,
   "metadata": {
    "ExecuteTime": {
     "end_time": "2022-11-23T14:43:11.065335Z",
     "start_time": "2022-11-23T14:42:59.934074Z"
    }
   },
   "outputs": [
    {
     "data": {
      "application/vnd.jupyter.widget-view+json": {
       "model_id": "5ac70514b17446e5a2c599a36b066f82",
       "version_major": 2,
       "version_minor": 0
      },
      "text/plain": [
       "Fitting CTGAN transformers for each column:   0%|          | 0/13 [00:00<?, ?it/s]"
      ]
     },
     "metadata": {},
     "output_type": "display_data"
    },
    {
     "data": {
      "application/vnd.jupyter.widget-view+json": {
       "model_id": "312f725cc9f54168847721d2d11f263c",
       "version_major": 2,
       "version_minor": 0
      },
      "text/plain": [
       "Training CTGAN, epochs::   0%|          | 0/500 [00:00<?, ?it/s]"
      ]
     },
     "metadata": {},
     "output_type": "display_data"
    },
    {
     "name": "stdout",
     "output_type": "stream",
     "text": [
      "GANGenerator metric 0.625434439178515\n"
     ]
    }
   ],
   "source": [
    "# new_train1, new_target1 = OriginalGenerator().generate_data_pipe(X_train,\n",
    "#                                                                  y_train,\n",
    "#                                                                  X_train, )\n",
    "# print(\"OriginalGenerator metric\", fit_predict(clf, new_train1, new_target1, X_test, y_test))\n",
    "\n",
    "new_train1, new_target1 = GANGenerator(gen_x_times=0.2).generate_data_pipe(X_train,\n",
    "                                                                           y_train,\n",
    "                                                                           X_train,)\n",
    "print(\"GANGenerator metric\", fit_predict(clf, new_train1, new_target1, X_test, y_test))"
   ]
  },
  {
   "cell_type": "code",
   "execution_count": 9,
   "metadata": {
    "ExecuteTime": {
     "end_time": "2022-11-23T14:43:11.081293Z",
     "start_time": "2022-11-23T14:43:11.067330Z"
    }
   },
   "outputs": [
    {
     "name": "stdout",
     "output_type": "stream",
     "text": [
      "原始X: (1019, 12)\n",
      "增强X: (1250, 12)\n",
      "原始labeled anomalies :3\n",
      "增强labeled anomalies :2\n"
     ]
    }
   ],
   "source": [
    "print(f'原始X: {X_train.shape}')\n",
    "print(f'增强X: {new_train1.shape}')\n",
    "\n",
    "print(f'原始labeled anomalies :{sum(y_train.values.squeeze())}')\n",
    "print(f'增强labeled anomalies :{sum(new_target1)}')"
   ]
  },
  {
   "cell_type": "code",
   "execution_count": 10,
   "metadata": {
    "ExecuteTime": {
     "end_time": "2022-11-23T14:43:17.043341Z",
     "start_time": "2022-11-23T14:43:11.084284Z"
    }
   },
   "outputs": [],
   "source": [
    "X_tsne = TSNE(n_components=2, random_state=42).fit_transform(new_train1)"
   ]
  },
  {
   "cell_type": "code",
   "execution_count": 11,
   "metadata": {
    "ExecuteTime": {
     "end_time": "2022-11-23T14:43:17.231837Z",
     "start_time": "2022-11-23T14:43:17.045336Z"
    }
   },
   "outputs": [
    {
     "data": {
      "text/plain": [
       "<matplotlib.collections.PathCollection at 0x29344938588>"
      ]
     },
     "execution_count": 11,
     "metadata": {},
     "output_type": "execute_result"
    },
    {
     "data": {
      "image/png": "[encoded data removed]",
      "text/plain": [
       "<Figure size 432x288 with 1 Axes>"
      ]
     },
     "metadata": {
      "needs_background": "light"
     },
     "output_type": "display_data"
    }
   ],
   "source": [
    "plt.scatter(X_tsne[new_target1.values==0, 0], X_tsne[new_target1.values==0, 1], color='blue')\n",
    "plt.scatter(X_tsne[new_target1.values==1, 0], X_tsne[new_target1.values==1, 1], color='red')"
   ]
  },
  {
   "cell_type": "code",
   "execution_count": null,
   "metadata": {},
   "outputs": [],
   "source": []
  }
 ],
 "metadata": {
  "kernelspec": {
   "display_name": "Python 3",
   "language": "python",
   "name": "python3"
  },
  "language_info": {
   "codemirror_mode": {
    "name": "ipython",
    "version": 3
   },
   "file_extension": ".py",
   "mimetype": "text/x-python",
   "name": "python",
   "nbconvert_exporter": "python",
   "pygments_lexer": "ipython3",
   "version": "3.7.7"
  },
  "toc": {
   "base_numbering": 1,
   "nav_menu": {
    "height": "95px",
    "width": "181.992px"
   },
   "number_sections": true,
   "sideBar": true,
   "skip_h1_title": false,
   "title_cell": "Table of Contents",
   "title_sidebar": "Contents",
   "toc_cell": false,
   "toc_position": {},
   "toc_section_display": true,
   "toc_window_display": false
  },
  "varInspector": {
   "cols": {
    "lenName": 16,
    "lenType": 16,
    "lenVar": 40
   },
   "kernels_config": {
    "python": {
     "delete_cmd_postfix": "",
     "delete_cmd_prefix": "del ",
     "library": "var_list.py",
     "varRefreshCmd": "print(var_dic_list())"
    },
    "r": {
     "delete_cmd_postfix": ") ",
     "delete_cmd_prefix": "rm(",
     "library": "var_list.r",
     "varRefreshCmd": "cat(var_dic_list()) "
    }
   },
   "types_to_exclude": [
    "module",
    "function",
    "builtin_function_or_method",
    "instance",
    "_Feature"
   ],
   "window_display": false
  }
 },
 "nbformat": 4,
 "nbformat_minor": 4
}
